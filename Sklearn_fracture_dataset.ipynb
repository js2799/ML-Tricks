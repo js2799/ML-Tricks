{
 "cells": [
  {
   "cell_type": "code",
   "execution_count": 1,
   "id": "36af36b6",
   "metadata": {},
   "outputs": [],
   "source": [
    "import numpy as np"
   ]
  },
  {
   "cell_type": "code",
   "execution_count": 2,
   "id": "bcc9e1b8",
   "metadata": {},
   "outputs": [],
   "source": [
    "import pandas as pd"
   ]
  },
  {
   "cell_type": "code",
   "execution_count": 3,
   "id": "6ca88453",
   "metadata": {},
   "outputs": [],
   "source": [
    "fra=pd.read_csv('fracture.csv')"
   ]
  },
  {
   "cell_type": "code",
   "execution_count": 4,
   "id": "b3c3b1cb",
   "metadata": {},
   "outputs": [
    {
     "data": {
      "text/html": [
       "<div>\n",
       "<style scoped>\n",
       "    .dataframe tbody tr th:only-of-type {\n",
       "        vertical-align: middle;\n",
       "    }\n",
       "\n",
       "    .dataframe tbody tr th {\n",
       "        vertical-align: top;\n",
       "    }\n",
       "\n",
       "    .dataframe thead th {\n",
       "        text-align: right;\n",
       "    }\n",
       "</style>\n",
       "<table border=\"1\" class=\"dataframe\">\n",
       "  <thead>\n",
       "    <tr style=\"text-align: right;\">\n",
       "      <th></th>\n",
       "      <th>id</th>\n",
       "      <th>age</th>\n",
       "      <th>sex</th>\n",
       "      <th>fracture</th>\n",
       "      <th>weight_kg</th>\n",
       "      <th>height_cm</th>\n",
       "      <th>medication</th>\n",
       "      <th>waiting_time</th>\n",
       "      <th>bmd</th>\n",
       "    </tr>\n",
       "  </thead>\n",
       "  <tbody>\n",
       "    <tr>\n",
       "      <th>0</th>\n",
       "      <td>469</td>\n",
       "      <td>57.052768</td>\n",
       "      <td>F</td>\n",
       "      <td>no fracture</td>\n",
       "      <td>64.0</td>\n",
       "      <td>155.5</td>\n",
       "      <td>Anticonvulsant</td>\n",
       "      <td>18</td>\n",
       "      <td>0.8793</td>\n",
       "    </tr>\n",
       "    <tr>\n",
       "      <th>1</th>\n",
       "      <td>8724</td>\n",
       "      <td>75.741225</td>\n",
       "      <td>F</td>\n",
       "      <td>no fracture</td>\n",
       "      <td>78.0</td>\n",
       "      <td>162.0</td>\n",
       "      <td>No medication</td>\n",
       "      <td>56</td>\n",
       "      <td>0.7946</td>\n",
       "    </tr>\n",
       "    <tr>\n",
       "      <th>2</th>\n",
       "      <td>6736</td>\n",
       "      <td>70.778900</td>\n",
       "      <td>M</td>\n",
       "      <td>no fracture</td>\n",
       "      <td>73.0</td>\n",
       "      <td>170.5</td>\n",
       "      <td>No medication</td>\n",
       "      <td>10</td>\n",
       "      <td>0.9067</td>\n",
       "    </tr>\n",
       "    <tr>\n",
       "      <th>3</th>\n",
       "      <td>24180</td>\n",
       "      <td>78.247175</td>\n",
       "      <td>F</td>\n",
       "      <td>no fracture</td>\n",
       "      <td>60.0</td>\n",
       "      <td>148.0</td>\n",
       "      <td>No medication</td>\n",
       "      <td>14</td>\n",
       "      <td>0.7112</td>\n",
       "    </tr>\n",
       "    <tr>\n",
       "      <th>4</th>\n",
       "      <td>17072</td>\n",
       "      <td>54.191877</td>\n",
       "      <td>M</td>\n",
       "      <td>no fracture</td>\n",
       "      <td>55.0</td>\n",
       "      <td>161.0</td>\n",
       "      <td>No medication</td>\n",
       "      <td>20</td>\n",
       "      <td>0.7909</td>\n",
       "    </tr>\n",
       "    <tr>\n",
       "      <th>...</th>\n",
       "      <td>...</td>\n",
       "      <td>...</td>\n",
       "      <td>...</td>\n",
       "      <td>...</td>\n",
       "      <td>...</td>\n",
       "      <td>...</td>\n",
       "      <td>...</td>\n",
       "      <td>...</td>\n",
       "      <td>...</td>\n",
       "    </tr>\n",
       "    <tr>\n",
       "      <th>164</th>\n",
       "      <td>21892</td>\n",
       "      <td>77.982543</td>\n",
       "      <td>M</td>\n",
       "      <td>fracture</td>\n",
       "      <td>74.0</td>\n",
       "      <td>164.0</td>\n",
       "      <td>No medication</td>\n",
       "      <td>49</td>\n",
       "      <td>0.7941</td>\n",
       "    </tr>\n",
       "    <tr>\n",
       "      <th>165</th>\n",
       "      <td>24140</td>\n",
       "      <td>50.285303</td>\n",
       "      <td>F</td>\n",
       "      <td>fracture</td>\n",
       "      <td>59.0</td>\n",
       "      <td>161.0</td>\n",
       "      <td>No medication</td>\n",
       "      <td>6</td>\n",
       "      <td>0.7971</td>\n",
       "    </tr>\n",
       "    <tr>\n",
       "      <th>166</th>\n",
       "      <td>6969</td>\n",
       "      <td>46.359721</td>\n",
       "      <td>M</td>\n",
       "      <td>fracture</td>\n",
       "      <td>67.0</td>\n",
       "      <td>169.0</td>\n",
       "      <td>No medication</td>\n",
       "      <td>10</td>\n",
       "      <td>0.8037</td>\n",
       "    </tr>\n",
       "    <tr>\n",
       "      <th>167</th>\n",
       "      <td>5505</td>\n",
       "      <td>54.788368</td>\n",
       "      <td>M</td>\n",
       "      <td>fracture</td>\n",
       "      <td>70.0</td>\n",
       "      <td>166.0</td>\n",
       "      <td>No medication</td>\n",
       "      <td>14</td>\n",
       "      <td>0.8072</td>\n",
       "    </tr>\n",
       "    <tr>\n",
       "      <th>168</th>\n",
       "      <td>71</td>\n",
       "      <td>69.994822</td>\n",
       "      <td>F</td>\n",
       "      <td>fracture</td>\n",
       "      <td>68.5</td>\n",
       "      <td>165.0</td>\n",
       "      <td>No medication</td>\n",
       "      <td>25</td>\n",
       "      <td>0.8664</td>\n",
       "    </tr>\n",
       "  </tbody>\n",
       "</table>\n",
       "<p>169 rows × 9 columns</p>\n",
       "</div>"
      ],
      "text/plain": [
       "        id        age sex     fracture  weight_kg  height_cm      medication  \\\n",
       "0      469  57.052768   F  no fracture       64.0      155.5  Anticonvulsant   \n",
       "1     8724  75.741225   F  no fracture       78.0      162.0   No medication   \n",
       "2     6736  70.778900   M  no fracture       73.0      170.5   No medication   \n",
       "3    24180  78.247175   F  no fracture       60.0      148.0   No medication   \n",
       "4    17072  54.191877   M  no fracture       55.0      161.0   No medication   \n",
       "..     ...        ...  ..          ...        ...        ...             ...   \n",
       "164  21892  77.982543   M     fracture       74.0      164.0   No medication   \n",
       "165  24140  50.285303   F     fracture       59.0      161.0   No medication   \n",
       "166   6969  46.359721   M     fracture       67.0      169.0   No medication   \n",
       "167   5505  54.788368   M     fracture       70.0      166.0   No medication   \n",
       "168     71  69.994822   F     fracture       68.5      165.0   No medication   \n",
       "\n",
       "     waiting_time     bmd  \n",
       "0              18  0.8793  \n",
       "1              56  0.7946  \n",
       "2              10  0.9067  \n",
       "3              14  0.7112  \n",
       "4              20  0.7909  \n",
       "..            ...     ...  \n",
       "164            49  0.7941  \n",
       "165             6  0.7971  \n",
       "166            10  0.8037  \n",
       "167            14  0.8072  \n",
       "168            25  0.8664  \n",
       "\n",
       "[169 rows x 9 columns]"
      ]
     },
     "execution_count": 4,
     "metadata": {},
     "output_type": "execute_result"
    }
   ],
   "source": [
    "fra"
   ]
  },
  {
   "cell_type": "code",
   "execution_count": 5,
   "id": "be46c445",
   "metadata": {},
   "outputs": [
    {
     "name": "stdout",
     "output_type": "stream",
     "text": [
      "<class 'pandas.core.frame.DataFrame'>\n",
      "RangeIndex: 169 entries, 0 to 168\n",
      "Data columns (total 9 columns):\n",
      " #   Column        Non-Null Count  Dtype  \n",
      "---  ------        --------------  -----  \n",
      " 0   id            169 non-null    int64  \n",
      " 1   age           169 non-null    float64\n",
      " 2   sex           169 non-null    object \n",
      " 3   fracture      169 non-null    object \n",
      " 4   weight_kg     169 non-null    float64\n",
      " 5   height_cm     169 non-null    float64\n",
      " 6   medication    169 non-null    object \n",
      " 7   waiting_time  169 non-null    int64  \n",
      " 8   bmd           169 non-null    float64\n",
      "dtypes: float64(4), int64(2), object(3)\n",
      "memory usage: 12.0+ KB\n"
     ]
    }
   ],
   "source": [
    "fra.info()"
   ]
  },
  {
   "cell_type": "code",
   "execution_count": 6,
   "id": "62fa6aca",
   "metadata": {},
   "outputs": [],
   "source": [
    "fra['bmi']=fra['weight_kg']/(fra['height_cm']/100**2)"
   ]
  },
  {
   "cell_type": "code",
   "execution_count": 7,
   "id": "f8dbb0b6",
   "metadata": {},
   "outputs": [
    {
     "name": "stdout",
     "output_type": "stream",
     "text": [
      "<class 'pandas.core.frame.DataFrame'>\n",
      "RangeIndex: 169 entries, 0 to 168\n",
      "Data columns (total 10 columns):\n",
      " #   Column        Non-Null Count  Dtype  \n",
      "---  ------        --------------  -----  \n",
      " 0   id            169 non-null    int64  \n",
      " 1   age           169 non-null    float64\n",
      " 2   sex           169 non-null    object \n",
      " 3   fracture      169 non-null    object \n",
      " 4   weight_kg     169 non-null    float64\n",
      " 5   height_cm     169 non-null    float64\n",
      " 6   medication    169 non-null    object \n",
      " 7   waiting_time  169 non-null    int64  \n",
      " 8   bmd           169 non-null    float64\n",
      " 9   bmi           169 non-null    float64\n",
      "dtypes: float64(5), int64(2), object(3)\n",
      "memory usage: 13.3+ KB\n"
     ]
    }
   ],
   "source": [
    "fra.info()"
   ]
  },
  {
   "cell_type": "code",
   "execution_count": 8,
   "id": "45eddc3f",
   "metadata": {},
   "outputs": [],
   "source": [
    "fra['sex']=fra['sex'].map({\"M\":0,\"F\":1})"
   ]
  },
  {
   "cell_type": "code",
   "execution_count": 9,
   "id": "83d6e53c",
   "metadata": {},
   "outputs": [
    {
     "data": {
      "text/plain": [
       "0    86\n",
       "1    83\n",
       "Name: sex, dtype: int64"
      ]
     },
     "execution_count": 9,
     "metadata": {},
     "output_type": "execute_result"
    }
   ],
   "source": [
    "fra['sex'].value_counts()"
   ]
  },
  {
   "cell_type": "code",
   "execution_count": 10,
   "id": "a6f51b59",
   "metadata": {},
   "outputs": [
    {
     "name": "stdout",
     "output_type": "stream",
     "text": [
      "<class 'pandas.core.frame.DataFrame'>\n",
      "RangeIndex: 169 entries, 0 to 168\n",
      "Data columns (total 10 columns):\n",
      " #   Column        Non-Null Count  Dtype  \n",
      "---  ------        --------------  -----  \n",
      " 0   id            169 non-null    int64  \n",
      " 1   age           169 non-null    float64\n",
      " 2   sex           169 non-null    int64  \n",
      " 3   fracture      169 non-null    object \n",
      " 4   weight_kg     169 non-null    float64\n",
      " 5   height_cm     169 non-null    float64\n",
      " 6   medication    169 non-null    object \n",
      " 7   waiting_time  169 non-null    int64  \n",
      " 8   bmd           169 non-null    float64\n",
      " 9   bmi           169 non-null    float64\n",
      "dtypes: float64(5), int64(3), object(2)\n",
      "memory usage: 13.3+ KB\n"
     ]
    }
   ],
   "source": [
    "fra.info()"
   ]
  },
  {
   "cell_type": "code",
   "execution_count": 12,
   "id": "a144be69",
   "metadata": {},
   "outputs": [],
   "source": [
    "fra['age']=fra['age'].astype('int64')\n",
    "fra['bmd']=fra['bmd'].astype('int64')\n",
    "fra['bmi']=fra['bmi'].astype('int64')"
   ]
  },
  {
   "cell_type": "code",
   "execution_count": 13,
   "id": "e4ef82c8",
   "metadata": {},
   "outputs": [
    {
     "name": "stdout",
     "output_type": "stream",
     "text": [
      "<class 'pandas.core.frame.DataFrame'>\n",
      "RangeIndex: 169 entries, 0 to 168\n",
      "Data columns (total 10 columns):\n",
      " #   Column        Non-Null Count  Dtype  \n",
      "---  ------        --------------  -----  \n",
      " 0   id            169 non-null    int64  \n",
      " 1   age           169 non-null    int64  \n",
      " 2   sex           169 non-null    int64  \n",
      " 3   fracture      169 non-null    object \n",
      " 4   weight_kg     169 non-null    float64\n",
      " 5   height_cm     169 non-null    float64\n",
      " 6   medication    169 non-null    object \n",
      " 7   waiting_time  169 non-null    int64  \n",
      " 8   bmd           169 non-null    int64  \n",
      " 9   bmi           169 non-null    int64  \n",
      "dtypes: float64(2), int64(6), object(2)\n",
      "memory usage: 13.3+ KB\n"
     ]
    }
   ],
   "source": [
    "fra.info()"
   ]
  },
  {
   "cell_type": "code",
   "execution_count": 16,
   "id": "01ace9f7",
   "metadata": {},
   "outputs": [],
   "source": [
    "frac=fra.drop(columns=['weight_kg','height_cm','medication','waiting_time'])"
   ]
  },
  {
   "cell_type": "code",
   "execution_count": 17,
   "id": "21334bed",
   "metadata": {},
   "outputs": [
    {
     "name": "stdout",
     "output_type": "stream",
     "text": [
      "<class 'pandas.core.frame.DataFrame'>\n",
      "RangeIndex: 169 entries, 0 to 168\n",
      "Data columns (total 6 columns):\n",
      " #   Column    Non-Null Count  Dtype \n",
      "---  ------    --------------  ----- \n",
      " 0   id        169 non-null    int64 \n",
      " 1   age       169 non-null    int64 \n",
      " 2   sex       169 non-null    int64 \n",
      " 3   fracture  169 non-null    object\n",
      " 4   bmd       169 non-null    int64 \n",
      " 5   bmi       169 non-null    int64 \n",
      "dtypes: int64(5), object(1)\n",
      "memory usage: 8.0+ KB\n"
     ]
    }
   ],
   "source": [
    "frac.info()"
   ]
  },
  {
   "cell_type": "code",
   "execution_count": 18,
   "id": "3570336e",
   "metadata": {},
   "outputs": [
    {
     "data": {
      "text/plain": [
       "no fracture    119\n",
       "fracture        50\n",
       "Name: fracture, dtype: int64"
      ]
     },
     "execution_count": 18,
     "metadata": {},
     "output_type": "execute_result"
    }
   ],
   "source": [
    "frac['fracture'].value_counts()"
   ]
  },
  {
   "cell_type": "code",
   "execution_count": 22,
   "id": "aa00e4f5",
   "metadata": {},
   "outputs": [
    {
     "data": {
      "text/plain": [
       "array([[  57,    1,    0, 4115],\n",
       "       [  75,    1,    0, 4814],\n",
       "       [  70,    0,    0, 4281],\n",
       "       [  78,    1,    0, 4054],\n",
       "       [  54,    0,    0, 3416],\n",
       "       [  77,    0,    0, 3869],\n",
       "       [  56,    0,    1, 4842],\n",
       "       [  49,    1,    0, 3933],\n",
       "       [  68,    0,    0, 3832],\n",
       "       [  66,    0,    0, 4514],\n",
       "       [  45,    0,    0, 3668],\n",
       "       [  73,    1,    0, 4146],\n",
       "       [  60,    1,    0, 4903],\n",
       "       [  64,    0,    0, 5142],\n",
       "       [  53,    0,    0, 4307],\n",
       "       [  66,    0,    0, 4444],\n",
       "       [  57,    0,    0, 4187],\n",
       "       [  40,    0,    1, 4000],\n",
       "       [  69,    1,    0, 4675],\n",
       "       [  57,    1,    0, 3289],\n",
       "       [  58,    1,    0, 3831],\n",
       "       [  46,    0,    0, 4269],\n",
       "       [  65,    1,    0, 5103],\n",
       "       [  60,    1,    0, 3583],\n",
       "       [  54,    0,    0, 4360],\n",
       "       [  51,    1,    0, 4383],\n",
       "       [  70,    0,    1, 4071],\n",
       "       [  77,    0,    1, 4156],\n",
       "       [  70,    1,    0, 3395],\n",
       "       [  75,    0,    0, 3976],\n",
       "       [  54,    0,    1, 4107],\n",
       "       [  70,    1,    0, 3806],\n",
       "       [  48,    0,    0, 5680],\n",
       "       [  49,    1,    0, 3066],\n",
       "       [  41,    0,    1, 4125],\n",
       "       [  67,    0,    1, 4705],\n",
       "       [  60,    0,    1, 4388],\n",
       "       [  62,    0,    0, 4844],\n",
       "       [  69,    0,    1, 4878],\n",
       "       [  81,    1,    0, 5379],\n",
       "       [  73,    1,    0, 3398],\n",
       "       [  54,    1,    1, 4303],\n",
       "       [  66,    1,    0, 3921],\n",
       "       [  83,    0,    0, 4846],\n",
       "       [  67,    1,    0, 3733],\n",
       "       [  82,    1,    0, 4743],\n",
       "       [  54,    0,    0, 2958],\n",
       "       [  42,    1,    0, 3708],\n",
       "       [  69,    0,    1, 5106],\n",
       "       [  76,    0,    1, 5269],\n",
       "       [  43,    0,    1, 4545],\n",
       "       [  67,    0,    0, 2452],\n",
       "       [  56,    1,    0, 4518],\n",
       "       [  88,    0,    0, 3790],\n",
       "       [  70,    1,    0, 5163],\n",
       "       [  62,    1,    0, 5723],\n",
       "       [  61,    1,    0, 4496],\n",
       "       [  48,    0,    0, 4250],\n",
       "       [  49,    1,    0, 4485],\n",
       "       [  36,    0,    0, 3085],\n",
       "       [  63,    1,    0, 3987],\n",
       "       [  74,    0,    0, 3614],\n",
       "       [  63,    1,    0, 3746],\n",
       "       [  56,    1,    0, 3597],\n",
       "       [  46,    1,    0, 3566],\n",
       "       [  47,    1,    0, 3164],\n",
       "       [  84,    0,    1, 4121],\n",
       "       [  54,    1,    0, 4312],\n",
       "       [  51,    1,    0, 3506],\n",
       "       [  61,    1,    0, 4605],\n",
       "       [  73,    0,    0, 4559],\n",
       "       [  54,    1,    0, 3924],\n",
       "       [  66,    0,    0, 4518],\n",
       "       [  59,    1,    0, 5521],\n",
       "       [  50,    1,    0, 4520],\n",
       "       [  55,    1,    0, 3687],\n",
       "       [  56,    0,    1, 4277],\n",
       "       [  63,    0,    0, 3353],\n",
       "       [  72,    0,    0, 4207],\n",
       "       [  58,    1,    0, 3388],\n",
       "       [  58,    0,    0, 3647],\n",
       "       [  58,    0,    1, 5170],\n",
       "       [  39,    0,    1, 4380],\n",
       "       [  60,    1,    0, 4430],\n",
       "       [  63,    1,    0, 3684],\n",
       "       [  44,    0,    0, 4576],\n",
       "       [  79,    0,    0, 4720],\n",
       "       [  65,    0,    0, 4267],\n",
       "       [  66,    1,    0, 3962],\n",
       "       [  35,    0,    0, 4688],\n",
       "       [  69,    0,    0, 4753],\n",
       "       [  59,    0,    0, 3374],\n",
       "       [  59,    0,    0, 4457],\n",
       "       [  61,    1,    0, 4276],\n",
       "       [  69,    1,    0, 4936],\n",
       "       [  52,    0,    0, 4303],\n",
       "       [  72,    1,    0, 5418],\n",
       "       [  60,    0,    1, 5662],\n",
       "       [  58,    1,    0, 4966],\n",
       "       [  54,    1,    0, 3444],\n",
       "       [  52,    1,    0, 3961],\n",
       "       [  63,    0,    1, 4409],\n",
       "       [  64,    1,    0, 3636],\n",
       "       [  52,    0,    0, 4387],\n",
       "       [  49,    0,    0, 4203],\n",
       "       [  68,    1,    0, 2981],\n",
       "       [  77,    1,    0, 3289],\n",
       "       [  68,    1,    0, 4545],\n",
       "       [  44,    0,    0, 3895],\n",
       "       [  67,    1,    1, 3899],\n",
       "       [  68,    1,    0, 3402],\n",
       "       [  52,    1,    0, 3920],\n",
       "       [  60,    0,    0, 4384],\n",
       "       [  43,    0,    0, 3148],\n",
       "       [  57,    0,    1, 4204],\n",
       "       [  56,    0,    0, 3981],\n",
       "       [  52,    0,    0, 3809],\n",
       "       [  56,    1,    0, 3773],\n",
       "       [  66,    1,    0, 4119],\n",
       "       [  83,    1,    0, 3333],\n",
       "       [  81,    0,    0, 3506],\n",
       "       [  53,    0,    0, 4220],\n",
       "       [  69,    1,    0, 3566],\n",
       "       [  73,    0,    0, 3253],\n",
       "       [  87,    0,    0, 3642],\n",
       "       [  77,    1,    0, 4066],\n",
       "       [  81,    1,    0, 3344],\n",
       "       [  53,    1,    0, 2666],\n",
       "       [  80,    0,    0, 4968],\n",
       "       [  76,    1,    0, 2434],\n",
       "       [  82,    0,    0, 3037],\n",
       "       [  57,    1,    0, 2368],\n",
       "       [  77,    1,    0, 3178],\n",
       "       [  76,    1,    0, 3561],\n",
       "       [  54,    0,    0, 4906],\n",
       "       [  72,    1,    0, 3246],\n",
       "       [  68,    1,    0, 3790],\n",
       "       [  88,    0,    0, 3432],\n",
       "       [  69,    1,    0, 5723],\n",
       "       [  71,    1,    0, 4256],\n",
       "       [  70,    0,    0, 3532],\n",
       "       [  74,    1,    0, 3000],\n",
       "       [  83,    1,    0, 3400],\n",
       "       [  81,    0,    0, 3975],\n",
       "       [  85,    0,    0, 3496],\n",
       "       [  71,    0,    0, 3502],\n",
       "       [  76,    1,    0, 4694],\n",
       "       [  83,    0,    0, 3333],\n",
       "       [  85,    1,    0, 2887],\n",
       "       [  70,    1,    0, 4370],\n",
       "       [  68,    1,    0, 3116],\n",
       "       [  86,    0,    0, 3176],\n",
       "       [  80,    0,    0, 3815],\n",
       "       [  61,    1,    0, 3395],\n",
       "       [  66,    0,    0, 3620],\n",
       "       [  37,    0,    0, 3525],\n",
       "       [  63,    0,    0, 3678],\n",
       "       [  51,    1,    0, 4133],\n",
       "       [  48,    1,    0, 3448],\n",
       "       [  41,    0,    0, 2821],\n",
       "       [  84,    0,    0, 3229],\n",
       "       [  59,    0,    0, 3764],\n",
       "       [  50,    1,    0, 3529],\n",
       "       [  67,    0,    0, 4651],\n",
       "       [  77,    0,    0, 4512],\n",
       "       [  50,    1,    0, 3664],\n",
       "       [  46,    0,    0, 3964],\n",
       "       [  54,    0,    0, 4216],\n",
       "       [  69,    1,    0, 4151]], dtype=int64)"
      ]
     },
     "execution_count": 22,
     "metadata": {},
     "output_type": "execute_result"
    }
   ],
   "source": [
    "x=frac.iloc[:,[1,2,4,5]].values\n",
    "x"
   ]
  },
  {
   "cell_type": "code",
   "execution_count": 24,
   "id": "22077cff",
   "metadata": {},
   "outputs": [
    {
     "data": {
      "text/plain": [
       "array(['no fracture', 'no fracture', 'no fracture', 'no fracture',\n",
       "       'no fracture', 'no fracture', 'no fracture', 'no fracture',\n",
       "       'no fracture', 'no fracture', 'no fracture', 'no fracture',\n",
       "       'no fracture', 'no fracture', 'no fracture', 'no fracture',\n",
       "       'no fracture', 'no fracture', 'no fracture', 'no fracture',\n",
       "       'no fracture', 'no fracture', 'no fracture', 'no fracture',\n",
       "       'no fracture', 'no fracture', 'no fracture', 'no fracture',\n",
       "       'no fracture', 'no fracture', 'no fracture', 'no fracture',\n",
       "       'no fracture', 'no fracture', 'no fracture', 'no fracture',\n",
       "       'no fracture', 'no fracture', 'no fracture', 'no fracture',\n",
       "       'no fracture', 'no fracture', 'no fracture', 'no fracture',\n",
       "       'no fracture', 'no fracture', 'no fracture', 'no fracture',\n",
       "       'no fracture', 'no fracture', 'no fracture', 'no fracture',\n",
       "       'no fracture', 'no fracture', 'no fracture', 'no fracture',\n",
       "       'no fracture', 'no fracture', 'no fracture', 'no fracture',\n",
       "       'no fracture', 'no fracture', 'no fracture', 'no fracture',\n",
       "       'no fracture', 'no fracture', 'no fracture', 'no fracture',\n",
       "       'no fracture', 'no fracture', 'no fracture', 'no fracture',\n",
       "       'no fracture', 'no fracture', 'no fracture', 'no fracture',\n",
       "       'no fracture', 'no fracture', 'no fracture', 'no fracture',\n",
       "       'no fracture', 'no fracture', 'no fracture', 'no fracture',\n",
       "       'no fracture', 'no fracture', 'no fracture', 'no fracture',\n",
       "       'no fracture', 'no fracture', 'no fracture', 'no fracture',\n",
       "       'no fracture', 'no fracture', 'no fracture', 'no fracture',\n",
       "       'no fracture', 'no fracture', 'no fracture', 'no fracture',\n",
       "       'no fracture', 'no fracture', 'no fracture', 'no fracture',\n",
       "       'no fracture', 'no fracture', 'no fracture', 'no fracture',\n",
       "       'no fracture', 'no fracture', 'no fracture', 'no fracture',\n",
       "       'no fracture', 'no fracture', 'no fracture', 'no fracture',\n",
       "       'no fracture', 'no fracture', 'no fracture', 'fracture',\n",
       "       'fracture', 'fracture', 'fracture', 'fracture', 'fracture',\n",
       "       'fracture', 'fracture', 'fracture', 'fracture', 'fracture',\n",
       "       'fracture', 'fracture', 'fracture', 'fracture', 'fracture',\n",
       "       'fracture', 'fracture', 'fracture', 'fracture', 'fracture',\n",
       "       'fracture', 'fracture', 'fracture', 'fracture', 'fracture',\n",
       "       'fracture', 'fracture', 'fracture', 'fracture', 'fracture',\n",
       "       'fracture', 'fracture', 'fracture', 'fracture', 'fracture',\n",
       "       'fracture', 'fracture', 'fracture', 'fracture', 'fracture',\n",
       "       'fracture', 'fracture', 'fracture', 'fracture', 'fracture',\n",
       "       'fracture', 'fracture', 'fracture', 'fracture'], dtype=object)"
      ]
     },
     "execution_count": 24,
     "metadata": {},
     "output_type": "execute_result"
    }
   ],
   "source": [
    "y=frac.iloc[:,3].values\n",
    "y"
   ]
  },
  {
   "cell_type": "code",
   "execution_count": 25,
   "id": "d3c9e2bb",
   "metadata": {},
   "outputs": [],
   "source": [
    "from sklearn.preprocessing import LabelEncoder"
   ]
  },
  {
   "cell_type": "code",
   "execution_count": 26,
   "id": "09e20712",
   "metadata": {},
   "outputs": [],
   "source": [
    "labelencoder_y = LabelEncoder()"
   ]
  },
  {
   "cell_type": "code",
   "execution_count": 27,
   "id": "be7f8436",
   "metadata": {},
   "outputs": [
    {
     "data": {
      "text/plain": [
       "array([1, 1, 1, 1, 1, 1, 1, 1, 1, 1, 1, 1, 1, 1, 1, 1, 1, 1, 1, 1, 1, 1,\n",
       "       1, 1, 1, 1, 1, 1, 1, 1, 1, 1, 1, 1, 1, 1, 1, 1, 1, 1, 1, 1, 1, 1,\n",
       "       1, 1, 1, 1, 1, 1, 1, 1, 1, 1, 1, 1, 1, 1, 1, 1, 1, 1, 1, 1, 1, 1,\n",
       "       1, 1, 1, 1, 1, 1, 1, 1, 1, 1, 1, 1, 1, 1, 1, 1, 1, 1, 1, 1, 1, 1,\n",
       "       1, 1, 1, 1, 1, 1, 1, 1, 1, 1, 1, 1, 1, 1, 1, 1, 1, 1, 1, 1, 1, 1,\n",
       "       1, 1, 1, 1, 1, 1, 1, 1, 1, 0, 0, 0, 0, 0, 0, 0, 0, 0, 0, 0, 0, 0,\n",
       "       0, 0, 0, 0, 0, 0, 0, 0, 0, 0, 0, 0, 0, 0, 0, 0, 0, 0, 0, 0, 0, 0,\n",
       "       0, 0, 0, 0, 0, 0, 0, 0, 0, 0, 0, 0, 0, 0, 0])"
      ]
     },
     "execution_count": 27,
     "metadata": {},
     "output_type": "execute_result"
    }
   ],
   "source": [
    "labelencoder_y.fit_transform(y)"
   ]
  },
  {
   "cell_type": "code",
   "execution_count": 29,
   "id": "38b08317",
   "metadata": {},
   "outputs": [],
   "source": [
    "from sklearn.model_selection import train_test_split"
   ]
  },
  {
   "cell_type": "code",
   "execution_count": 30,
   "id": "f2401d70",
   "metadata": {},
   "outputs": [],
   "source": [
    "x_train,x_test,y_train,y_test= train_test_split(x,y,test_size=0.3)"
   ]
  },
  {
   "cell_type": "code",
   "execution_count": 33,
   "id": "83f48aa6",
   "metadata": {},
   "outputs": [
    {
     "name": "stdout",
     "output_type": "stream",
     "text": [
      "472\n",
      "204\n",
      "118\n",
      "51\n"
     ]
    }
   ],
   "source": [
    "print(x_train.size)\n",
    "print(x_test.size)\n",
    "print(y_train.size)\n",
    "print(y_test.size)"
   ]
  },
  {
   "cell_type": "code",
   "execution_count": 37,
   "id": "96020ed2",
   "metadata": {},
   "outputs": [],
   "source": [
    "from sklearn.linear_model import LogisticRegression"
   ]
  },
  {
   "cell_type": "code",
   "execution_count": 38,
   "id": "d86bb175",
   "metadata": {},
   "outputs": [
    {
     "data": {
      "text/plain": [
       "LogisticRegression()"
      ]
     },
     "execution_count": 38,
     "metadata": {},
     "output_type": "execute_result"
    }
   ],
   "source": [
    "logModel =LogisticRegression()\n",
    "logModel.fit(x_train,y_train)"
   ]
  },
  {
   "cell_type": "code",
   "execution_count": 40,
   "id": "3141ff8e",
   "metadata": {},
   "outputs": [
    {
     "data": {
      "text/plain": [
       "array(['no fracture', 'no fracture', 'fracture', 'no fracture',\n",
       "       'no fracture', 'no fracture', 'no fracture', 'no fracture',\n",
       "       'no fracture', 'no fracture', 'no fracture', 'no fracture',\n",
       "       'no fracture', 'fracture', 'no fracture', 'no fracture',\n",
       "       'no fracture', 'no fracture', 'no fracture', 'fracture',\n",
       "       'no fracture', 'no fracture', 'no fracture', 'fracture',\n",
       "       'fracture', 'no fracture', 'no fracture', 'no fracture',\n",
       "       'fracture', 'fracture', 'no fracture', 'no fracture',\n",
       "       'no fracture', 'no fracture', 'no fracture', 'no fracture',\n",
       "       'no fracture', 'no fracture', 'fracture', 'no fracture',\n",
       "       'no fracture', 'fracture', 'no fracture', 'no fracture',\n",
       "       'no fracture', 'fracture', 'no fracture', 'no fracture',\n",
       "       'no fracture', 'no fracture', 'no fracture'], dtype=object)"
      ]
     },
     "execution_count": 40,
     "metadata": {},
     "output_type": "execute_result"
    }
   ],
   "source": [
    "y_pred_lo=logModel.predict(x_test)\n",
    "y_pred_lo"
   ]
  },
  {
   "cell_type": "code",
   "execution_count": 41,
   "id": "10ae9504",
   "metadata": {},
   "outputs": [
    {
     "data": {
      "text/plain": [
       "0.8235294117647058"
      ]
     },
     "execution_count": 41,
     "metadata": {},
     "output_type": "execute_result"
    }
   ],
   "source": [
    "#Accuracy Score\n",
    "logModel.score(x_test,y_test)"
   ]
  },
  {
   "cell_type": "code",
   "execution_count": 44,
   "id": "d8619e3e",
   "metadata": {},
   "outputs": [],
   "source": [
    "from sklearn.metrics import confusion_matrix"
   ]
  },
  {
   "cell_type": "code",
   "execution_count": 46,
   "id": "ab48952c",
   "metadata": {},
   "outputs": [
    {
     "data": {
      "text/plain": [
       "array([[ 9,  8],\n",
       "       [ 1, 33]], dtype=int64)"
      ]
     },
     "execution_count": 46,
     "metadata": {},
     "output_type": "execute_result"
    }
   ],
   "source": [
    "confusion_matrix(y_test,y_pred_lo)"
   ]
  },
  {
   "cell_type": "code",
   "execution_count": 51,
   "id": "35bfb89a",
   "metadata": {},
   "outputs": [],
   "source": [
    "from sklearn.naive_bayes import GaussianNB"
   ]
  },
  {
   "cell_type": "code",
   "execution_count": 53,
   "id": "517d7f51",
   "metadata": {},
   "outputs": [
    {
     "data": {
      "text/plain": [
       "GaussianNB()"
      ]
     },
     "execution_count": 53,
     "metadata": {},
     "output_type": "execute_result"
    }
   ],
   "source": [
    "clnav = GaussianNB()\n",
    "clnav.fit(x_train,y_train)"
   ]
  },
  {
   "cell_type": "code",
   "execution_count": 54,
   "id": "432fd9ea",
   "metadata": {},
   "outputs": [],
   "source": [
    "y_pred_gu= clnav.predict(x_test)"
   ]
  },
  {
   "cell_type": "code",
   "execution_count": 55,
   "id": "e24adb80",
   "metadata": {},
   "outputs": [
    {
     "data": {
      "text/plain": [
       "array(['fracture', 'no fracture', 'fracture', 'no fracture',\n",
       "       'no fracture', 'no fracture', 'fracture', 'fracture',\n",
       "       'no fracture', 'no fracture', 'fracture', 'fracture', 'fracture',\n",
       "       'fracture', 'fracture', 'fracture', 'fracture', 'fracture',\n",
       "       'fracture', 'fracture', 'fracture', 'fracture', 'fracture',\n",
       "       'fracture', 'fracture', 'no fracture', 'fracture', 'fracture',\n",
       "       'fracture', 'fracture', 'fracture', 'fracture', 'fracture',\n",
       "       'fracture', 'fracture', 'fracture', 'fracture', 'fracture',\n",
       "       'fracture', 'fracture', 'fracture', 'fracture', 'no fracture',\n",
       "       'fracture', 'fracture', 'fracture', 'fracture', 'no fracture',\n",
       "       'fracture', 'fracture', 'fracture'], dtype='<U11')"
      ]
     },
     "execution_count": 55,
     "metadata": {},
     "output_type": "execute_result"
    }
   ],
   "source": [
    "y_pred_gu"
   ]
  },
  {
   "cell_type": "code",
   "execution_count": 56,
   "id": "779c17c8",
   "metadata": {},
   "outputs": [
    {
     "data": {
      "text/plain": [
       "0.43137254901960786"
      ]
     },
     "execution_count": 56,
     "metadata": {},
     "output_type": "execute_result"
    }
   ],
   "source": [
    "clnav.score(x_test,y_test)"
   ]
  },
  {
   "cell_type": "code",
   "execution_count": 57,
   "id": "6ba30a4a",
   "metadata": {},
   "outputs": [],
   "source": [
    "from sklearn.metrics import confusion_matrix"
   ]
  },
  {
   "cell_type": "code",
   "execution_count": 58,
   "id": "81aecf50",
   "metadata": {},
   "outputs": [
    {
     "data": {
      "text/plain": [
       "array([[15,  2],\n",
       "       [27,  7]], dtype=int64)"
      ]
     },
     "execution_count": 58,
     "metadata": {},
     "output_type": "execute_result"
    }
   ],
   "source": [
    "confusion_matrix(y_test,y_pred_gu)"
   ]
  },
  {
   "cell_type": "code",
   "execution_count": 60,
   "id": "56614df0",
   "metadata": {},
   "outputs": [],
   "source": [
    "from sklearn.neighbors import KNeighborsClassifier"
   ]
  },
  {
   "cell_type": "code",
   "execution_count": 61,
   "id": "90054880",
   "metadata": {},
   "outputs": [],
   "source": [
    "clkn = KNeighborsClassifier(n_neighbors=5,metric='minkowski',p=2)"
   ]
  },
  {
   "cell_type": "code",
   "execution_count": 63,
   "id": "2b80297e",
   "metadata": {},
   "outputs": [
    {
     "data": {
      "text/plain": [
       "KNeighborsClassifier()"
      ]
     },
     "execution_count": 63,
     "metadata": {},
     "output_type": "execute_result"
    }
   ],
   "source": [
    "clkn.fit(x_train,y_train)"
   ]
  },
  {
   "cell_type": "code",
   "execution_count": 64,
   "id": "07d1aff6",
   "metadata": {},
   "outputs": [
    {
     "name": "stderr",
     "output_type": "stream",
     "text": [
      "C:\\ProgramData\\Anaconda3\\lib\\site-packages\\sklearn\\neighbors\\_classification.py:228: FutureWarning: Unlike other reduction functions (e.g. `skew`, `kurtosis`), the default behavior of `mode` typically preserves the axis it acts along. In SciPy 1.11.0, this behavior will change: the default value of `keepdims` will become False, the `axis` over which the statistic is taken will be eliminated, and the value None will no longer be accepted. Set `keepdims` to True or False to avoid this warning.\n",
      "  mode, _ = stats.mode(_y[neigh_ind, k], axis=1)\n"
     ]
    }
   ],
   "source": [
    "y_pred_kn=clkn.predict(x_test)"
   ]
  },
  {
   "cell_type": "code",
   "execution_count": 65,
   "id": "57a30356",
   "metadata": {},
   "outputs": [
    {
     "data": {
      "text/plain": [
       "array([[ 4, 13],\n",
       "       [ 3, 31]], dtype=int64)"
      ]
     },
     "execution_count": 65,
     "metadata": {},
     "output_type": "execute_result"
    }
   ],
   "source": [
    "confusion_matrix(y_test,y_pred_kn)"
   ]
  },
  {
   "cell_type": "code",
   "execution_count": 66,
   "id": "68263fc0",
   "metadata": {},
   "outputs": [
    {
     "name": "stderr",
     "output_type": "stream",
     "text": [
      "C:\\ProgramData\\Anaconda3\\lib\\site-packages\\sklearn\\neighbors\\_classification.py:228: FutureWarning: Unlike other reduction functions (e.g. `skew`, `kurtosis`), the default behavior of `mode` typically preserves the axis it acts along. In SciPy 1.11.0, this behavior will change: the default value of `keepdims` will become False, the `axis` over which the statistic is taken will be eliminated, and the value None will no longer be accepted. Set `keepdims` to True or False to avoid this warning.\n",
      "  mode, _ = stats.mode(_y[neigh_ind, k], axis=1)\n"
     ]
    },
    {
     "data": {
      "text/plain": [
       "0.6862745098039216"
      ]
     },
     "execution_count": 66,
     "metadata": {},
     "output_type": "execute_result"
    }
   ],
   "source": [
    "clkn.score(x_test,y_test)"
   ]
  },
  {
   "cell_type": "code",
   "execution_count": 68,
   "id": "13b4a22c",
   "metadata": {},
   "outputs": [],
   "source": [
    "from sklearn.svm import SVC"
   ]
  },
  {
   "cell_type": "code",
   "execution_count": 69,
   "id": "159b00d9",
   "metadata": {},
   "outputs": [],
   "source": [
    "csvl  = SVC(kernel='sigmoid')"
   ]
  },
  {
   "cell_type": "code",
   "execution_count": 70,
   "id": "1e1dc1cb",
   "metadata": {},
   "outputs": [
    {
     "data": {
      "text/plain": [
       "SVC(kernel='sigmoid')"
      ]
     },
     "execution_count": 70,
     "metadata": {},
     "output_type": "execute_result"
    }
   ],
   "source": [
    "csvl.fit(x_train,y_train)"
   ]
  },
  {
   "cell_type": "code",
   "execution_count": 71,
   "id": "38eba90b",
   "metadata": {},
   "outputs": [],
   "source": [
    "y_pred_sv=csvl.predict(x_test)"
   ]
  },
  {
   "cell_type": "code",
   "execution_count": 72,
   "id": "161a59b2",
   "metadata": {},
   "outputs": [
    {
     "data": {
      "text/plain": [
       "array([[ 1, 16],\n",
       "       [ 0, 34]], dtype=int64)"
      ]
     },
     "execution_count": 72,
     "metadata": {},
     "output_type": "execute_result"
    }
   ],
   "source": [
    "confusion_matrix(y_test,y_pred_sv)"
   ]
  },
  {
   "cell_type": "code",
   "execution_count": 73,
   "id": "ab3808c9",
   "metadata": {},
   "outputs": [
    {
     "data": {
      "text/plain": [
       "0.6862745098039216"
      ]
     },
     "execution_count": 73,
     "metadata": {},
     "output_type": "execute_result"
    }
   ],
   "source": [
    "csvl.score(x_test,y_test)"
   ]
  },
  {
   "cell_type": "code",
   "execution_count": 80,
   "id": "ba5c6680",
   "metadata": {},
   "outputs": [],
   "source": [
    "import matplotlib.pyplot as plt\n",
    "import seaborn as sns"
   ]
  },
  {
   "cell_type": "code",
   "execution_count": 79,
   "id": "4196e1c5",
   "metadata": {},
   "outputs": [
    {
     "data": {
      "text/plain": [
       "Text(0, 0.5, 'nofracture')"
      ]
     },
     "execution_count": 79,
     "metadata": {},
     "output_type": "execute_result"
    },
    {
     "data": {
      "image/png": "[encoded data removed]",
      "text/plain": [
       "<Figure size 640x480 with 1 Axes>"
      ]
     },
     "metadata": {},
     "output_type": "display_data"
    }
   ],
   "source": [
    "plt.scatter(y_test,y_pred_kn)\n",
    "plt.xlabel('fracture')\n",
    "plt.ylabel('nofracture')"
   ]
  },
  {
   "cell_type": "code",
   "execution_count": 85,
   "id": "ad98ce15",
   "metadata": {},
   "outputs": [
    {
     "data": {
      "text/plain": [
       "<AxesSubplot:xlabel='age', ylabel='sex'>"
      ]
     },
     "execution_count": 85,
     "metadata": {},
     "output_type": "execute_result"
    },
    {
     "data": {
      "image/png": "[encoded data removed]",
      "text/plain": [
       "<Figure size 640x480 with 1 Axes>"
      ]
     },
     "metadata": {},
     "output_type": "display_data"
    }
   ],
   "source": [
    "sns.scatterplot(x='age',y='sex',hue='fracture',data=frac)"
   ]
  },
  {
   "cell_type": "code",
   "execution_count": 86,
   "id": "2b7a012f",
   "metadata": {},
   "outputs": [
    {
     "data": {
      "text/plain": [
       "<AxesSubplot:xlabel='bmd', ylabel='bmi'>"
      ]
     },
     "execution_count": 86,
     "metadata": {},
     "output_type": "execute_result"
    },
    {
     "data": {
      "image/png": "[encoded data removed]",
      "text/plain": [
       "<Figure size 640x480 with 1 Axes>"
      ]
     },
     "metadata": {},
     "output_type": "display_data"
    }
   ],
   "source": [
    "sns.scatterplot(x='bmd',y='bmi',hue='fracture',data=frac)"
   ]
  },
  {
   "cell_type": "markdown",
   "id": "d52698f7",
   "metadata": {},
   "source": [
    "# Set3\n"
   ]
  },
  {
   "cell_type": "code",
   "execution_count": 93,
   "id": "1383de9e",
   "metadata": {},
   "outputs": [],
   "source": [
    "fa=pd.read_csv('fracture.csv')"
   ]
  },
  {
   "cell_type": "code",
   "execution_count": 94,
   "id": "d7f3abe3",
   "metadata": {},
   "outputs": [
    {
     "name": "stdout",
     "output_type": "stream",
     "text": [
      "<class 'pandas.core.frame.DataFrame'>\n",
      "RangeIndex: 169 entries, 0 to 168\n",
      "Data columns (total 9 columns):\n",
      " #   Column        Non-Null Count  Dtype  \n",
      "---  ------        --------------  -----  \n",
      " 0   id            169 non-null    int64  \n",
      " 1   age           169 non-null    float64\n",
      " 2   sex           169 non-null    object \n",
      " 3   fracture      169 non-null    object \n",
      " 4   weight_kg     169 non-null    float64\n",
      " 5   height_cm     169 non-null    float64\n",
      " 6   medication    169 non-null    object \n",
      " 7   waiting_time  169 non-null    int64  \n",
      " 8   bmd           169 non-null    float64\n",
      "dtypes: float64(4), int64(2), object(3)\n",
      "memory usage: 12.0+ KB\n"
     ]
    }
   ],
   "source": [
    "fa.info()"
   ]
  },
  {
   "cell_type": "code",
   "execution_count": 95,
   "id": "d1010e61",
   "metadata": {},
   "outputs": [],
   "source": [
    "fa['bmi']=fa['weight_kg']/(fa['height_cm']/100**2)"
   ]
  },
  {
   "cell_type": "code",
   "execution_count": 96,
   "id": "c0efef05",
   "metadata": {},
   "outputs": [
    {
     "name": "stdout",
     "output_type": "stream",
     "text": [
      "<class 'pandas.core.frame.DataFrame'>\n",
      "RangeIndex: 169 entries, 0 to 168\n",
      "Data columns (total 10 columns):\n",
      " #   Column        Non-Null Count  Dtype  \n",
      "---  ------        --------------  -----  \n",
      " 0   id            169 non-null    int64  \n",
      " 1   age           169 non-null    float64\n",
      " 2   sex           169 non-null    object \n",
      " 3   fracture      169 non-null    object \n",
      " 4   weight_kg     169 non-null    float64\n",
      " 5   height_cm     169 non-null    float64\n",
      " 6   medication    169 non-null    object \n",
      " 7   waiting_time  169 non-null    int64  \n",
      " 8   bmd           169 non-null    float64\n",
      " 9   bmi           169 non-null    float64\n",
      "dtypes: float64(5), int64(2), object(3)\n",
      "memory usage: 13.3+ KB\n"
     ]
    }
   ],
   "source": [
    "fa.info()"
   ]
  },
  {
   "cell_type": "code",
   "execution_count": 97,
   "id": "3baa2c4d",
   "metadata": {},
   "outputs": [],
   "source": [
    "fa['sex']=fa['sex'].map({\"M\":0,\"F\":1})"
   ]
  },
  {
   "cell_type": "code",
   "execution_count": 98,
   "id": "a5c0a15f",
   "metadata": {},
   "outputs": [
    {
     "data": {
      "text/plain": [
       "0      1\n",
       "1      1\n",
       "2      0\n",
       "3      1\n",
       "4      0\n",
       "      ..\n",
       "164    0\n",
       "165    1\n",
       "166    0\n",
       "167    0\n",
       "168    1\n",
       "Name: sex, Length: 169, dtype: int64"
      ]
     },
     "execution_count": 98,
     "metadata": {},
     "output_type": "execute_result"
    }
   ],
   "source": [
    "fa['sex']"
   ]
  },
  {
   "cell_type": "code",
   "execution_count": 100,
   "id": "be32d50c",
   "metadata": {},
   "outputs": [],
   "source": [
    "fa['bmd']=fa['bmd'].astype('int64')\n",
    "fa['bmi']=fa['bmi'].astype('int64')\n",
    "fa['age']=fa['age'].astype('int64')"
   ]
  },
  {
   "cell_type": "code",
   "execution_count": 101,
   "id": "20701930",
   "metadata": {},
   "outputs": [
    {
     "name": "stdout",
     "output_type": "stream",
     "text": [
      "<class 'pandas.core.frame.DataFrame'>\n",
      "RangeIndex: 169 entries, 0 to 168\n",
      "Data columns (total 10 columns):\n",
      " #   Column        Non-Null Count  Dtype  \n",
      "---  ------        --------------  -----  \n",
      " 0   id            169 non-null    int64  \n",
      " 1   age           169 non-null    int64  \n",
      " 2   sex           169 non-null    int64  \n",
      " 3   fracture      169 non-null    object \n",
      " 4   weight_kg     169 non-null    float64\n",
      " 5   height_cm     169 non-null    float64\n",
      " 6   medication    169 non-null    object \n",
      " 7   waiting_time  169 non-null    int64  \n",
      " 8   bmd           169 non-null    int64  \n",
      " 9   bmi           169 non-null    int64  \n",
      "dtypes: float64(2), int64(6), object(2)\n",
      "memory usage: 13.3+ KB\n"
     ]
    }
   ],
   "source": [
    "fa.info()"
   ]
  },
  {
   "cell_type": "code",
   "execution_count": 104,
   "id": "e5daaf4e",
   "metadata": {},
   "outputs": [],
   "source": [
    "fru=fa.drop(columns=['weight_kg','height_cm','medication','waiting_time'])"
   ]
  },
  {
   "cell_type": "code",
   "execution_count": 105,
   "id": "28a2c566",
   "metadata": {},
   "outputs": [
    {
     "name": "stdout",
     "output_type": "stream",
     "text": [
      "<class 'pandas.core.frame.DataFrame'>\n",
      "RangeIndex: 169 entries, 0 to 168\n",
      "Data columns (total 6 columns):\n",
      " #   Column    Non-Null Count  Dtype \n",
      "---  ------    --------------  ----- \n",
      " 0   id        169 non-null    int64 \n",
      " 1   age       169 non-null    int64 \n",
      " 2   sex       169 non-null    int64 \n",
      " 3   fracture  169 non-null    object\n",
      " 4   bmd       169 non-null    int64 \n",
      " 5   bmi       169 non-null    int64 \n",
      "dtypes: int64(5), object(1)\n",
      "memory usage: 8.0+ KB\n"
     ]
    }
   ],
   "source": [
    "fru.info()"
   ]
  },
  {
   "cell_type": "code",
   "execution_count": 108,
   "id": "2f101ae5",
   "metadata": {},
   "outputs": [],
   "source": [
    "x=fru.iloc[:,[1,2,4,5]].values"
   ]
  },
  {
   "cell_type": "code",
   "execution_count": 169,
   "id": "4d46c96c",
   "metadata": {},
   "outputs": [
    {
     "data": {
      "text/plain": [
       "array(['no fracture', 'no fracture', 'no fracture', 'no fracture',\n",
       "       'no fracture', 'no fracture', 'no fracture', 'no fracture',\n",
       "       'no fracture', 'no fracture', 'no fracture', 'no fracture',\n",
       "       'no fracture', 'no fracture', 'no fracture', 'no fracture',\n",
       "       'no fracture', 'no fracture', 'no fracture', 'no fracture',\n",
       "       'no fracture', 'no fracture', 'no fracture', 'no fracture',\n",
       "       'no fracture', 'no fracture', 'no fracture', 'no fracture',\n",
       "       'no fracture', 'no fracture', 'no fracture', 'no fracture',\n",
       "       'no fracture', 'no fracture', 'no fracture', 'no fracture',\n",
       "       'no fracture', 'no fracture', 'no fracture', 'no fracture',\n",
       "       'no fracture', 'no fracture', 'no fracture', 'no fracture',\n",
       "       'no fracture', 'no fracture', 'no fracture', 'no fracture',\n",
       "       'no fracture', 'no fracture', 'no fracture', 'no fracture',\n",
       "       'no fracture', 'no fracture', 'no fracture', 'no fracture',\n",
       "       'no fracture', 'no fracture', 'no fracture', 'no fracture',\n",
       "       'no fracture', 'no fracture', 'no fracture', 'no fracture',\n",
       "       'no fracture', 'no fracture', 'no fracture', 'no fracture',\n",
       "       'no fracture', 'no fracture', 'no fracture', 'no fracture',\n",
       "       'no fracture', 'no fracture', 'no fracture', 'no fracture',\n",
       "       'no fracture', 'no fracture', 'no fracture', 'no fracture',\n",
       "       'no fracture', 'no fracture', 'no fracture', 'no fracture',\n",
       "       'no fracture', 'no fracture', 'no fracture', 'no fracture',\n",
       "       'no fracture', 'no fracture', 'no fracture', 'no fracture',\n",
       "       'no fracture', 'no fracture', 'no fracture', 'no fracture',\n",
       "       'no fracture', 'no fracture', 'no fracture', 'no fracture',\n",
       "       'no fracture', 'no fracture', 'no fracture', 'no fracture',\n",
       "       'no fracture', 'no fracture', 'no fracture', 'no fracture',\n",
       "       'no fracture', 'no fracture', 'no fracture', 'no fracture',\n",
       "       'no fracture', 'no fracture', 'no fracture', 'no fracture',\n",
       "       'no fracture', 'no fracture', 'no fracture', 'fracture',\n",
       "       'fracture', 'fracture', 'fracture', 'fracture', 'fracture',\n",
       "       'fracture', 'fracture', 'fracture', 'fracture', 'fracture',\n",
       "       'fracture', 'fracture', 'fracture', 'fracture', 'fracture',\n",
       "       'fracture', 'fracture', 'fracture', 'fracture', 'fracture',\n",
       "       'fracture', 'fracture', 'fracture', 'fracture', 'fracture',\n",
       "       'fracture', 'fracture', 'fracture', 'fracture', 'fracture',\n",
       "       'fracture', 'fracture', 'fracture', 'fracture', 'fracture',\n",
       "       'fracture', 'fracture', 'fracture', 'fracture', 'fracture',\n",
       "       'fracture', 'fracture', 'fracture', 'fracture', 'fracture',\n",
       "       'fracture', 'fracture', 'fracture', 'fracture'], dtype=object)"
      ]
     },
     "execution_count": 169,
     "metadata": {},
     "output_type": "execute_result"
    }
   ],
   "source": [
    "y=fru.iloc[:,3].values\n",
    "y"
   ]
  },
  {
   "cell_type": "code",
   "execution_count": 170,
   "id": "91043788",
   "metadata": {},
   "outputs": [],
   "source": [
    "from sklearn.preprocessing import LabelEncoder"
   ]
  },
  {
   "cell_type": "code",
   "execution_count": 171,
   "id": "9cc36b1f",
   "metadata": {},
   "outputs": [
    {
     "data": {
      "text/plain": [
       "array([1, 1, 1, 1, 1, 1, 1, 1, 1, 1, 1, 1, 1, 1, 1, 1, 1, 1, 1, 1, 1, 1,\n",
       "       1, 1, 1, 1, 1, 1, 1, 1, 1, 1, 1, 1, 1, 1, 1, 1, 1, 1, 1, 1, 1, 1,\n",
       "       1, 1, 1, 1, 1, 1, 1, 1, 1, 1, 1, 1, 1, 1, 1, 1, 1, 1, 1, 1, 1, 1,\n",
       "       1, 1, 1, 1, 1, 1, 1, 1, 1, 1, 1, 1, 1, 1, 1, 1, 1, 1, 1, 1, 1, 1,\n",
       "       1, 1, 1, 1, 1, 1, 1, 1, 1, 1, 1, 1, 1, 1, 1, 1, 1, 1, 1, 1, 1, 1,\n",
       "       1, 1, 1, 1, 1, 1, 1, 1, 1, 0, 0, 0, 0, 0, 0, 0, 0, 0, 0, 0, 0, 0,\n",
       "       0, 0, 0, 0, 0, 0, 0, 0, 0, 0, 0, 0, 0, 0, 0, 0, 0, 0, 0, 0, 0, 0,\n",
       "       0, 0, 0, 0, 0, 0, 0, 0, 0, 0, 0, 0, 0, 0, 0])"
      ]
     },
     "execution_count": 171,
     "metadata": {},
     "output_type": "execute_result"
    }
   ],
   "source": [
    "labelencoder_y = LabelEncoder()\n",
    "labelencoder_y.fit_transform(y)"
   ]
  },
  {
   "cell_type": "code",
   "execution_count": 114,
   "id": "3c9f5ab7",
   "metadata": {},
   "outputs": [],
   "source": [
    "from sklearn.model_selection import train_test_split"
   ]
  },
  {
   "cell_type": "code",
   "execution_count": 115,
   "id": "89a519c8",
   "metadata": {},
   "outputs": [],
   "source": [
    "x_train,x_test,y_train,y_test = train_test_split(x,y,test_size=0.2)"
   ]
  },
  {
   "cell_type": "code",
   "execution_count": 116,
   "id": "9fd92dc4",
   "metadata": {},
   "outputs": [
    {
     "name": "stdout",
     "output_type": "stream",
     "text": [
      "540\n",
      "136\n",
      "135\n",
      "34\n"
     ]
    }
   ],
   "source": [
    "print(x_train.size)\n",
    "print(x_test.size)\n",
    "print(y_train.size)\n",
    "print(y_test.size)"
   ]
  },
  {
   "cell_type": "code",
   "execution_count": 117,
   "id": "e052dfa5",
   "metadata": {},
   "outputs": [],
   "source": [
    "from sklearn.svm import SVC"
   ]
  },
  {
   "cell_type": "code",
   "execution_count": 118,
   "id": "aeffbc14",
   "metadata": {},
   "outputs": [],
   "source": [
    "svc_sig = SVC(kernel='sigmoid')  ##poly,linear"
   ]
  },
  {
   "cell_type": "code",
   "execution_count": 119,
   "id": "88da5591",
   "metadata": {},
   "outputs": [
    {
     "data": {
      "text/plain": [
       "SVC(kernel='sigmoid')"
      ]
     },
     "execution_count": 119,
     "metadata": {},
     "output_type": "execute_result"
    }
   ],
   "source": [
    "svc_sig.fit(x_train,y_train)"
   ]
  },
  {
   "cell_type": "code",
   "execution_count": 120,
   "id": "58a12eab",
   "metadata": {},
   "outputs": [],
   "source": [
    "y_pred_sv=svc_sig.predict(x_test)"
   ]
  },
  {
   "cell_type": "code",
   "execution_count": 121,
   "id": "2f9e8233",
   "metadata": {},
   "outputs": [],
   "source": [
    "from sklearn.metrics import confusion_matrix"
   ]
  },
  {
   "cell_type": "code",
   "execution_count": 122,
   "id": "22393c0c",
   "metadata": {},
   "outputs": [
    {
     "data": {
      "text/plain": [
       "array([[ 0,  8],\n",
       "       [ 1, 25]], dtype=int64)"
      ]
     },
     "execution_count": 122,
     "metadata": {},
     "output_type": "execute_result"
    }
   ],
   "source": [
    " confusion_matrix(y_test,y_pred_sv)"
   ]
  },
  {
   "cell_type": "code",
   "execution_count": 123,
   "id": "aa1beaac",
   "metadata": {},
   "outputs": [
    {
     "data": {
      "text/plain": [
       "0.7352941176470589"
      ]
     },
     "execution_count": 123,
     "metadata": {},
     "output_type": "execute_result"
    }
   ],
   "source": [
    "svc_sig.score(x_test,y_test)"
   ]
  },
  {
   "cell_type": "code",
   "execution_count": 125,
   "id": "c96e320f",
   "metadata": {},
   "outputs": [],
   "source": [
    "#graph\n",
    "\n",
    "import matplotlib.pyplot as plt\n",
    "import seaborn as sns"
   ]
  },
  {
   "cell_type": "code",
   "execution_count": 131,
   "id": "bab9b0a7",
   "metadata": {},
   "outputs": [
    {
     "data": {
      "text/plain": [
       "<matplotlib.legend.Legend at 0x2102fb54280>"
      ]
     },
     "execution_count": 131,
     "metadata": {},
     "output_type": "execute_result"
    },
    {
     "data": {
      "image/png": "[encoded data removed]",
      "text/plain": [
       "<Figure size 640x480 with 1 Axes>"
      ]
     },
     "metadata": {},
     "output_type": "display_data"
    }
   ],
   "source": [
    "x=np.array(fru['fracture'])\n",
    "v1=np.array(fru['sex'])\n",
    "v2=np.array(fru['age'])\n",
    "v3=np.array(fru['bmd'])\n",
    "v4=np.array(fru['bmi'])\n",
    "bar_width=0.3\n",
    "plt.bar(x,v1,bar_width,label=\"DataSet1\",color='blue')\n",
    "plt.bar(x,v2,bar_width,label=\"DataSet2\",color='red')\n",
    "plt.bar(x,v3,bar_width,label=\"DataSet3\",color='green')\n",
    "plt.bar(x,v4,bar_width,label=\"DataSet4\",color='yellow')\n",
    "plt.legend()\n",
    "# plt.plot(x,y)\n",
    "# plt.scatter(y_test,y_pred_sv)\n",
    "\n"
   ]
  },
  {
   "cell_type": "code",
   "execution_count": 132,
   "id": "9bc42151",
   "metadata": {},
   "outputs": [
    {
     "data": {
      "text/plain": [
       "<AxesSubplot:xlabel='age', ylabel='sex'>"
      ]
     },
     "execution_count": 132,
     "metadata": {},
     "output_type": "execute_result"
    },
    {
     "data": {
      "image/png": "[encoded data removed]",
      "text/plain": [
       "<Figure size 640x480 with 1 Axes>"
      ]
     },
     "metadata": {},
     "output_type": "display_data"
    }
   ],
   "source": [
    "sns.scatterplot(x='age',y='sex',hue='fracture',data=fru)"
   ]
  },
  {
   "cell_type": "code",
   "execution_count": 133,
   "id": "69693701",
   "metadata": {},
   "outputs": [
    {
     "data": {
      "text/plain": [
       "<seaborn.axisgrid.FacetGrid at 0x2102e4a9e50>"
      ]
     },
     "execution_count": 133,
     "metadata": {},
     "output_type": "execute_result"
    },
    {
     "data": {
      "image/png": "[encoded data removed]",
      "text/plain": [
       "<Figure size 626.875x500 with 1 Axes>"
      ]
     },
     "metadata": {},
     "output_type": "display_data"
    }
   ],
   "source": [
    "sns.relplot(x='age',y='bmd',kind='scatter',hue='fracture',data=fru)"
   ]
  },
  {
   "cell_type": "code",
   "execution_count": 135,
   "id": "7b952b7c",
   "metadata": {},
   "outputs": [
    {
     "data": {
      "text/plain": [
       "<seaborn.axisgrid.FacetGrid at 0x2102f7e61c0>"
      ]
     },
     "execution_count": 135,
     "metadata": {},
     "output_type": "execute_result"
    },
    {
     "data": {
      "image/png": "[encoded data removed]",
      "text/plain": [
       "<Figure size 626.875x500 with 1 Axes>"
      ]
     },
     "metadata": {},
     "output_type": "display_data"
    }
   ],
   "source": [
    "sns.catplot(x='age',y='sex',kind='box',hue='fracture',data=fru)"
   ]
  },
  {
   "cell_type": "code",
   "execution_count": 136,
   "id": "d25c5f2d",
   "metadata": {},
   "outputs": [],
   "source": [
    "from sklearn.linear_model import LogisticRegression"
   ]
  },
  {
   "cell_type": "code",
   "execution_count": 140,
   "id": "e3cae655",
   "metadata": {},
   "outputs": [],
   "source": [
    "logfra=LogisticRegression()\n",
    "logfra.fit(x_train,y_train)\n",
    "y_pred_lo =logfra.predict(x_test)"
   ]
  },
  {
   "cell_type": "code",
   "execution_count": 141,
   "id": "aa0cb7a2",
   "metadata": {},
   "outputs": [
    {
     "data": {
      "text/plain": [
       "array(['no fracture', 'no fracture', 'no fracture', 'no fracture',\n",
       "       'fracture', 'no fracture', 'no fracture', 'no fracture',\n",
       "       'no fracture', 'no fracture', 'fracture', 'fracture',\n",
       "       'no fracture', 'fracture', 'no fracture', 'no fracture',\n",
       "       'no fracture', 'fracture', 'no fracture', 'no fracture',\n",
       "       'no fracture', 'no fracture', 'no fracture', 'no fracture',\n",
       "       'no fracture', 'no fracture', 'no fracture', 'fracture',\n",
       "       'no fracture', 'no fracture', 'no fracture', 'no fracture',\n",
       "       'no fracture', 'no fracture'], dtype=object)"
      ]
     },
     "execution_count": 141,
     "metadata": {},
     "output_type": "execute_result"
    }
   ],
   "source": [
    "y_pred_lo"
   ]
  },
  {
   "cell_type": "code",
   "execution_count": 142,
   "id": "640f38e1",
   "metadata": {},
   "outputs": [],
   "source": [
    "from sklearn.metrics import confusion_matrix"
   ]
  },
  {
   "cell_type": "code",
   "execution_count": 143,
   "id": "af0d2f00",
   "metadata": {},
   "outputs": [
    {
     "data": {
      "text/plain": [
       "array([[ 4,  4],\n",
       "       [ 2, 24]], dtype=int64)"
      ]
     },
     "execution_count": 143,
     "metadata": {},
     "output_type": "execute_result"
    }
   ],
   "source": [
    "confusion_matrix(y_test,y_pred_lo)"
   ]
  },
  {
   "cell_type": "code",
   "execution_count": 144,
   "id": "a9639306",
   "metadata": {},
   "outputs": [
    {
     "data": {
      "text/plain": [
       "0.8235294117647058"
      ]
     },
     "execution_count": 144,
     "metadata": {},
     "output_type": "execute_result"
    }
   ],
   "source": [
    "logfra.score(x_test,y_test)"
   ]
  },
  {
   "cell_type": "code",
   "execution_count": 145,
   "id": "94542fe5",
   "metadata": {},
   "outputs": [],
   "source": [
    "from sklearn.neighbors import KNeighborsClassifier"
   ]
  },
  {
   "cell_type": "code",
   "execution_count": 148,
   "id": "5becd1b5",
   "metadata": {},
   "outputs": [
    {
     "data": {
      "text/plain": [
       "KNeighborsClassifier()"
      ]
     },
     "execution_count": 148,
     "metadata": {},
     "output_type": "execute_result"
    }
   ],
   "source": [
    "kclas=KNeighborsClassifier()\n",
    "kclas.fit(x_train,y_train)"
   ]
  },
  {
   "cell_type": "code",
   "execution_count": 149,
   "id": "680370bd",
   "metadata": {},
   "outputs": [
    {
     "name": "stderr",
     "output_type": "stream",
     "text": [
      "C:\\ProgramData\\Anaconda3\\lib\\site-packages\\sklearn\\neighbors\\_classification.py:228: FutureWarning: Unlike other reduction functions (e.g. `skew`, `kurtosis`), the default behavior of `mode` typically preserves the axis it acts along. In SciPy 1.11.0, this behavior will change: the default value of `keepdims` will become False, the `axis` over which the statistic is taken will be eliminated, and the value None will no longer be accepted. Set `keepdims` to True or False to avoid this warning.\n",
      "  mode, _ = stats.mode(_y[neigh_ind, k], axis=1)\n"
     ]
    }
   ],
   "source": [
    "y_pred_knn=kclas.predict(x_test)"
   ]
  },
  {
   "cell_type": "code",
   "execution_count": 150,
   "id": "d9df18b8",
   "metadata": {},
   "outputs": [
    {
     "data": {
      "text/plain": [
       "array(['no fracture', 'no fracture', 'no fracture', 'no fracture',\n",
       "       'no fracture', 'no fracture', 'no fracture', 'no fracture',\n",
       "       'no fracture', 'no fracture', 'no fracture', 'fracture',\n",
       "       'no fracture', 'no fracture', 'no fracture', 'no fracture',\n",
       "       'fracture', 'no fracture', 'no fracture', 'no fracture',\n",
       "       'no fracture', 'no fracture', 'no fracture', 'no fracture',\n",
       "       'no fracture', 'no fracture', 'no fracture', 'no fracture',\n",
       "       'no fracture', 'no fracture', 'no fracture', 'no fracture',\n",
       "       'no fracture', 'no fracture'], dtype=object)"
      ]
     },
     "execution_count": 150,
     "metadata": {},
     "output_type": "execute_result"
    }
   ],
   "source": [
    "y_pred_knn"
   ]
  },
  {
   "cell_type": "code",
   "execution_count": 151,
   "id": "fa4eff33",
   "metadata": {},
   "outputs": [
    {
     "data": {
      "text/plain": [
       "array([[ 1,  7],\n",
       "       [ 1, 25]], dtype=int64)"
      ]
     },
     "execution_count": 151,
     "metadata": {},
     "output_type": "execute_result"
    }
   ],
   "source": [
    "confusion_matrix(y_test,y_pred_knn)"
   ]
  },
  {
   "cell_type": "code",
   "execution_count": 152,
   "id": "db01861f",
   "metadata": {},
   "outputs": [
    {
     "name": "stderr",
     "output_type": "stream",
     "text": [
      "C:\\ProgramData\\Anaconda3\\lib\\site-packages\\sklearn\\neighbors\\_classification.py:228: FutureWarning: Unlike other reduction functions (e.g. `skew`, `kurtosis`), the default behavior of `mode` typically preserves the axis it acts along. In SciPy 1.11.0, this behavior will change: the default value of `keepdims` will become False, the `axis` over which the statistic is taken will be eliminated, and the value None will no longer be accepted. Set `keepdims` to True or False to avoid this warning.\n",
      "  mode, _ = stats.mode(_y[neigh_ind, k], axis=1)\n"
     ]
    },
    {
     "data": {
      "text/plain": [
       "0.7647058823529411"
      ]
     },
     "execution_count": 152,
     "metadata": {},
     "output_type": "execute_result"
    }
   ],
   "source": [
    "kclas.score(x_test,y_test)"
   ]
  },
  {
   "cell_type": "code",
   "execution_count": 153,
   "id": "c0128491",
   "metadata": {},
   "outputs": [],
   "source": [
    "from sklearn.naive_bayes import GaussianNB"
   ]
  },
  {
   "cell_type": "code",
   "execution_count": 154,
   "id": "0eae98f6",
   "metadata": {},
   "outputs": [],
   "source": [
    "classifier_nb = GaussianNB()\n",
    "classifier_nb.fit(x_train,y_train)\n",
    "y_pred = classifier_nb.predict(x_test)"
   ]
  },
  {
   "cell_type": "code",
   "execution_count": 155,
   "id": "290cf34d",
   "metadata": {},
   "outputs": [
    {
     "data": {
      "text/plain": [
       "array(['fracture', 'fracture', 'fracture', 'fracture', 'fracture',\n",
       "       'fracture', 'fracture', 'fracture', 'fracture', 'fracture',\n",
       "       'fracture', 'fracture', 'fracture', 'fracture', 'fracture',\n",
       "       'fracture', 'fracture', 'fracture', 'fracture', 'fracture',\n",
       "       'fracture', 'fracture', 'fracture', 'fracture', 'fracture',\n",
       "       'fracture', 'fracture', 'fracture', 'fracture', 'fracture',\n",
       "       'fracture', 'no fracture', 'no fracture', 'no fracture'],\n",
       "      dtype='<U11')"
      ]
     },
     "execution_count": 155,
     "metadata": {},
     "output_type": "execute_result"
    }
   ],
   "source": [
    "np.sort(y_pred)"
   ]
  },
  {
   "cell_type": "code",
   "execution_count": 156,
   "id": "3dabd686",
   "metadata": {},
   "outputs": [
    {
     "data": {
      "text/plain": [
       "0.3235294117647059"
      ]
     },
     "execution_count": 156,
     "metadata": {},
     "output_type": "execute_result"
    }
   ],
   "source": [
    "classifier_nb.score(x_test,y_test)"
   ]
  },
  {
   "cell_type": "code",
   "execution_count": 157,
   "id": "bf3c8c39",
   "metadata": {},
   "outputs": [
    {
     "data": {
      "text/plain": [
       "array([[ 8,  0],\n",
       "       [23,  3]], dtype=int64)"
      ]
     },
     "execution_count": 157,
     "metadata": {},
     "output_type": "execute_result"
    }
   ],
   "source": [
    "confusion_matrix(y_test,y_pred)"
   ]
  },
  {
   "cell_type": "code",
   "execution_count": 158,
   "id": "a95f0761",
   "metadata": {},
   "outputs": [],
   "source": [
    "from sklearn.tree import DecisionTreeClassifier"
   ]
  },
  {
   "cell_type": "code",
   "execution_count": 159,
   "id": "a58e1471",
   "metadata": {},
   "outputs": [],
   "source": [
    "clf=DecisionTreeClassifier()"
   ]
  },
  {
   "cell_type": "code",
   "execution_count": 160,
   "id": "aa0775a7",
   "metadata": {},
   "outputs": [
    {
     "data": {
      "text/plain": [
       "DecisionTreeClassifier()"
      ]
     },
     "execution_count": 160,
     "metadata": {},
     "output_type": "execute_result"
    }
   ],
   "source": [
    "clf.fit(x_train,y_train)"
   ]
  },
  {
   "cell_type": "code",
   "execution_count": 161,
   "id": "f0aa914f",
   "metadata": {},
   "outputs": [],
   "source": [
    "y_pred_dt=clf.predict(x_test)"
   ]
  },
  {
   "cell_type": "code",
   "execution_count": 163,
   "id": "7faa5e65",
   "metadata": {},
   "outputs": [
    {
     "data": {
      "text/plain": [
       "array(['fracture', 'fracture', 'fracture', 'fracture', 'fracture',\n",
       "       'fracture', 'fracture', 'fracture', 'fracture', 'fracture',\n",
       "       'fracture', 'fracture', 'no fracture', 'no fracture',\n",
       "       'no fracture', 'no fracture', 'no fracture', 'no fracture',\n",
       "       'no fracture', 'no fracture', 'no fracture', 'no fracture',\n",
       "       'no fracture', 'no fracture', 'no fracture', 'no fracture',\n",
       "       'no fracture', 'no fracture', 'no fracture', 'no fracture',\n",
       "       'no fracture', 'no fracture', 'no fracture', 'no fracture'],\n",
       "      dtype=object)"
      ]
     },
     "execution_count": 163,
     "metadata": {},
     "output_type": "execute_result"
    }
   ],
   "source": [
    "np.sort(y_pred_dt)"
   ]
  },
  {
   "cell_type": "code",
   "execution_count": 164,
   "id": "3b327048",
   "metadata": {},
   "outputs": [
    {
     "data": {
      "text/plain": [
       "0.5882352941176471"
      ]
     },
     "execution_count": 164,
     "metadata": {},
     "output_type": "execute_result"
    }
   ],
   "source": [
    "clf.score(x_test,y_test)"
   ]
  },
  {
   "cell_type": "code",
   "execution_count": 165,
   "id": "34d3897a",
   "metadata": {},
   "outputs": [
    {
     "data": {
      "text/plain": [
       "array([[ 3,  5],\n",
       "       [ 9, 17]], dtype=int64)"
      ]
     },
     "execution_count": 165,
     "metadata": {},
     "output_type": "execute_result"
    }
   ],
   "source": [
    "confusion_matrix(y_test,y_pred_dt)"
   ]
  },
  {
   "cell_type": "code",
   "execution_count": 166,
   "id": "3dc8143d",
   "metadata": {},
   "outputs": [],
   "source": [
    "from sklearn.ensemble import RandomForestRegressor"
   ]
  },
  {
   "cell_type": "code",
   "execution_count": 167,
   "id": "d40ba327",
   "metadata": {},
   "outputs": [],
   "source": [
    "rfr=RandomForestRegressor()"
   ]
  },
  {
   "cell_type": "code",
   "execution_count": 168,
   "id": "8e6964d2",
   "metadata": {},
   "outputs": [
    {
     "ename": "ValueError",
     "evalue": "could not convert string to float: 'fracture'",
     "output_type": "error",
     "traceback": [
      "\u001b[1;31m---------------------------------------------------------------------------\u001b[0m",
      "\u001b[1;31mValueError\u001b[0m                                Traceback (most recent call last)",
      "\u001b[1;32m~\\AppData\\Local\\Temp\\ipykernel_12940\\1947426121.py\u001b[0m in \u001b[0;36m<module>\u001b[1;34m\u001b[0m\n\u001b[1;32m----> 1\u001b[1;33m \u001b[0mrfr\u001b[0m\u001b[1;33m.\u001b[0m\u001b[0mfit\u001b[0m\u001b[1;33m(\u001b[0m\u001b[0mx_train\u001b[0m\u001b[1;33m,\u001b[0m\u001b[0my_train\u001b[0m\u001b[1;33m)\u001b[0m\u001b[1;33m\u001b[0m\u001b[1;33m\u001b[0m\u001b[0m\n\u001b[0m",
      "\u001b[1;32mC:\\ProgramData\\Anaconda3\\lib\\site-packages\\sklearn\\ensemble\\_forest.py\u001b[0m in \u001b[0;36mfit\u001b[1;34m(self, X, y, sample_weight)\u001b[0m\n\u001b[0;32m    368\u001b[0m \u001b[1;33m\u001b[0m\u001b[0m\n\u001b[0;32m    369\u001b[0m         \u001b[1;32mif\u001b[0m \u001b[0mgetattr\u001b[0m\u001b[1;33m(\u001b[0m\u001b[0my\u001b[0m\u001b[1;33m,\u001b[0m \u001b[1;34m\"dtype\"\u001b[0m\u001b[1;33m,\u001b[0m \u001b[1;32mNone\u001b[0m\u001b[1;33m)\u001b[0m \u001b[1;33m!=\u001b[0m \u001b[0mDOUBLE\u001b[0m \u001b[1;32mor\u001b[0m \u001b[1;32mnot\u001b[0m \u001b[0my\u001b[0m\u001b[1;33m.\u001b[0m\u001b[0mflags\u001b[0m\u001b[1;33m.\u001b[0m\u001b[0mcontiguous\u001b[0m\u001b[1;33m:\u001b[0m\u001b[1;33m\u001b[0m\u001b[1;33m\u001b[0m\u001b[0m\n\u001b[1;32m--> 370\u001b[1;33m             \u001b[0my\u001b[0m \u001b[1;33m=\u001b[0m \u001b[0mnp\u001b[0m\u001b[1;33m.\u001b[0m\u001b[0mascontiguousarray\u001b[0m\u001b[1;33m(\u001b[0m\u001b[0my\u001b[0m\u001b[1;33m,\u001b[0m \u001b[0mdtype\u001b[0m\u001b[1;33m=\u001b[0m\u001b[0mDOUBLE\u001b[0m\u001b[1;33m)\u001b[0m\u001b[1;33m\u001b[0m\u001b[1;33m\u001b[0m\u001b[0m\n\u001b[0m\u001b[0;32m    371\u001b[0m \u001b[1;33m\u001b[0m\u001b[0m\n\u001b[0;32m    372\u001b[0m         \u001b[1;32mif\u001b[0m \u001b[0mexpanded_class_weight\u001b[0m \u001b[1;32mis\u001b[0m \u001b[1;32mnot\u001b[0m \u001b[1;32mNone\u001b[0m\u001b[1;33m:\u001b[0m\u001b[1;33m\u001b[0m\u001b[1;33m\u001b[0m\u001b[0m\n",
      "\u001b[1;31mValueError\u001b[0m: could not convert string to float: 'fracture'"
     ]
    }
   ],
   "source": [
    "rfr.fit(x_train,y_train)"
   ]
  },
  {
   "cell_type": "code",
   "execution_count": 172,
   "id": "bbbbaeed",
   "metadata": {},
   "outputs": [],
   "source": [
    "fru['fracture']=fru['fracture'].map({\"fracture\":0,\"no fracture\":1})"
   ]
  },
  {
   "cell_type": "code",
   "execution_count": 173,
   "id": "cb1001ab",
   "metadata": {},
   "outputs": [
    {
     "data": {
      "text/plain": [
       "0      1\n",
       "1      1\n",
       "2      1\n",
       "3      1\n",
       "4      1\n",
       "      ..\n",
       "164    0\n",
       "165    0\n",
       "166    0\n",
       "167    0\n",
       "168    0\n",
       "Name: fracture, Length: 169, dtype: int64"
      ]
     },
     "execution_count": 173,
     "metadata": {},
     "output_type": "execute_result"
    }
   ],
   "source": [
    "fru['fracture']"
   ]
  },
  {
   "cell_type": "code",
   "execution_count": 174,
   "id": "40277214",
   "metadata": {},
   "outputs": [],
   "source": [
    "from sklearn.ensemble import RandomForestRegressor"
   ]
  },
  {
   "cell_type": "code",
   "execution_count": 175,
   "id": "696d39dc",
   "metadata": {},
   "outputs": [],
   "source": [
    "rfr=RandomForestRegressor()"
   ]
  },
  {
   "cell_type": "code",
   "execution_count": null,
   "id": "49581ff3",
   "metadata": {},
   "outputs": [],
   "source": []
  }
 ],
 "metadata": {
  "kernelspec": {
   "display_name": "Python 3 (ipykernel)",
   "language": "python",
   "name": "python3"
  },
  "language_info": {
   "codemirror_mode": {
    "name": "ipython",
    "version": 3
   },
   "file_extension": ".py",
   "mimetype": "text/x-python",
   "name": "python",
   "nbconvert_exporter": "python",
   "pygments_lexer": "ipython3",
   "version": "3.9.13"
  }
 },
 "nbformat": 4,
 "nbformat_minor": 5
}
