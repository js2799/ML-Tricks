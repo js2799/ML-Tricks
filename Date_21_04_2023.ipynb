{
 "cells": [
  {
   "cell_type": "code",
   "execution_count": 1,
   "id": "812d9922",
   "metadata": {},
   "outputs": [],
   "source": [
    "import numpy as np\n",
    "import pandas as pd"
   ]
  },
  {
   "cell_type": "code",
   "execution_count": 2,
   "id": "fdbcb7ce",
   "metadata": {},
   "outputs": [],
   "source": [
    "import matplotlib.pyplot as plt\n",
    "import seaborn as sns"
   ]
  },
  {
   "cell_type": "code",
   "execution_count": 4,
   "id": "622fbec7",
   "metadata": {},
   "outputs": [],
   "source": [
    "from sklearn.cluster import KMeans"
   ]
  },
  {
   "cell_type": "code",
   "execution_count": 5,
   "id": "16d7c9a4",
   "metadata": {},
   "outputs": [],
   "source": [
    "mall=pd.read_csv('Mall_Customers.csv')"
   ]
  },
  {
   "cell_type": "code",
   "execution_count": 7,
   "id": "46ba456b",
   "metadata": {},
   "outputs": [
    {
     "name": "stdout",
     "output_type": "stream",
     "text": [
      "     CustomerID   Genre  Age  Annual Income (k$)  Spending Score (1-100)\n",
      "0             1    Male   19                  15                      39\n",
      "1             2    Male   21                  15                      81\n",
      "2             3  Female   20                  16                       6\n",
      "3             4  Female   23                  16                      77\n",
      "4             5  Female   31                  17                      40\n",
      "..          ...     ...  ...                 ...                     ...\n",
      "195         196  Female   35                 120                      79\n",
      "196         197  Female   45                 126                      28\n",
      "197         198    Male   32                 126                      74\n",
      "198         199    Male   32                 137                      18\n",
      "199         200    Male   30                 137                      83\n",
      "\n",
      "[200 rows x 5 columns]\n",
      "   CustomerID   Genre  Age  Annual Income (k$)  Spending Score (1-100)\n",
      "0           1    Male   19                  15                      39\n",
      "1           2    Male   21                  15                      81\n",
      "2           3  Female   20                  16                       6\n",
      "3           4  Female   23                  16                      77\n",
      "4           5  Female   31                  17                      40\n",
      "     CustomerID   Genre  Age  Annual Income (k$)  Spending Score (1-100)\n",
      "195         196  Female   35                 120                      79\n",
      "196         197  Female   45                 126                      28\n",
      "197         198    Male   32                 126                      74\n",
      "198         199    Male   32                 137                      18\n",
      "199         200    Male   30                 137                      83\n"
     ]
    }
   ],
   "source": [
    "print(mall)\n",
    "print(mall.head())\n",
    "print(mall.tail())"
   ]
  },
  {
   "cell_type": "code",
   "execution_count": 8,
   "id": "e8678268",
   "metadata": {},
   "outputs": [
    {
     "data": {
      "text/plain": [
       "(200, 5)"
      ]
     },
     "execution_count": 8,
     "metadata": {},
     "output_type": "execute_result"
    }
   ],
   "source": [
    "mall.shape"
   ]
  },
  {
   "cell_type": "code",
   "execution_count": 9,
   "id": "2ad87b8e",
   "metadata": {},
   "outputs": [
    {
     "data": {
      "text/plain": [
       "1000"
      ]
     },
     "execution_count": 9,
     "metadata": {},
     "output_type": "execute_result"
    }
   ],
   "source": [
    "mall.size"
   ]
  },
  {
   "cell_type": "code",
   "execution_count": 10,
   "id": "3cab1400",
   "metadata": {},
   "outputs": [
    {
     "data": {
      "text/html": [
       "<div>\n",
       "<style scoped>\n",
       "    .dataframe tbody tr th:only-of-type {\n",
       "        vertical-align: middle;\n",
       "    }\n",
       "\n",
       "    .dataframe tbody tr th {\n",
       "        vertical-align: top;\n",
       "    }\n",
       "\n",
       "    .dataframe thead th {\n",
       "        text-align: right;\n",
       "    }\n",
       "</style>\n",
       "<table border=\"1\" class=\"dataframe\">\n",
       "  <thead>\n",
       "    <tr style=\"text-align: right;\">\n",
       "      <th></th>\n",
       "      <th>CustomerID</th>\n",
       "      <th>Age</th>\n",
       "      <th>Annual Income (k$)</th>\n",
       "      <th>Spending Score (1-100)</th>\n",
       "    </tr>\n",
       "  </thead>\n",
       "  <tbody>\n",
       "    <tr>\n",
       "      <th>count</th>\n",
       "      <td>200.000000</td>\n",
       "      <td>200.000000</td>\n",
       "      <td>200.000000</td>\n",
       "      <td>200.000000</td>\n",
       "    </tr>\n",
       "    <tr>\n",
       "      <th>mean</th>\n",
       "      <td>100.500000</td>\n",
       "      <td>38.850000</td>\n",
       "      <td>60.560000</td>\n",
       "      <td>50.200000</td>\n",
       "    </tr>\n",
       "    <tr>\n",
       "      <th>std</th>\n",
       "      <td>57.879185</td>\n",
       "      <td>13.969007</td>\n",
       "      <td>26.264721</td>\n",
       "      <td>25.823522</td>\n",
       "    </tr>\n",
       "    <tr>\n",
       "      <th>min</th>\n",
       "      <td>1.000000</td>\n",
       "      <td>18.000000</td>\n",
       "      <td>15.000000</td>\n",
       "      <td>1.000000</td>\n",
       "    </tr>\n",
       "    <tr>\n",
       "      <th>25%</th>\n",
       "      <td>50.750000</td>\n",
       "      <td>28.750000</td>\n",
       "      <td>41.500000</td>\n",
       "      <td>34.750000</td>\n",
       "    </tr>\n",
       "    <tr>\n",
       "      <th>50%</th>\n",
       "      <td>100.500000</td>\n",
       "      <td>36.000000</td>\n",
       "      <td>61.500000</td>\n",
       "      <td>50.000000</td>\n",
       "    </tr>\n",
       "    <tr>\n",
       "      <th>75%</th>\n",
       "      <td>150.250000</td>\n",
       "      <td>49.000000</td>\n",
       "      <td>78.000000</td>\n",
       "      <td>73.000000</td>\n",
       "    </tr>\n",
       "    <tr>\n",
       "      <th>max</th>\n",
       "      <td>200.000000</td>\n",
       "      <td>70.000000</td>\n",
       "      <td>137.000000</td>\n",
       "      <td>99.000000</td>\n",
       "    </tr>\n",
       "  </tbody>\n",
       "</table>\n",
       "</div>"
      ],
      "text/plain": [
       "       CustomerID         Age  Annual Income (k$)  Spending Score (1-100)\n",
       "count  200.000000  200.000000          200.000000              200.000000\n",
       "mean   100.500000   38.850000           60.560000               50.200000\n",
       "std     57.879185   13.969007           26.264721               25.823522\n",
       "min      1.000000   18.000000           15.000000                1.000000\n",
       "25%     50.750000   28.750000           41.500000               34.750000\n",
       "50%    100.500000   36.000000           61.500000               50.000000\n",
       "75%    150.250000   49.000000           78.000000               73.000000\n",
       "max    200.000000   70.000000          137.000000               99.000000"
      ]
     },
     "execution_count": 10,
     "metadata": {},
     "output_type": "execute_result"
    }
   ],
   "source": [
    "mall.describe()"
   ]
  },
  {
   "cell_type": "code",
   "execution_count": 11,
   "id": "b4c3af1a",
   "metadata": {},
   "outputs": [
    {
     "name": "stdout",
     "output_type": "stream",
     "text": [
      "<class 'pandas.core.frame.DataFrame'>\n",
      "RangeIndex: 200 entries, 0 to 199\n",
      "Data columns (total 5 columns):\n",
      " #   Column                  Non-Null Count  Dtype \n",
      "---  ------                  --------------  ----- \n",
      " 0   CustomerID              200 non-null    int64 \n",
      " 1   Genre                   200 non-null    object\n",
      " 2   Age                     200 non-null    int64 \n",
      " 3   Annual Income (k$)      200 non-null    int64 \n",
      " 4   Spending Score (1-100)  200 non-null    int64 \n",
      "dtypes: int64(4), object(1)\n",
      "memory usage: 7.9+ KB\n"
     ]
    }
   ],
   "source": [
    "mall.info()"
   ]
  },
  {
   "cell_type": "code",
   "execution_count": 12,
   "id": "16a0e4c0",
   "metadata": {},
   "outputs": [
    {
     "data": {
      "text/plain": [
       "CustomerID                0\n",
       "Genre                     0\n",
       "Age                       0\n",
       "Annual Income (k$)        0\n",
       "Spending Score (1-100)    0\n",
       "dtype: int64"
      ]
     },
     "execution_count": 12,
     "metadata": {},
     "output_type": "execute_result"
    }
   ],
   "source": [
    "mall.isnull().sum()"
   ]
  },
  {
   "cell_type": "code",
   "execution_count": 13,
   "id": "eb716f1f",
   "metadata": {},
   "outputs": [
    {
     "data": {
      "text/plain": [
       "False    200\n",
       "dtype: int64"
      ]
     },
     "execution_count": 13,
     "metadata": {},
     "output_type": "execute_result"
    }
   ],
   "source": [
    "mall.duplicated().value_counts()"
   ]
  },
  {
   "cell_type": "code",
   "execution_count": 16,
   "id": "afc3819c",
   "metadata": {},
   "outputs": [
    {
     "data": {
      "text/plain": [
       "<AxesSubplot:xlabel='Genre', ylabel='count'>"
      ]
     },
     "execution_count": 16,
     "metadata": {},
     "output_type": "execute_result"
    },
    {
     "data": {
      "image/png": "[encoded data removed]",
      "text/plain": [
       "<Figure size 800x800 with 1 Axes>"
      ]
     },
     "metadata": {},
     "output_type": "display_data"
    }
   ],
   "source": [
    "plt.figure(figsize=(8,8))\n",
    "sns.countplot(x='Genre',data=mall)\n"
   ]
  },
  {
   "cell_type": "code",
   "execution_count": 17,
   "id": "b26a0b7f",
   "metadata": {},
   "outputs": [
    {
     "data": {
      "text/plain": [
       "Female    112\n",
       "Male       88\n",
       "Name: Genre, dtype: int64"
      ]
     },
     "execution_count": 17,
     "metadata": {},
     "output_type": "execute_result"
    }
   ],
   "source": [
    "mall['Genre'].value_counts()"
   ]
  },
  {
   "cell_type": "code",
   "execution_count": 18,
   "id": "70a240d2",
   "metadata": {},
   "outputs": [
    {
     "data": {
      "text/plain": [
       "<seaborn.axisgrid.FacetGrid at 0x22aaab9e2e0>"
      ]
     },
     "execution_count": 18,
     "metadata": {},
     "output_type": "execute_result"
    },
    {
     "data": {
      "image/png": "[encoded data removed]",
      "text/plain": [
       "<Figure size 500x500 with 1 Axes>"
      ]
     },
     "metadata": {},
     "output_type": "display_data"
    }
   ],
   "source": [
    "sns.displot(x=mall['Age'],kde=True,color='skyblue')"
   ]
  },
  {
   "cell_type": "code",
   "execution_count": 19,
   "id": "d9e73c9f",
   "metadata": {},
   "outputs": [
    {
     "data": {
      "text/plain": [
       "<AxesSubplot:xlabel='Age', ylabel='Annual Income (k$)'>"
      ]
     },
     "execution_count": 19,
     "metadata": {},
     "output_type": "execute_result"
    },
    {
     "data": {
      "image/png": "[encoded data removed]",
      "text/plain": [
       "<Figure size 640x480 with 1 Axes>"
      ]
     },
     "metadata": {},
     "output_type": "display_data"
    }
   ],
   "source": [
    "sns.scatterplot(data=mall,x='Age',y='Annual Income (k$)',hue='Genre')"
   ]
  },
  {
   "cell_type": "code",
   "execution_count": 20,
   "id": "bc790a6d",
   "metadata": {},
   "outputs": [
    {
     "data": {
      "text/plain": [
       "<AxesSubplot:xlabel='Age', ylabel='Spending Score (1-100)'>"
      ]
     },
     "execution_count": 20,
     "metadata": {},
     "output_type": "execute_result"
    },
    {
     "data": {
      "image/png": "[encoded data removed]",
      "text/plain": [
       "<Figure size 640x480 with 1 Axes>"
      ]
     },
     "metadata": {},
     "output_type": "display_data"
    }
   ],
   "source": [
    "sns.scatterplot(x='Age',y='Spending Score (1-100)',hue='Genre',data=mall)"
   ]
  },
  {
   "cell_type": "code",
   "execution_count": 44,
   "id": "ddbae6a1",
   "metadata": {},
   "outputs": [
    {
     "data": {
      "text/plain": [
       "array([[ 15,  39],\n",
       "       [ 15,  81],\n",
       "       [ 16,   6],\n",
       "       [ 16,  77],\n",
       "       [ 17,  40],\n",
       "       [ 17,  76],\n",
       "       [ 18,   6],\n",
       "       [ 18,  94],\n",
       "       [ 19,   3],\n",
       "       [ 19,  72],\n",
       "       [ 19,  14],\n",
       "       [ 19,  99],\n",
       "       [ 20,  15],\n",
       "       [ 20,  77],\n",
       "       [ 20,  13],\n",
       "       [ 20,  79],\n",
       "       [ 21,  35],\n",
       "       [ 21,  66],\n",
       "       [ 23,  29],\n",
       "       [ 23,  98],\n",
       "       [ 24,  35],\n",
       "       [ 24,  73],\n",
       "       [ 25,   5],\n",
       "       [ 25,  73],\n",
       "       [ 28,  14],\n",
       "       [ 28,  82],\n",
       "       [ 28,  32],\n",
       "       [ 28,  61],\n",
       "       [ 29,  31],\n",
       "       [ 29,  87],\n",
       "       [ 30,   4],\n",
       "       [ 30,  73],\n",
       "       [ 33,   4],\n",
       "       [ 33,  92],\n",
       "       [ 33,  14],\n",
       "       [ 33,  81],\n",
       "       [ 34,  17],\n",
       "       [ 34,  73],\n",
       "       [ 37,  26],\n",
       "       [ 37,  75],\n",
       "       [ 38,  35],\n",
       "       [ 38,  92],\n",
       "       [ 39,  36],\n",
       "       [ 39,  61],\n",
       "       [ 39,  28],\n",
       "       [ 39,  65],\n",
       "       [ 40,  55],\n",
       "       [ 40,  47],\n",
       "       [ 40,  42],\n",
       "       [ 40,  42],\n",
       "       [ 42,  52],\n",
       "       [ 42,  60],\n",
       "       [ 43,  54],\n",
       "       [ 43,  60],\n",
       "       [ 43,  45],\n",
       "       [ 43,  41],\n",
       "       [ 44,  50],\n",
       "       [ 44,  46],\n",
       "       [ 46,  51],\n",
       "       [ 46,  46],\n",
       "       [ 46,  56],\n",
       "       [ 46,  55],\n",
       "       [ 47,  52],\n",
       "       [ 47,  59],\n",
       "       [ 48,  51],\n",
       "       [ 48,  59],\n",
       "       [ 48,  50],\n",
       "       [ 48,  48],\n",
       "       [ 48,  59],\n",
       "       [ 48,  47],\n",
       "       [ 49,  55],\n",
       "       [ 49,  42],\n",
       "       [ 50,  49],\n",
       "       [ 50,  56],\n",
       "       [ 54,  47],\n",
       "       [ 54,  54],\n",
       "       [ 54,  53],\n",
       "       [ 54,  48],\n",
       "       [ 54,  52],\n",
       "       [ 54,  42],\n",
       "       [ 54,  51],\n",
       "       [ 54,  55],\n",
       "       [ 54,  41],\n",
       "       [ 54,  44],\n",
       "       [ 54,  57],\n",
       "       [ 54,  46],\n",
       "       [ 57,  58],\n",
       "       [ 57,  55],\n",
       "       [ 58,  60],\n",
       "       [ 58,  46],\n",
       "       [ 59,  55],\n",
       "       [ 59,  41],\n",
       "       [ 60,  49],\n",
       "       [ 60,  40],\n",
       "       [ 60,  42],\n",
       "       [ 60,  52],\n",
       "       [ 60,  47],\n",
       "       [ 60,  50],\n",
       "       [ 61,  42],\n",
       "       [ 61,  49],\n",
       "       [ 62,  41],\n",
       "       [ 62,  48],\n",
       "       [ 62,  59],\n",
       "       [ 62,  55],\n",
       "       [ 62,  56],\n",
       "       [ 62,  42],\n",
       "       [ 63,  50],\n",
       "       [ 63,  46],\n",
       "       [ 63,  43],\n",
       "       [ 63,  48],\n",
       "       [ 63,  52],\n",
       "       [ 63,  54],\n",
       "       [ 64,  42],\n",
       "       [ 64,  46],\n",
       "       [ 65,  48],\n",
       "       [ 65,  50],\n",
       "       [ 65,  43],\n",
       "       [ 65,  59],\n",
       "       [ 67,  43],\n",
       "       [ 67,  57],\n",
       "       [ 67,  56],\n",
       "       [ 67,  40],\n",
       "       [ 69,  58],\n",
       "       [ 69,  91],\n",
       "       [ 70,  29],\n",
       "       [ 70,  77],\n",
       "       [ 71,  35],\n",
       "       [ 71,  95],\n",
       "       [ 71,  11],\n",
       "       [ 71,  75],\n",
       "       [ 71,   9],\n",
       "       [ 71,  75],\n",
       "       [ 72,  34],\n",
       "       [ 72,  71],\n",
       "       [ 73,   5],\n",
       "       [ 73,  88],\n",
       "       [ 73,   7],\n",
       "       [ 73,  73],\n",
       "       [ 74,  10],\n",
       "       [ 74,  72],\n",
       "       [ 75,   5],\n",
       "       [ 75,  93],\n",
       "       [ 76,  40],\n",
       "       [ 76,  87],\n",
       "       [ 77,  12],\n",
       "       [ 77,  97],\n",
       "       [ 77,  36],\n",
       "       [ 77,  74],\n",
       "       [ 78,  22],\n",
       "       [ 78,  90],\n",
       "       [ 78,  17],\n",
       "       [ 78,  88],\n",
       "       [ 78,  20],\n",
       "       [ 78,  76],\n",
       "       [ 78,  16],\n",
       "       [ 78,  89],\n",
       "       [ 78,   1],\n",
       "       [ 78,  78],\n",
       "       [ 78,   1],\n",
       "       [ 78,  73],\n",
       "       [ 79,  35],\n",
       "       [ 79,  83],\n",
       "       [ 81,   5],\n",
       "       [ 81,  93],\n",
       "       [ 85,  26],\n",
       "       [ 85,  75],\n",
       "       [ 86,  20],\n",
       "       [ 86,  95],\n",
       "       [ 87,  27],\n",
       "       [ 87,  63],\n",
       "       [ 87,  13],\n",
       "       [ 87,  75],\n",
       "       [ 87,  10],\n",
       "       [ 87,  92],\n",
       "       [ 88,  13],\n",
       "       [ 88,  86],\n",
       "       [ 88,  15],\n",
       "       [ 88,  69],\n",
       "       [ 93,  14],\n",
       "       [ 93,  90],\n",
       "       [ 97,  32],\n",
       "       [ 97,  86],\n",
       "       [ 98,  15],\n",
       "       [ 98,  88],\n",
       "       [ 99,  39],\n",
       "       [ 99,  97],\n",
       "       [101,  24],\n",
       "       [101,  68],\n",
       "       [103,  17],\n",
       "       [103,  85],\n",
       "       [103,  23],\n",
       "       [103,  69],\n",
       "       [113,   8],\n",
       "       [113,  91],\n",
       "       [120,  16],\n",
       "       [120,  79],\n",
       "       [126,  28],\n",
       "       [126,  74],\n",
       "       [137,  18],\n",
       "       [137,  83]], dtype=int64)"
      ]
     },
     "execution_count": 44,
     "metadata": {},
     "output_type": "execute_result"
    }
   ],
   "source": [
    "#chossing Annual Income and Spending Score\n",
    "X=mall.iloc[:,[3,4]].values\n",
    "X"
   ]
  },
  {
   "cell_type": "code",
   "execution_count": 59,
   "id": "ae11c3f6",
   "metadata": {},
   "outputs": [],
   "source": [
    "km =KMeans(n_clusters=2)"
   ]
  },
  {
   "cell_type": "code",
   "execution_count": 60,
   "id": "21867a49",
   "metadata": {},
   "outputs": [
    {
     "data": {
      "text/plain": [
       "KMeans(n_clusters=2)"
      ]
     },
     "execution_count": 60,
     "metadata": {},
     "output_type": "execute_result"
    }
   ],
   "source": [
    "km.fit(mall[['Age','Annual Income (k$)']])"
   ]
  },
  {
   "cell_type": "code",
   "execution_count": 62,
   "id": "8900dc38",
   "metadata": {},
   "outputs": [
    {
     "name": "stderr",
     "output_type": "stream",
     "text": [
      "C:\\ProgramData\\Anaconda3\\lib\\site-packages\\sklearn\\base.py:450: UserWarning: X does not have valid feature names, but KMeans was fitted with feature names\n",
      "  warnings.warn(\n"
     ]
    },
    {
     "ename": "ValueError",
     "evalue": "Length of values (1) does not match length of index (200)",
     "output_type": "error",
     "traceback": [
      "\u001b[1;31m---------------------------------------------------------------------------\u001b[0m",
      "\u001b[1;31mValueError\u001b[0m                                Traceback (most recent call last)",
      "\u001b[1;32m~\\AppData\\Local\\Temp\\ipykernel_5924\\1551171935.py\u001b[0m in \u001b[0;36m<module>\u001b[1;34m\u001b[0m\n\u001b[0;32m      4\u001b[0m \u001b[1;33m\u001b[0m\u001b[0m\n\u001b[0;32m      5\u001b[0m \u001b[1;33m\u001b[0m\u001b[0m\n\u001b[1;32m----> 6\u001b[1;33m \u001b[0mmall\u001b[0m\u001b[1;33m[\u001b[0m\u001b[1;34m'cluster'\u001b[0m\u001b[1;33m]\u001b[0m\u001b[1;33m=\u001b[0m\u001b[0my_predicted\u001b[0m\u001b[1;33m\u001b[0m\u001b[1;33m\u001b[0m\u001b[0m\n\u001b[0m",
      "\u001b[1;32mC:\\ProgramData\\Anaconda3\\lib\\site-packages\\pandas\\core\\frame.py\u001b[0m in \u001b[0;36m__setitem__\u001b[1;34m(self, key, value)\u001b[0m\n\u001b[0;32m   3653\u001b[0m         \u001b[1;32melse\u001b[0m\u001b[1;33m:\u001b[0m\u001b[1;33m\u001b[0m\u001b[1;33m\u001b[0m\u001b[0m\n\u001b[0;32m   3654\u001b[0m             \u001b[1;31m# set column\u001b[0m\u001b[1;33m\u001b[0m\u001b[1;33m\u001b[0m\u001b[0m\n\u001b[1;32m-> 3655\u001b[1;33m             \u001b[0mself\u001b[0m\u001b[1;33m.\u001b[0m\u001b[0m_set_item\u001b[0m\u001b[1;33m(\u001b[0m\u001b[0mkey\u001b[0m\u001b[1;33m,\u001b[0m \u001b[0mvalue\u001b[0m\u001b[1;33m)\u001b[0m\u001b[1;33m\u001b[0m\u001b[1;33m\u001b[0m\u001b[0m\n\u001b[0m\u001b[0;32m   3656\u001b[0m \u001b[1;33m\u001b[0m\u001b[0m\n\u001b[0;32m   3657\u001b[0m     \u001b[1;32mdef\u001b[0m \u001b[0m_setitem_slice\u001b[0m\u001b[1;33m(\u001b[0m\u001b[0mself\u001b[0m\u001b[1;33m,\u001b[0m \u001b[0mkey\u001b[0m\u001b[1;33m:\u001b[0m \u001b[0mslice\u001b[0m\u001b[1;33m,\u001b[0m \u001b[0mvalue\u001b[0m\u001b[1;33m)\u001b[0m\u001b[1;33m:\u001b[0m\u001b[1;33m\u001b[0m\u001b[1;33m\u001b[0m\u001b[0m\n",
      "\u001b[1;32mC:\\ProgramData\\Anaconda3\\lib\\site-packages\\pandas\\core\\frame.py\u001b[0m in \u001b[0;36m_set_item\u001b[1;34m(self, key, value)\u001b[0m\n\u001b[0;32m   3830\u001b[0m         \u001b[0mensure\u001b[0m \u001b[0mhomogeneity\u001b[0m\u001b[1;33m.\u001b[0m\u001b[1;33m\u001b[0m\u001b[1;33m\u001b[0m\u001b[0m\n\u001b[0;32m   3831\u001b[0m         \"\"\"\n\u001b[1;32m-> 3832\u001b[1;33m         \u001b[0mvalue\u001b[0m \u001b[1;33m=\u001b[0m \u001b[0mself\u001b[0m\u001b[1;33m.\u001b[0m\u001b[0m_sanitize_column\u001b[0m\u001b[1;33m(\u001b[0m\u001b[0mvalue\u001b[0m\u001b[1;33m)\u001b[0m\u001b[1;33m\u001b[0m\u001b[1;33m\u001b[0m\u001b[0m\n\u001b[0m\u001b[0;32m   3833\u001b[0m \u001b[1;33m\u001b[0m\u001b[0m\n\u001b[0;32m   3834\u001b[0m         if (\n",
      "\u001b[1;32mC:\\ProgramData\\Anaconda3\\lib\\site-packages\\pandas\\core\\frame.py\u001b[0m in \u001b[0;36m_sanitize_column\u001b[1;34m(self, value)\u001b[0m\n\u001b[0;32m   4536\u001b[0m \u001b[1;33m\u001b[0m\u001b[0m\n\u001b[0;32m   4537\u001b[0m         \u001b[1;32mif\u001b[0m \u001b[0mis_list_like\u001b[0m\u001b[1;33m(\u001b[0m\u001b[0mvalue\u001b[0m\u001b[1;33m)\u001b[0m\u001b[1;33m:\u001b[0m\u001b[1;33m\u001b[0m\u001b[1;33m\u001b[0m\u001b[0m\n\u001b[1;32m-> 4538\u001b[1;33m             \u001b[0mcom\u001b[0m\u001b[1;33m.\u001b[0m\u001b[0mrequire_length_match\u001b[0m\u001b[1;33m(\u001b[0m\u001b[0mvalue\u001b[0m\u001b[1;33m,\u001b[0m \u001b[0mself\u001b[0m\u001b[1;33m.\u001b[0m\u001b[0mindex\u001b[0m\u001b[1;33m)\u001b[0m\u001b[1;33m\u001b[0m\u001b[1;33m\u001b[0m\u001b[0m\n\u001b[0m\u001b[0;32m   4539\u001b[0m         \u001b[1;32mreturn\u001b[0m \u001b[0msanitize_array\u001b[0m\u001b[1;33m(\u001b[0m\u001b[0mvalue\u001b[0m\u001b[1;33m,\u001b[0m \u001b[0mself\u001b[0m\u001b[1;33m.\u001b[0m\u001b[0mindex\u001b[0m\u001b[1;33m,\u001b[0m \u001b[0mcopy\u001b[0m\u001b[1;33m=\u001b[0m\u001b[1;32mTrue\u001b[0m\u001b[1;33m,\u001b[0m \u001b[0mallow_2d\u001b[0m\u001b[1;33m=\u001b[0m\u001b[1;32mTrue\u001b[0m\u001b[1;33m)\u001b[0m\u001b[1;33m\u001b[0m\u001b[1;33m\u001b[0m\u001b[0m\n\u001b[0;32m   4540\u001b[0m \u001b[1;33m\u001b[0m\u001b[0m\n",
      "\u001b[1;32mC:\\ProgramData\\Anaconda3\\lib\\site-packages\\pandas\\core\\common.py\u001b[0m in \u001b[0;36mrequire_length_match\u001b[1;34m(data, index)\u001b[0m\n\u001b[0;32m    555\u001b[0m     \"\"\"\n\u001b[0;32m    556\u001b[0m     \u001b[1;32mif\u001b[0m \u001b[0mlen\u001b[0m\u001b[1;33m(\u001b[0m\u001b[0mdata\u001b[0m\u001b[1;33m)\u001b[0m \u001b[1;33m!=\u001b[0m \u001b[0mlen\u001b[0m\u001b[1;33m(\u001b[0m\u001b[0mindex\u001b[0m\u001b[1;33m)\u001b[0m\u001b[1;33m:\u001b[0m\u001b[1;33m\u001b[0m\u001b[1;33m\u001b[0m\u001b[0m\n\u001b[1;32m--> 557\u001b[1;33m         raise ValueError(\n\u001b[0m\u001b[0;32m    558\u001b[0m             \u001b[1;34m\"Length of values \"\u001b[0m\u001b[1;33m\u001b[0m\u001b[1;33m\u001b[0m\u001b[0m\n\u001b[0;32m    559\u001b[0m             \u001b[1;34mf\"({len(data)}) \"\u001b[0m\u001b[1;33m\u001b[0m\u001b[1;33m\u001b[0m\u001b[0m\n",
      "\u001b[1;31mValueError\u001b[0m: Length of values (1) does not match length of index (200)"
     ]
    }
   ],
   "source": [
    "y_predicted=km.predict([[18,'137']])\n",
    "y_predicted\n",
    "\n",
    "\n",
    "\n",
    "mall['cluster']=y_predicted"
   ]
  },
  {
   "cell_type": "code",
   "execution_count": 47,
   "id": "dbbc6af7",
   "metadata": {},
   "outputs": [],
   "source": [
    "from sklearn.cluster import AgglomerativeClustering"
   ]
  },
  {
   "cell_type": "code",
   "execution_count": 51,
   "id": "2ead4dab",
   "metadata": {},
   "outputs": [
    {
     "data": {
      "text/plain": [
       "array([1, 1, 1, 1, 1, 1, 1, 1, 1, 1, 1, 1, 1, 1, 1, 1, 1, 1, 1, 1, 1, 1,\n",
       "       1, 1, 1, 1, 1, 1, 1, 1, 1, 1, 1, 1, 1, 1, 1, 1, 1, 1, 1, 1, 1, 1,\n",
       "       1, 1, 1, 1, 1, 1, 1, 1, 1, 1, 1, 1, 1, 1, 1, 1, 1, 1, 1, 1, 1, 1,\n",
       "       1, 1, 1, 1, 1, 1, 1, 1, 1, 1, 1, 1, 1, 1, 1, 1, 1, 1, 1, 1, 1, 1,\n",
       "       1, 1, 1, 1, 1, 1, 1, 1, 1, 1, 1, 1, 1, 1, 1, 1, 1, 1, 1, 1, 1, 1,\n",
       "       1, 1, 1, 1, 1, 1, 1, 1, 1, 1, 1, 1, 1, 0, 1, 0, 1, 0, 0, 0, 0, 0,\n",
       "       1, 0, 0, 0, 0, 0, 0, 0, 0, 0, 1, 0, 0, 0, 1, 0, 0, 0, 0, 0, 0, 0,\n",
       "       0, 0, 0, 0, 0, 0, 1, 0, 0, 0, 0, 0, 0, 0, 0, 0, 0, 0, 0, 0, 0, 0,\n",
       "       0, 0, 0, 0, 0, 0, 0, 0, 0, 0, 0, 0, 0, 0, 0, 0, 0, 0, 0, 0, 0, 0,\n",
       "       0, 0], dtype=int64)"
      ]
     },
     "execution_count": 51,
     "metadata": {},
     "output_type": "execute_result"
    }
   ],
   "source": [
    "hc  = AgglomerativeClustering()\n",
    "hc\n",
    "y_hc = hc.fit_predict(X)\n",
    "y_hc"
   ]
  },
  {
   "cell_type": "code",
   "execution_count": 53,
   "id": "e2cea09f",
   "metadata": {},
   "outputs": [
    {
     "data": {
      "text/plain": [
       "<matplotlib.collections.PathCollection at 0x22aac7475b0>"
      ]
     },
     "execution_count": 53,
     "metadata": {},
     "output_type": "execute_result"
    },
    {
     "data": {
      "image/png": "[encoded data removed]",
      "text/plain": [
       "<Figure size 640x480 with 1 Axes>"
      ]
     },
     "metadata": {},
     "output_type": "display_data"
    }
   ],
   "source": [
    "plt.scatter(X[y_hc==0,0],X[y_hc==0,1],s=100,c='red',label='cluster1')\n",
    "plt.scatter(X[y_hc==1,0],X[y_hc==1,1],s=100,c='blue',label='cluster2')\n",
    "plt.scatter(X[y_hc==2,0],X[y_hc==2,1],s=100,c='green',label='cluster3')\n",
    "plt.scatter(X[y_hc==3,0],X[y_hc==3,1],s=100,c='yellow',label='cluster4')\n",
    "plt.scatter(X[y_hc==4,0],X[y_hc==4,1],s=100,c='pink',label='cluster5')\n"
   ]
  },
  {
   "cell_type": "code",
   "execution_count": 54,
   "id": "63f43374",
   "metadata": {},
   "outputs": [],
   "source": [
    "kmeans = KMeans(n_clusters=5, init='k-means++', random_state=0)"
   ]
  },
  {
   "cell_type": "code",
   "execution_count": 55,
   "id": "5138dd15",
   "metadata": {},
   "outputs": [],
   "source": [
    "Y= kmeans.fit_predict(X)"
   ]
  },
  {
   "cell_type": "code",
   "execution_count": 56,
   "id": "b1786db5",
   "metadata": {},
   "outputs": [
    {
     "data": {
      "text/plain": [
       "array([4, 3, 4, 3, 4, 3, 4, 3, 4, 3, 4, 3, 4, 3, 4, 3, 4, 3, 4, 3, 4, 3,\n",
       "       4, 3, 4, 3, 4, 3, 4, 3, 4, 3, 4, 3, 4, 3, 4, 3, 4, 3, 4, 3, 4, 1,\n",
       "       4, 3, 1, 1, 1, 1, 1, 1, 1, 1, 1, 1, 1, 1, 1, 1, 1, 1, 1, 1, 1, 1,\n",
       "       1, 1, 1, 1, 1, 1, 1, 1, 1, 1, 1, 1, 1, 1, 1, 1, 1, 1, 1, 1, 1, 1,\n",
       "       1, 1, 1, 1, 1, 1, 1, 1, 1, 1, 1, 1, 1, 1, 1, 1, 1, 1, 1, 1, 1, 1,\n",
       "       1, 1, 1, 1, 1, 1, 1, 1, 1, 1, 1, 1, 1, 2, 0, 2, 1, 2, 0, 2, 0, 2,\n",
       "       1, 2, 0, 2, 0, 2, 0, 2, 0, 2, 1, 2, 0, 2, 0, 2, 0, 2, 0, 2, 0, 2,\n",
       "       0, 2, 0, 2, 0, 2, 0, 2, 0, 2, 0, 2, 0, 2, 0, 2, 0, 2, 0, 2, 0, 2,\n",
       "       0, 2, 0, 2, 0, 2, 0, 2, 0, 2, 0, 2, 0, 2, 0, 2, 0, 2, 0, 2, 0, 2,\n",
       "       0, 2])"
      ]
     },
     "execution_count": 56,
     "metadata": {},
     "output_type": "execute_result"
    }
   ],
   "source": [
    "Y"
   ]
  },
  {
   "cell_type": "code",
   "execution_count": 58,
   "id": "2849bc5b",
   "metadata": {},
   "outputs": [
    {
     "data": {
      "image/png": "[encoded data removed]",
      "text/plain": [
       "<Figure size 800x800 with 1 Axes>"
      ]
     },
     "metadata": {},
     "output_type": "display_data"
    }
   ],
   "source": [
    "plt.figure(figsize=(8,8))\n",
    "plt.scatter(X[Y==0,0], X[Y==0,1], s=150, c='green', label='Cluster 1')\n",
    "plt.scatter(X[Y==1,0], X[Y==1,1], s=50, c='orange', label='Cluster 2')\n",
    "plt.scatter(X[Y==2,0], X[Y==2,1], s=50, c='red', label='Cluster 3')\n",
    "plt.scatter(X[Y==3,0], X[Y==3,1], s=50, c='skyblue', label='Cluster 4')\n",
    "plt.scatter(X[Y==4,0], X[Y==4,1], s=50, c='purple', label='Cluster 5')\n",
    "plt.scatter(kmeans.cluster_centers_[:,0], kmeans.cluster_centers_[:,1], s=100, c='cyan', label='Centroids')\n",
    "plt.title('Clusters of Customers')\n",
    "plt.xlabel('Annual Income')\n",
    "plt.ylabel('Spending Score')\n",
    "plt.show()"
   ]
  },
  {
   "cell_type": "code",
   "execution_count": 75,
   "id": "cc6fdebd",
   "metadata": {},
   "outputs": [
    {
     "data": {
      "image/png": "[encoded data removed]",
      "text/plain": [
       "<Figure size 640x480 with 1 Axes>"
      ]
     },
     "metadata": {},
     "output_type": "display_data"
    }
   ],
   "source": [
    "##ELbow Method\n",
    "\n",
    "\n",
    "import warnings\n",
    "warnings.filterwarnings('ignore')\n",
    "\n",
    "wcss=[]\n",
    "for i in range(1,15):\n",
    "    kmeans = KMeans(n_clusters=i, init='k-means++', random_state=0)\n",
    "    kmeans.fit(X)\n",
    "    wcss.append(kmeans.inertia_)\n",
    "plt.plot(range(1, 15), wcss)\n",
    "plt.title('The Elbow Method')\n",
    "plt.xlabel('Number of clusters')\n",
    "plt.ylabel('WCSS')\n",
    "plt.show()"
   ]
  },
  {
   "cell_type": "markdown",
   "id": "2596dac2",
   "metadata": {},
   "source": [
    "# SET-1 \n"
   ]
  },
  {
   "cell_type": "code",
   "execution_count": 76,
   "id": "0537753a",
   "metadata": {},
   "outputs": [],
   "source": [
    "import pandas as pd"
   ]
  },
  {
   "cell_type": "code",
   "execution_count": 77,
   "id": "a8cefa9b",
   "metadata": {},
   "outputs": [],
   "source": [
    "import numpy as np"
   ]
  },
  {
   "cell_type": "code",
   "execution_count": 78,
   "id": "ae672d4c",
   "metadata": {},
   "outputs": [],
   "source": [
    "import seaborn as sns"
   ]
  },
  {
   "cell_type": "code",
   "execution_count": 79,
   "id": "eea8c459",
   "metadata": {},
   "outputs": [],
   "source": [
    "import matplotlib.pyplot as plt"
   ]
  },
  {
   "cell_type": "code",
   "execution_count": 80,
   "id": "0d34f8f6",
   "metadata": {},
   "outputs": [],
   "source": [
    "ma=pd.read_csv(\"Mall_Customers.csv\")"
   ]
  },
  {
   "cell_type": "code",
   "execution_count": 81,
   "id": "bcf9ad6d",
   "metadata": {},
   "outputs": [
    {
     "data": {
      "text/html": [
       "<div>\n",
       "<style scoped>\n",
       "    .dataframe tbody tr th:only-of-type {\n",
       "        vertical-align: middle;\n",
       "    }\n",
       "\n",
       "    .dataframe tbody tr th {\n",
       "        vertical-align: top;\n",
       "    }\n",
       "\n",
       "    .dataframe thead th {\n",
       "        text-align: right;\n",
       "    }\n",
       "</style>\n",
       "<table border=\"1\" class=\"dataframe\">\n",
       "  <thead>\n",
       "    <tr style=\"text-align: right;\">\n",
       "      <th></th>\n",
       "      <th>CustomerID</th>\n",
       "      <th>Genre</th>\n",
       "      <th>Age</th>\n",
       "      <th>Annual Income (k$)</th>\n",
       "      <th>Spending Score (1-100)</th>\n",
       "    </tr>\n",
       "  </thead>\n",
       "  <tbody>\n",
       "    <tr>\n",
       "      <th>0</th>\n",
       "      <td>1</td>\n",
       "      <td>Male</td>\n",
       "      <td>19</td>\n",
       "      <td>15</td>\n",
       "      <td>39</td>\n",
       "    </tr>\n",
       "    <tr>\n",
       "      <th>1</th>\n",
       "      <td>2</td>\n",
       "      <td>Male</td>\n",
       "      <td>21</td>\n",
       "      <td>15</td>\n",
       "      <td>81</td>\n",
       "    </tr>\n",
       "    <tr>\n",
       "      <th>2</th>\n",
       "      <td>3</td>\n",
       "      <td>Female</td>\n",
       "      <td>20</td>\n",
       "      <td>16</td>\n",
       "      <td>6</td>\n",
       "    </tr>\n",
       "    <tr>\n",
       "      <th>3</th>\n",
       "      <td>4</td>\n",
       "      <td>Female</td>\n",
       "      <td>23</td>\n",
       "      <td>16</td>\n",
       "      <td>77</td>\n",
       "    </tr>\n",
       "    <tr>\n",
       "      <th>4</th>\n",
       "      <td>5</td>\n",
       "      <td>Female</td>\n",
       "      <td>31</td>\n",
       "      <td>17</td>\n",
       "      <td>40</td>\n",
       "    </tr>\n",
       "    <tr>\n",
       "      <th>5</th>\n",
       "      <td>6</td>\n",
       "      <td>Female</td>\n",
       "      <td>22</td>\n",
       "      <td>17</td>\n",
       "      <td>76</td>\n",
       "    </tr>\n",
       "    <tr>\n",
       "      <th>6</th>\n",
       "      <td>7</td>\n",
       "      <td>Female</td>\n",
       "      <td>35</td>\n",
       "      <td>18</td>\n",
       "      <td>6</td>\n",
       "    </tr>\n",
       "    <tr>\n",
       "      <th>7</th>\n",
       "      <td>8</td>\n",
       "      <td>Female</td>\n",
       "      <td>23</td>\n",
       "      <td>18</td>\n",
       "      <td>94</td>\n",
       "    </tr>\n",
       "    <tr>\n",
       "      <th>8</th>\n",
       "      <td>9</td>\n",
       "      <td>Male</td>\n",
       "      <td>64</td>\n",
       "      <td>19</td>\n",
       "      <td>3</td>\n",
       "    </tr>\n",
       "    <tr>\n",
       "      <th>9</th>\n",
       "      <td>10</td>\n",
       "      <td>Female</td>\n",
       "      <td>30</td>\n",
       "      <td>19</td>\n",
       "      <td>72</td>\n",
       "    </tr>\n",
       "  </tbody>\n",
       "</table>\n",
       "</div>"
      ],
      "text/plain": [
       "   CustomerID   Genre  Age  Annual Income (k$)  Spending Score (1-100)\n",
       "0           1    Male   19                  15                      39\n",
       "1           2    Male   21                  15                      81\n",
       "2           3  Female   20                  16                       6\n",
       "3           4  Female   23                  16                      77\n",
       "4           5  Female   31                  17                      40\n",
       "5           6  Female   22                  17                      76\n",
       "6           7  Female   35                  18                       6\n",
       "7           8  Female   23                  18                      94\n",
       "8           9    Male   64                  19                       3\n",
       "9          10  Female   30                  19                      72"
      ]
     },
     "execution_count": 81,
     "metadata": {},
     "output_type": "execute_result"
    }
   ],
   "source": [
    "ma.head(10)"
   ]
  },
  {
   "cell_type": "code",
   "execution_count": 82,
   "id": "c95c81ce",
   "metadata": {},
   "outputs": [
    {
     "data": {
      "text/html": [
       "<div>\n",
       "<style scoped>\n",
       "    .dataframe tbody tr th:only-of-type {\n",
       "        vertical-align: middle;\n",
       "    }\n",
       "\n",
       "    .dataframe tbody tr th {\n",
       "        vertical-align: top;\n",
       "    }\n",
       "\n",
       "    .dataframe thead th {\n",
       "        text-align: right;\n",
       "    }\n",
       "</style>\n",
       "<table border=\"1\" class=\"dataframe\">\n",
       "  <thead>\n",
       "    <tr style=\"text-align: right;\">\n",
       "      <th></th>\n",
       "      <th>CustomerID</th>\n",
       "      <th>Genre</th>\n",
       "      <th>Age</th>\n",
       "      <th>Annual Income (k$)</th>\n",
       "      <th>Spending Score (1-100)</th>\n",
       "    </tr>\n",
       "  </thead>\n",
       "  <tbody>\n",
       "    <tr>\n",
       "      <th>190</th>\n",
       "      <td>191</td>\n",
       "      <td>Female</td>\n",
       "      <td>34</td>\n",
       "      <td>103</td>\n",
       "      <td>23</td>\n",
       "    </tr>\n",
       "    <tr>\n",
       "      <th>191</th>\n",
       "      <td>192</td>\n",
       "      <td>Female</td>\n",
       "      <td>32</td>\n",
       "      <td>103</td>\n",
       "      <td>69</td>\n",
       "    </tr>\n",
       "    <tr>\n",
       "      <th>192</th>\n",
       "      <td>193</td>\n",
       "      <td>Male</td>\n",
       "      <td>33</td>\n",
       "      <td>113</td>\n",
       "      <td>8</td>\n",
       "    </tr>\n",
       "    <tr>\n",
       "      <th>193</th>\n",
       "      <td>194</td>\n",
       "      <td>Female</td>\n",
       "      <td>38</td>\n",
       "      <td>113</td>\n",
       "      <td>91</td>\n",
       "    </tr>\n",
       "    <tr>\n",
       "      <th>194</th>\n",
       "      <td>195</td>\n",
       "      <td>Female</td>\n",
       "      <td>47</td>\n",
       "      <td>120</td>\n",
       "      <td>16</td>\n",
       "    </tr>\n",
       "    <tr>\n",
       "      <th>195</th>\n",
       "      <td>196</td>\n",
       "      <td>Female</td>\n",
       "      <td>35</td>\n",
       "      <td>120</td>\n",
       "      <td>79</td>\n",
       "    </tr>\n",
       "    <tr>\n",
       "      <th>196</th>\n",
       "      <td>197</td>\n",
       "      <td>Female</td>\n",
       "      <td>45</td>\n",
       "      <td>126</td>\n",
       "      <td>28</td>\n",
       "    </tr>\n",
       "    <tr>\n",
       "      <th>197</th>\n",
       "      <td>198</td>\n",
       "      <td>Male</td>\n",
       "      <td>32</td>\n",
       "      <td>126</td>\n",
       "      <td>74</td>\n",
       "    </tr>\n",
       "    <tr>\n",
       "      <th>198</th>\n",
       "      <td>199</td>\n",
       "      <td>Male</td>\n",
       "      <td>32</td>\n",
       "      <td>137</td>\n",
       "      <td>18</td>\n",
       "    </tr>\n",
       "    <tr>\n",
       "      <th>199</th>\n",
       "      <td>200</td>\n",
       "      <td>Male</td>\n",
       "      <td>30</td>\n",
       "      <td>137</td>\n",
       "      <td>83</td>\n",
       "    </tr>\n",
       "  </tbody>\n",
       "</table>\n",
       "</div>"
      ],
      "text/plain": [
       "     CustomerID   Genre  Age  Annual Income (k$)  Spending Score (1-100)\n",
       "190         191  Female   34                 103                      23\n",
       "191         192  Female   32                 103                      69\n",
       "192         193    Male   33                 113                       8\n",
       "193         194  Female   38                 113                      91\n",
       "194         195  Female   47                 120                      16\n",
       "195         196  Female   35                 120                      79\n",
       "196         197  Female   45                 126                      28\n",
       "197         198    Male   32                 126                      74\n",
       "198         199    Male   32                 137                      18\n",
       "199         200    Male   30                 137                      83"
      ]
     },
     "execution_count": 82,
     "metadata": {},
     "output_type": "execute_result"
    }
   ],
   "source": [
    "ma.tail(10)"
   ]
  },
  {
   "cell_type": "code",
   "execution_count": 83,
   "id": "99380931",
   "metadata": {},
   "outputs": [
    {
     "data": {
      "text/plain": [
       "Index(['CustomerID', 'Genre', 'Age', 'Annual Income (k$)',\n",
       "       'Spending Score (1-100)'],\n",
       "      dtype='object')"
      ]
     },
     "execution_count": 83,
     "metadata": {},
     "output_type": "execute_result"
    }
   ],
   "source": [
    "ma.columns"
   ]
  },
  {
   "cell_type": "code",
   "execution_count": 84,
   "id": "5353cc25",
   "metadata": {},
   "outputs": [
    {
     "data": {
      "text/plain": [
       "CustomerID                200\n",
       "Genre                       2\n",
       "Age                        51\n",
       "Annual Income (k$)         64\n",
       "Spending Score (1-100)     84\n",
       "dtype: int64"
      ]
     },
     "execution_count": 84,
     "metadata": {},
     "output_type": "execute_result"
    }
   ],
   "source": [
    "ma.nunique()"
   ]
  },
  {
   "cell_type": "code",
   "execution_count": 86,
   "id": "0f549693",
   "metadata": {},
   "outputs": [
    {
     "data": {
      "text/plain": [
       "CustomerID  Genre   Age  Annual Income (k$)  Spending Score (1-100)\n",
       "1           Male    19   15                  39                        1\n",
       "138         Male    32   73                  73                        1\n",
       "128         Male    40   71                  95                        1\n",
       "129         Male    59   71                  11                        1\n",
       "130         Male    38   71                  75                        1\n",
       "                                                                      ..\n",
       "70          Female  32   48                  47                        1\n",
       "71          Male    70   49                  55                        1\n",
       "72          Female  47   49                  42                        1\n",
       "73          Female  60   50                  49                        1\n",
       "200         Male    30   137                 83                        1\n",
       "Length: 200, dtype: int64"
      ]
     },
     "execution_count": 86,
     "metadata": {},
     "output_type": "execute_result"
    }
   ],
   "source": [
    "ma[['CustomerID','Genre','Age','Annual Income (k$)','Spending Score (1-100)']].value_counts()"
   ]
  },
  {
   "cell_type": "code",
   "execution_count": 91,
   "id": "5597c970",
   "metadata": {},
   "outputs": [
    {
     "name": "stdout",
     "output_type": "stream",
     "text": [
      "200\n"
     ]
    },
    {
     "data": {
      "text/plain": [
       "5"
      ]
     },
     "execution_count": 91,
     "metadata": {},
     "output_type": "execute_result"
    }
   ],
   "source": [
    "ro=len(ma.axes[0])\n",
    "print(ro)\n",
    "\n",
    "co=len(ma.axes[1])\n",
    "co"
   ]
  },
  {
   "cell_type": "code",
   "execution_count": 92,
   "id": "49ebf75d",
   "metadata": {},
   "outputs": [
    {
     "data": {
      "text/plain": [
       "CustomerID                0\n",
       "Genre                     0\n",
       "Age                       0\n",
       "Annual Income (k$)        0\n",
       "Spending Score (1-100)    0\n",
       "dtype: int64"
      ]
     },
     "execution_count": 92,
     "metadata": {},
     "output_type": "execute_result"
    }
   ],
   "source": [
    "ma.isnull().sum()\n",
    "\n",
    "#procedure to drop null value\n",
    "# mad = mo.dropna()\n",
    "# mad"
   ]
  },
  {
   "cell_type": "code",
   "execution_count": 93,
   "id": "41860945",
   "metadata": {},
   "outputs": [
    {
     "data": {
      "text/html": [
       "<div>\n",
       "<style scoped>\n",
       "    .dataframe tbody tr th:only-of-type {\n",
       "        vertical-align: middle;\n",
       "    }\n",
       "\n",
       "    .dataframe tbody tr th {\n",
       "        vertical-align: top;\n",
       "    }\n",
       "\n",
       "    .dataframe thead th {\n",
       "        text-align: right;\n",
       "    }\n",
       "</style>\n",
       "<table border=\"1\" class=\"dataframe\">\n",
       "  <thead>\n",
       "    <tr style=\"text-align: right;\">\n",
       "      <th></th>\n",
       "      <th>CustomerID</th>\n",
       "      <th>Age</th>\n",
       "      <th>Annual Income (k$)</th>\n",
       "      <th>Spending Score (1-100)</th>\n",
       "    </tr>\n",
       "  </thead>\n",
       "  <tbody>\n",
       "    <tr>\n",
       "      <th>CustomerID</th>\n",
       "      <td>1.000000</td>\n",
       "      <td>-0.026763</td>\n",
       "      <td>0.977548</td>\n",
       "      <td>0.013835</td>\n",
       "    </tr>\n",
       "    <tr>\n",
       "      <th>Age</th>\n",
       "      <td>-0.026763</td>\n",
       "      <td>1.000000</td>\n",
       "      <td>-0.012398</td>\n",
       "      <td>-0.327227</td>\n",
       "    </tr>\n",
       "    <tr>\n",
       "      <th>Annual Income (k$)</th>\n",
       "      <td>0.977548</td>\n",
       "      <td>-0.012398</td>\n",
       "      <td>1.000000</td>\n",
       "      <td>0.009903</td>\n",
       "    </tr>\n",
       "    <tr>\n",
       "      <th>Spending Score (1-100)</th>\n",
       "      <td>0.013835</td>\n",
       "      <td>-0.327227</td>\n",
       "      <td>0.009903</td>\n",
       "      <td>1.000000</td>\n",
       "    </tr>\n",
       "  </tbody>\n",
       "</table>\n",
       "</div>"
      ],
      "text/plain": [
       "                        CustomerID       Age  Annual Income (k$)  \\\n",
       "CustomerID                1.000000 -0.026763            0.977548   \n",
       "Age                      -0.026763  1.000000           -0.012398   \n",
       "Annual Income (k$)        0.977548 -0.012398            1.000000   \n",
       "Spending Score (1-100)    0.013835 -0.327227            0.009903   \n",
       "\n",
       "                        Spending Score (1-100)  \n",
       "CustomerID                            0.013835  \n",
       "Age                                  -0.327227  \n",
       "Annual Income (k$)                    0.009903  \n",
       "Spending Score (1-100)                1.000000  "
      ]
     },
     "execution_count": 93,
     "metadata": {},
     "output_type": "execute_result"
    }
   ],
   "source": [
    "corr =ma.corr()\n",
    "corr"
   ]
  },
  {
   "cell_type": "code",
   "execution_count": 97,
   "id": "5af33eb8",
   "metadata": {},
   "outputs": [
    {
     "data": {
      "text/plain": [
       "<AxesSubplot:>"
      ]
     },
     "execution_count": 97,
     "metadata": {},
     "output_type": "execute_result"
    },
    {
     "data": {
      "image/png": "[encoded data removed]",
      "text/plain": [
       "<Figure size 640x480 with 2 Axes>"
      ]
     },
     "metadata": {},
     "output_type": "display_data"
    }
   ],
   "source": [
    "sns.heatmap(corr,color='green',fmt='.2g',annot=True)"
   ]
  },
  {
   "cell_type": "code",
   "execution_count": 98,
   "id": "d4e55aef",
   "metadata": {},
   "outputs": [],
   "source": [
    "re = ma.rename(columns={'Spending Score (1-100)':'Spending Score','Annual Income (k$)':'Annual Income'})"
   ]
  },
  {
   "cell_type": "code",
   "execution_count": 99,
   "id": "8d0f7934",
   "metadata": {},
   "outputs": [
    {
     "data": {
      "text/html": [
       "<div>\n",
       "<style scoped>\n",
       "    .dataframe tbody tr th:only-of-type {\n",
       "        vertical-align: middle;\n",
       "    }\n",
       "\n",
       "    .dataframe tbody tr th {\n",
       "        vertical-align: top;\n",
       "    }\n",
       "\n",
       "    .dataframe thead th {\n",
       "        text-align: right;\n",
       "    }\n",
       "</style>\n",
       "<table border=\"1\" class=\"dataframe\">\n",
       "  <thead>\n",
       "    <tr style=\"text-align: right;\">\n",
       "      <th></th>\n",
       "      <th>CustomerID</th>\n",
       "      <th>Genre</th>\n",
       "      <th>Age</th>\n",
       "      <th>Annual Income</th>\n",
       "      <th>Spending Score</th>\n",
       "    </tr>\n",
       "  </thead>\n",
       "  <tbody>\n",
       "    <tr>\n",
       "      <th>0</th>\n",
       "      <td>1</td>\n",
       "      <td>Male</td>\n",
       "      <td>19</td>\n",
       "      <td>15</td>\n",
       "      <td>39</td>\n",
       "    </tr>\n",
       "    <tr>\n",
       "      <th>1</th>\n",
       "      <td>2</td>\n",
       "      <td>Male</td>\n",
       "      <td>21</td>\n",
       "      <td>15</td>\n",
       "      <td>81</td>\n",
       "    </tr>\n",
       "    <tr>\n",
       "      <th>2</th>\n",
       "      <td>3</td>\n",
       "      <td>Female</td>\n",
       "      <td>20</td>\n",
       "      <td>16</td>\n",
       "      <td>6</td>\n",
       "    </tr>\n",
       "    <tr>\n",
       "      <th>3</th>\n",
       "      <td>4</td>\n",
       "      <td>Female</td>\n",
       "      <td>23</td>\n",
       "      <td>16</td>\n",
       "      <td>77</td>\n",
       "    </tr>\n",
       "    <tr>\n",
       "      <th>4</th>\n",
       "      <td>5</td>\n",
       "      <td>Female</td>\n",
       "      <td>31</td>\n",
       "      <td>17</td>\n",
       "      <td>40</td>\n",
       "    </tr>\n",
       "    <tr>\n",
       "      <th>...</th>\n",
       "      <td>...</td>\n",
       "      <td>...</td>\n",
       "      <td>...</td>\n",
       "      <td>...</td>\n",
       "      <td>...</td>\n",
       "    </tr>\n",
       "    <tr>\n",
       "      <th>195</th>\n",
       "      <td>196</td>\n",
       "      <td>Female</td>\n",
       "      <td>35</td>\n",
       "      <td>120</td>\n",
       "      <td>79</td>\n",
       "    </tr>\n",
       "    <tr>\n",
       "      <th>196</th>\n",
       "      <td>197</td>\n",
       "      <td>Female</td>\n",
       "      <td>45</td>\n",
       "      <td>126</td>\n",
       "      <td>28</td>\n",
       "    </tr>\n",
       "    <tr>\n",
       "      <th>197</th>\n",
       "      <td>198</td>\n",
       "      <td>Male</td>\n",
       "      <td>32</td>\n",
       "      <td>126</td>\n",
       "      <td>74</td>\n",
       "    </tr>\n",
       "    <tr>\n",
       "      <th>198</th>\n",
       "      <td>199</td>\n",
       "      <td>Male</td>\n",
       "      <td>32</td>\n",
       "      <td>137</td>\n",
       "      <td>18</td>\n",
       "    </tr>\n",
       "    <tr>\n",
       "      <th>199</th>\n",
       "      <td>200</td>\n",
       "      <td>Male</td>\n",
       "      <td>30</td>\n",
       "      <td>137</td>\n",
       "      <td>83</td>\n",
       "    </tr>\n",
       "  </tbody>\n",
       "</table>\n",
       "<p>200 rows × 5 columns</p>\n",
       "</div>"
      ],
      "text/plain": [
       "     CustomerID   Genre  Age  Annual Income  Spending Score\n",
       "0             1    Male   19             15              39\n",
       "1             2    Male   21             15              81\n",
       "2             3  Female   20             16               6\n",
       "3             4  Female   23             16              77\n",
       "4             5  Female   31             17              40\n",
       "..          ...     ...  ...            ...             ...\n",
       "195         196  Female   35            120              79\n",
       "196         197  Female   45            126              28\n",
       "197         198    Male   32            126              74\n",
       "198         199    Male   32            137              18\n",
       "199         200    Male   30            137              83\n",
       "\n",
       "[200 rows x 5 columns]"
      ]
     },
     "execution_count": 99,
     "metadata": {},
     "output_type": "execute_result"
    }
   ],
   "source": [
    "re"
   ]
  },
  {
   "cell_type": "code",
   "execution_count": 101,
   "id": "f37786c5",
   "metadata": {},
   "outputs": [
    {
     "data": {
      "text/plain": [
       "{'whiskers': [<matplotlib.lines.Line2D at 0x22aad52de20>,\n",
       "  <matplotlib.lines.Line2D at 0x22aad53c130>],\n",
       " 'caps': [<matplotlib.lines.Line2D at 0x22aad53c400>,\n",
       "  <matplotlib.lines.Line2D at 0x22aad53c6d0>],\n",
       " 'boxes': [<matplotlib.lines.Line2D at 0x22aad52db50>],\n",
       " 'medians': [<matplotlib.lines.Line2D at 0x22aad53c9a0>],\n",
       " 'fliers': [<matplotlib.lines.Line2D at 0x22aad53cc70>],\n",
       " 'means': []}"
      ]
     },
     "execution_count": 101,
     "metadata": {},
     "output_type": "execute_result"
    },
    {
     "data": {
      "image/png": "[encoded data removed]",
      "text/plain": [
       "<Figure size 640x480 with 1 Axes>"
      ]
     },
     "metadata": {},
     "output_type": "display_data"
    }
   ],
   "source": [
    "plt.boxplot(x='Spending Score (1-100)',data=ma)"
   ]
  },
  {
   "cell_type": "code",
   "execution_count": 102,
   "id": "4f9544ad",
   "metadata": {},
   "outputs": [],
   "source": [
    "from sklearn.cluster import KMeans"
   ]
  },
  {
   "cell_type": "code",
   "execution_count": 103,
   "id": "a19d8bc3",
   "metadata": {},
   "outputs": [
    {
     "name": "stdout",
     "output_type": "stream",
     "text": [
      "<class 'pandas.core.frame.DataFrame'>\n",
      "RangeIndex: 200 entries, 0 to 199\n",
      "Data columns (total 5 columns):\n",
      " #   Column                  Non-Null Count  Dtype \n",
      "---  ------                  --------------  ----- \n",
      " 0   CustomerID              200 non-null    int64 \n",
      " 1   Genre                   200 non-null    object\n",
      " 2   Age                     200 non-null    int64 \n",
      " 3   Annual Income (k$)      200 non-null    int64 \n",
      " 4   Spending Score (1-100)  200 non-null    int64 \n",
      "dtypes: int64(4), object(1)\n",
      "memory usage: 7.9+ KB\n"
     ]
    }
   ],
   "source": [
    "ma.info()"
   ]
  },
  {
   "cell_type": "code",
   "execution_count": 108,
   "id": "b49d646d",
   "metadata": {},
   "outputs": [],
   "source": [
    "XX=ma.iloc[:,[2,3,4]].values"
   ]
  },
  {
   "cell_type": "code",
   "execution_count": 109,
   "id": "1bdaaa32",
   "metadata": {},
   "outputs": [
    {
     "data": {
      "text/plain": [
       "array([[ 19,  15,  39],\n",
       "       [ 21,  15,  81],\n",
       "       [ 20,  16,   6],\n",
       "       [ 23,  16,  77],\n",
       "       [ 31,  17,  40],\n",
       "       [ 22,  17,  76],\n",
       "       [ 35,  18,   6],\n",
       "       [ 23,  18,  94],\n",
       "       [ 64,  19,   3],\n",
       "       [ 30,  19,  72],\n",
       "       [ 67,  19,  14],\n",
       "       [ 35,  19,  99],\n",
       "       [ 58,  20,  15],\n",
       "       [ 24,  20,  77],\n",
       "       [ 37,  20,  13],\n",
       "       [ 22,  20,  79],\n",
       "       [ 35,  21,  35],\n",
       "       [ 20,  21,  66],\n",
       "       [ 52,  23,  29],\n",
       "       [ 35,  23,  98],\n",
       "       [ 35,  24,  35],\n",
       "       [ 25,  24,  73],\n",
       "       [ 46,  25,   5],\n",
       "       [ 31,  25,  73],\n",
       "       [ 54,  28,  14],\n",
       "       [ 29,  28,  82],\n",
       "       [ 45,  28,  32],\n",
       "       [ 35,  28,  61],\n",
       "       [ 40,  29,  31],\n",
       "       [ 23,  29,  87],\n",
       "       [ 60,  30,   4],\n",
       "       [ 21,  30,  73],\n",
       "       [ 53,  33,   4],\n",
       "       [ 18,  33,  92],\n",
       "       [ 49,  33,  14],\n",
       "       [ 21,  33,  81],\n",
       "       [ 42,  34,  17],\n",
       "       [ 30,  34,  73],\n",
       "       [ 36,  37,  26],\n",
       "       [ 20,  37,  75],\n",
       "       [ 65,  38,  35],\n",
       "       [ 24,  38,  92],\n",
       "       [ 48,  39,  36],\n",
       "       [ 31,  39,  61],\n",
       "       [ 49,  39,  28],\n",
       "       [ 24,  39,  65],\n",
       "       [ 50,  40,  55],\n",
       "       [ 27,  40,  47],\n",
       "       [ 29,  40,  42],\n",
       "       [ 31,  40,  42],\n",
       "       [ 49,  42,  52],\n",
       "       [ 33,  42,  60],\n",
       "       [ 31,  43,  54],\n",
       "       [ 59,  43,  60],\n",
       "       [ 50,  43,  45],\n",
       "       [ 47,  43,  41],\n",
       "       [ 51,  44,  50],\n",
       "       [ 69,  44,  46],\n",
       "       [ 27,  46,  51],\n",
       "       [ 53,  46,  46],\n",
       "       [ 70,  46,  56],\n",
       "       [ 19,  46,  55],\n",
       "       [ 67,  47,  52],\n",
       "       [ 54,  47,  59],\n",
       "       [ 63,  48,  51],\n",
       "       [ 18,  48,  59],\n",
       "       [ 43,  48,  50],\n",
       "       [ 68,  48,  48],\n",
       "       [ 19,  48,  59],\n",
       "       [ 32,  48,  47],\n",
       "       [ 70,  49,  55],\n",
       "       [ 47,  49,  42],\n",
       "       [ 60,  50,  49],\n",
       "       [ 60,  50,  56],\n",
       "       [ 59,  54,  47],\n",
       "       [ 26,  54,  54],\n",
       "       [ 45,  54,  53],\n",
       "       [ 40,  54,  48],\n",
       "       [ 23,  54,  52],\n",
       "       [ 49,  54,  42],\n",
       "       [ 57,  54,  51],\n",
       "       [ 38,  54,  55],\n",
       "       [ 67,  54,  41],\n",
       "       [ 46,  54,  44],\n",
       "       [ 21,  54,  57],\n",
       "       [ 48,  54,  46],\n",
       "       [ 55,  57,  58],\n",
       "       [ 22,  57,  55],\n",
       "       [ 34,  58,  60],\n",
       "       [ 50,  58,  46],\n",
       "       [ 68,  59,  55],\n",
       "       [ 18,  59,  41],\n",
       "       [ 48,  60,  49],\n",
       "       [ 40,  60,  40],\n",
       "       [ 32,  60,  42],\n",
       "       [ 24,  60,  52],\n",
       "       [ 47,  60,  47],\n",
       "       [ 27,  60,  50],\n",
       "       [ 48,  61,  42],\n",
       "       [ 20,  61,  49],\n",
       "       [ 23,  62,  41],\n",
       "       [ 49,  62,  48],\n",
       "       [ 67,  62,  59],\n",
       "       [ 26,  62,  55],\n",
       "       [ 49,  62,  56],\n",
       "       [ 21,  62,  42],\n",
       "       [ 66,  63,  50],\n",
       "       [ 54,  63,  46],\n",
       "       [ 68,  63,  43],\n",
       "       [ 66,  63,  48],\n",
       "       [ 65,  63,  52],\n",
       "       [ 19,  63,  54],\n",
       "       [ 38,  64,  42],\n",
       "       [ 19,  64,  46],\n",
       "       [ 18,  65,  48],\n",
       "       [ 19,  65,  50],\n",
       "       [ 63,  65,  43],\n",
       "       [ 49,  65,  59],\n",
       "       [ 51,  67,  43],\n",
       "       [ 50,  67,  57],\n",
       "       [ 27,  67,  56],\n",
       "       [ 38,  67,  40],\n",
       "       [ 40,  69,  58],\n",
       "       [ 39,  69,  91],\n",
       "       [ 23,  70,  29],\n",
       "       [ 31,  70,  77],\n",
       "       [ 43,  71,  35],\n",
       "       [ 40,  71,  95],\n",
       "       [ 59,  71,  11],\n",
       "       [ 38,  71,  75],\n",
       "       [ 47,  71,   9],\n",
       "       [ 39,  71,  75],\n",
       "       [ 25,  72,  34],\n",
       "       [ 31,  72,  71],\n",
       "       [ 20,  73,   5],\n",
       "       [ 29,  73,  88],\n",
       "       [ 44,  73,   7],\n",
       "       [ 32,  73,  73],\n",
       "       [ 19,  74,  10],\n",
       "       [ 35,  74,  72],\n",
       "       [ 57,  75,   5],\n",
       "       [ 32,  75,  93],\n",
       "       [ 28,  76,  40],\n",
       "       [ 32,  76,  87],\n",
       "       [ 25,  77,  12],\n",
       "       [ 28,  77,  97],\n",
       "       [ 48,  77,  36],\n",
       "       [ 32,  77,  74],\n",
       "       [ 34,  78,  22],\n",
       "       [ 34,  78,  90],\n",
       "       [ 43,  78,  17],\n",
       "       [ 39,  78,  88],\n",
       "       [ 44,  78,  20],\n",
       "       [ 38,  78,  76],\n",
       "       [ 47,  78,  16],\n",
       "       [ 27,  78,  89],\n",
       "       [ 37,  78,   1],\n",
       "       [ 30,  78,  78],\n",
       "       [ 34,  78,   1],\n",
       "       [ 30,  78,  73],\n",
       "       [ 56,  79,  35],\n",
       "       [ 29,  79,  83],\n",
       "       [ 19,  81,   5],\n",
       "       [ 31,  81,  93],\n",
       "       [ 50,  85,  26],\n",
       "       [ 36,  85,  75],\n",
       "       [ 42,  86,  20],\n",
       "       [ 33,  86,  95],\n",
       "       [ 36,  87,  27],\n",
       "       [ 32,  87,  63],\n",
       "       [ 40,  87,  13],\n",
       "       [ 28,  87,  75],\n",
       "       [ 36,  87,  10],\n",
       "       [ 36,  87,  92],\n",
       "       [ 52,  88,  13],\n",
       "       [ 30,  88,  86],\n",
       "       [ 58,  88,  15],\n",
       "       [ 27,  88,  69],\n",
       "       [ 59,  93,  14],\n",
       "       [ 35,  93,  90],\n",
       "       [ 37,  97,  32],\n",
       "       [ 32,  97,  86],\n",
       "       [ 46,  98,  15],\n",
       "       [ 29,  98,  88],\n",
       "       [ 41,  99,  39],\n",
       "       [ 30,  99,  97],\n",
       "       [ 54, 101,  24],\n",
       "       [ 28, 101,  68],\n",
       "       [ 41, 103,  17],\n",
       "       [ 36, 103,  85],\n",
       "       [ 34, 103,  23],\n",
       "       [ 32, 103,  69],\n",
       "       [ 33, 113,   8],\n",
       "       [ 38, 113,  91],\n",
       "       [ 47, 120,  16],\n",
       "       [ 35, 120,  79],\n",
       "       [ 45, 126,  28],\n",
       "       [ 32, 126,  74],\n",
       "       [ 32, 137,  18],\n",
       "       [ 30, 137,  83]], dtype=int64)"
      ]
     },
     "execution_count": 109,
     "metadata": {},
     "output_type": "execute_result"
    }
   ],
   "source": [
    "XX"
   ]
  },
  {
   "cell_type": "code",
   "execution_count": 110,
   "id": "b1fbd9ba",
   "metadata": {},
   "outputs": [],
   "source": [
    "km = KMeans(n_clusters=5, init='k-means++', random_state=0)"
   ]
  },
  {
   "cell_type": "code",
   "execution_count": 115,
   "id": "fbc74831",
   "metadata": {},
   "outputs": [
    {
     "data": {
      "text/plain": [
       "array([0, 4, 0, 4, 0, 4, 0, 4, 0, 4, 0, 4, 0, 4, 0, 4, 0, 4, 0, 4, 0, 4,\n",
       "       0, 4, 0, 4, 0, 4, 0, 4, 0, 4, 0, 4, 0, 4, 0, 4, 0, 4, 0, 4, 0, 4,\n",
       "       0, 4, 2, 2, 2, 2, 2, 2, 2, 2, 2, 2, 2, 2, 2, 2, 2, 2, 2, 2, 2, 2,\n",
       "       2, 2, 2, 2, 2, 2, 2, 2, 2, 2, 2, 2, 2, 2, 2, 2, 2, 2, 2, 2, 2, 2,\n",
       "       2, 2, 2, 2, 2, 2, 2, 2, 2, 2, 2, 2, 2, 2, 2, 2, 2, 2, 2, 2, 2, 2,\n",
       "       2, 2, 2, 2, 2, 2, 2, 2, 2, 2, 2, 2, 2, 1, 3, 1, 2, 1, 3, 1, 3, 1,\n",
       "       3, 1, 3, 1, 3, 1, 3, 1, 3, 1, 2, 1, 3, 1, 3, 1, 3, 1, 3, 1, 3, 1,\n",
       "       3, 1, 3, 1, 3, 1, 3, 1, 3, 1, 3, 1, 3, 1, 3, 1, 3, 1, 3, 1, 3, 1,\n",
       "       3, 1, 3, 1, 3, 1, 3, 1, 3, 1, 3, 1, 3, 1, 3, 1, 3, 1, 3, 1, 3, 1,\n",
       "       3, 1])"
      ]
     },
     "execution_count": 115,
     "metadata": {},
     "output_type": "execute_result"
    }
   ],
   "source": [
    "Y=km.fit_predict(XX)\n",
    "# print(np.sort(XX))\n",
    "Y"
   ]
  },
  {
   "cell_type": "code",
   "execution_count": 120,
   "id": "15ff9898",
   "metadata": {},
   "outputs": [
    {
     "data": {
      "text/plain": [
       "Text(0, 0.5, 'Age')"
      ]
     },
     "execution_count": 120,
     "metadata": {},
     "output_type": "execute_result"
    },
    {
     "data": {
      "image/png": "[encoded data removed]",
      "text/plain": [
       "<Figure size 800x800 with 1 Axes>"
      ]
     },
     "metadata": {},
     "output_type": "display_data"
    }
   ],
   "source": [
    "plt.figure(figsize=(8,8))\n",
    "plt.scatter(XX[Y==0,0],XX[Y==0,1],c='green',s=150,label='Cluster1')\n",
    "plt.scatter(XX[Y==1,0],XX[Y==1,1],c='red',s=50,label='Cluster2')\n",
    "plt.scatter(XX[Y==2,0],XX[Y==2,1],c='grey',s=100,label='Cluster3')\n",
    "plt.scatter(XX[Y==3,0],XX[Y==3,1],c='blue',s=50,label='Cluster4')\n",
    "plt.scatter(XX[Y==4,0],XX[Y==4,1],c='yellow',s=50,label='Cluster5')\n",
    "plt.scatter(km.cluster_centers_[:,0],km.cluster_centers_[:,1],s=20,c='purple',label='centroid')\n",
    "plt.title('Kmeans Cluster')\n",
    "plt.xlabel(\"x-axis\")\n",
    "plt.ylabel(\"Age\")"
   ]
  },
  {
   "cell_type": "code",
   "execution_count": 121,
   "id": "ea618832",
   "metadata": {},
   "outputs": [
    {
     "data": {
      "text/plain": [
       "<AxesSubplot:xlabel='Age', ylabel='Annual Income (k$)'>"
      ]
     },
     "execution_count": 121,
     "metadata": {},
     "output_type": "execute_result"
    },
    {
     "data": {
      "image/png": "[encoded data removed]",
      "text/plain": [
       "<Figure size 640x480 with 1 Axes>"
      ]
     },
     "metadata": {},
     "output_type": "display_data"
    }
   ],
   "source": [
    "sns.scatterplot(x='Age',y='Annual Income (k$)', hue='Genre',data=ma)"
   ]
  },
  {
   "cell_type": "code",
   "execution_count": 122,
   "id": "46433831",
   "metadata": {},
   "outputs": [
    {
     "data": {
      "text/plain": [
       "<AxesSubplot:xlabel='Age', ylabel='Spending Score (1-100)'>"
      ]
     },
     "execution_count": 122,
     "metadata": {},
     "output_type": "execute_result"
    },
    {
     "data": {
      "image/png": "[encoded data removed]",
      "text/plain": [
       "<Figure size 640x480 with 1 Axes>"
      ]
     },
     "metadata": {},
     "output_type": "display_data"
    }
   ],
   "source": [
    "sns.scatterplot(x='Age',y='Spending Score (1-100)', hue='Genre',data=ma)"
   ]
  },
  {
   "cell_type": "markdown",
   "id": "a813c219",
   "metadata": {},
   "source": [
    "# Set-5"
   ]
  },
  {
   "cell_type": "code",
   "execution_count": 123,
   "id": "a0c07fcc",
   "metadata": {},
   "outputs": [
    {
     "data": {
      "text/plain": [
       "CustomerID                0\n",
       "Genre                     0\n",
       "Age                       0\n",
       "Annual Income (k$)        0\n",
       "Spending Score (1-100)    0\n",
       "dtype: int64"
      ]
     },
     "execution_count": 123,
     "metadata": {},
     "output_type": "execute_result"
    }
   ],
   "source": [
    "ma.isnull().sum()"
   ]
  },
  {
   "cell_type": "code",
   "execution_count": 124,
   "id": "11b12f67",
   "metadata": {},
   "outputs": [],
   "source": [
    "# procedure to fit mean value\n",
    "\n",
    "# r=ma['Annual Income (k$)']\n",
    "# rm=r.mean()\n",
    "# r.fillna(rm,inplace=True)\n",
    "\n"
   ]
  },
  {
   "cell_type": "code",
   "execution_count": 125,
   "id": "d9fb30e4",
   "metadata": {},
   "outputs": [],
   "source": [
    "corr=ma.corr()"
   ]
  },
  {
   "cell_type": "code",
   "execution_count": 126,
   "id": "5d67e399",
   "metadata": {},
   "outputs": [
    {
     "data": {
      "text/html": [
       "<div>\n",
       "<style scoped>\n",
       "    .dataframe tbody tr th:only-of-type {\n",
       "        vertical-align: middle;\n",
       "    }\n",
       "\n",
       "    .dataframe tbody tr th {\n",
       "        vertical-align: top;\n",
       "    }\n",
       "\n",
       "    .dataframe thead th {\n",
       "        text-align: right;\n",
       "    }\n",
       "</style>\n",
       "<table border=\"1\" class=\"dataframe\">\n",
       "  <thead>\n",
       "    <tr style=\"text-align: right;\">\n",
       "      <th></th>\n",
       "      <th>CustomerID</th>\n",
       "      <th>Age</th>\n",
       "      <th>Annual Income (k$)</th>\n",
       "      <th>Spending Score (1-100)</th>\n",
       "    </tr>\n",
       "  </thead>\n",
       "  <tbody>\n",
       "    <tr>\n",
       "      <th>CustomerID</th>\n",
       "      <td>1.000000</td>\n",
       "      <td>-0.026763</td>\n",
       "      <td>0.977548</td>\n",
       "      <td>0.013835</td>\n",
       "    </tr>\n",
       "    <tr>\n",
       "      <th>Age</th>\n",
       "      <td>-0.026763</td>\n",
       "      <td>1.000000</td>\n",
       "      <td>-0.012398</td>\n",
       "      <td>-0.327227</td>\n",
       "    </tr>\n",
       "    <tr>\n",
       "      <th>Annual Income (k$)</th>\n",
       "      <td>0.977548</td>\n",
       "      <td>-0.012398</td>\n",
       "      <td>1.000000</td>\n",
       "      <td>0.009903</td>\n",
       "    </tr>\n",
       "    <tr>\n",
       "      <th>Spending Score (1-100)</th>\n",
       "      <td>0.013835</td>\n",
       "      <td>-0.327227</td>\n",
       "      <td>0.009903</td>\n",
       "      <td>1.000000</td>\n",
       "    </tr>\n",
       "  </tbody>\n",
       "</table>\n",
       "</div>"
      ],
      "text/plain": [
       "                        CustomerID       Age  Annual Income (k$)  \\\n",
       "CustomerID                1.000000 -0.026763            0.977548   \n",
       "Age                      -0.026763  1.000000           -0.012398   \n",
       "Annual Income (k$)        0.977548 -0.012398            1.000000   \n",
       "Spending Score (1-100)    0.013835 -0.327227            0.009903   \n",
       "\n",
       "                        Spending Score (1-100)  \n",
       "CustomerID                            0.013835  \n",
       "Age                                  -0.327227  \n",
       "Annual Income (k$)                    0.009903  \n",
       "Spending Score (1-100)                1.000000  "
      ]
     },
     "execution_count": 126,
     "metadata": {},
     "output_type": "execute_result"
    }
   ],
   "source": [
    "corr"
   ]
  },
  {
   "cell_type": "code",
   "execution_count": 127,
   "id": "0beab1d9",
   "metadata": {},
   "outputs": [
    {
     "data": {
      "text/plain": [
       "{'whiskers': [<matplotlib.lines.Line2D at 0x22aadf28190>,\n",
       "  <matplotlib.lines.Line2D at 0x22aadf28460>],\n",
       " 'caps': [<matplotlib.lines.Line2D at 0x22aadf28730>,\n",
       "  <matplotlib.lines.Line2D at 0x22aadf28a00>],\n",
       " 'boxes': [<matplotlib.lines.Line2D at 0x22aadf19e80>],\n",
       " 'medians': [<matplotlib.lines.Line2D at 0x22aadf28cd0>],\n",
       " 'fliers': [<matplotlib.lines.Line2D at 0x22aadf28fa0>],\n",
       " 'means': []}"
      ]
     },
     "execution_count": 127,
     "metadata": {},
     "output_type": "execute_result"
    },
    {
     "data": {
      "image/png": "[encoded data removed]",
      "text/plain": [
       "<Figure size 640x480 with 1 Axes>"
      ]
     },
     "metadata": {},
     "output_type": "display_data"
    }
   ],
   "source": [
    "plt.boxplot(x='Annual Income (k$)',data=ma)"
   ]
  },
  {
   "cell_type": "code",
   "execution_count": 128,
   "id": "d5c5a184",
   "metadata": {},
   "outputs": [],
   "source": [
    "cu=ma[(ma['Age']==22) & (ma['Annual Income (k$)']>21)]"
   ]
  },
  {
   "cell_type": "code",
   "execution_count": 129,
   "id": "e5acfe79",
   "metadata": {},
   "outputs": [
    {
     "data": {
      "text/html": [
       "<div>\n",
       "<style scoped>\n",
       "    .dataframe tbody tr th:only-of-type {\n",
       "        vertical-align: middle;\n",
       "    }\n",
       "\n",
       "    .dataframe tbody tr th {\n",
       "        vertical-align: top;\n",
       "    }\n",
       "\n",
       "    .dataframe thead th {\n",
       "        text-align: right;\n",
       "    }\n",
       "</style>\n",
       "<table border=\"1\" class=\"dataframe\">\n",
       "  <thead>\n",
       "    <tr style=\"text-align: right;\">\n",
       "      <th></th>\n",
       "      <th>CustomerID</th>\n",
       "      <th>Genre</th>\n",
       "      <th>Age</th>\n",
       "      <th>Annual Income (k$)</th>\n",
       "      <th>Spending Score (1-100)</th>\n",
       "    </tr>\n",
       "  </thead>\n",
       "  <tbody>\n",
       "    <tr>\n",
       "      <th>87</th>\n",
       "      <td>88</td>\n",
       "      <td>Female</td>\n",
       "      <td>22</td>\n",
       "      <td>57</td>\n",
       "      <td>55</td>\n",
       "    </tr>\n",
       "  </tbody>\n",
       "</table>\n",
       "</div>"
      ],
      "text/plain": [
       "    CustomerID   Genre  Age  Annual Income (k$)  Spending Score (1-100)\n",
       "87          88  Female   22                  57                      55"
      ]
     },
     "execution_count": 129,
     "metadata": {},
     "output_type": "execute_result"
    }
   ],
   "source": [
    "cu"
   ]
  },
  {
   "cell_type": "code",
   "execution_count": 136,
   "id": "a23d70e2",
   "metadata": {},
   "outputs": [
    {
     "data": {
      "text/html": [
       "<div>\n",
       "<style scoped>\n",
       "    .dataframe tbody tr th:only-of-type {\n",
       "        vertical-align: middle;\n",
       "    }\n",
       "\n",
       "    .dataframe tbody tr th {\n",
       "        vertical-align: top;\n",
       "    }\n",
       "\n",
       "    .dataframe thead th {\n",
       "        text-align: right;\n",
       "    }\n",
       "</style>\n",
       "<table border=\"1\" class=\"dataframe\">\n",
       "  <thead>\n",
       "    <tr style=\"text-align: right;\">\n",
       "      <th></th>\n",
       "      <th>CustomerID</th>\n",
       "      <th>Genre</th>\n",
       "      <th>Age</th>\n",
       "      <th>Annual Income (k$)</th>\n",
       "      <th>Spending Score (1-100)</th>\n",
       "    </tr>\n",
       "  </thead>\n",
       "  <tbody>\n",
       "    <tr>\n",
       "      <th>0</th>\n",
       "      <td>1</td>\n",
       "      <td>Male</td>\n",
       "      <td>19</td>\n",
       "      <td>15</td>\n",
       "      <td>39</td>\n",
       "    </tr>\n",
       "    <tr>\n",
       "      <th>33</th>\n",
       "      <td>34</td>\n",
       "      <td>Male</td>\n",
       "      <td>18</td>\n",
       "      <td>33</td>\n",
       "      <td>92</td>\n",
       "    </tr>\n",
       "    <tr>\n",
       "      <th>61</th>\n",
       "      <td>62</td>\n",
       "      <td>Male</td>\n",
       "      <td>19</td>\n",
       "      <td>46</td>\n",
       "      <td>55</td>\n",
       "    </tr>\n",
       "    <tr>\n",
       "      <th>65</th>\n",
       "      <td>66</td>\n",
       "      <td>Male</td>\n",
       "      <td>18</td>\n",
       "      <td>48</td>\n",
       "      <td>59</td>\n",
       "    </tr>\n",
       "    <tr>\n",
       "      <th>68</th>\n",
       "      <td>69</td>\n",
       "      <td>Male</td>\n",
       "      <td>19</td>\n",
       "      <td>48</td>\n",
       "      <td>59</td>\n",
       "    </tr>\n",
       "    <tr>\n",
       "      <th>91</th>\n",
       "      <td>92</td>\n",
       "      <td>Male</td>\n",
       "      <td>18</td>\n",
       "      <td>59</td>\n",
       "      <td>41</td>\n",
       "    </tr>\n",
       "    <tr>\n",
       "      <th>111</th>\n",
       "      <td>112</td>\n",
       "      <td>Female</td>\n",
       "      <td>19</td>\n",
       "      <td>63</td>\n",
       "      <td>54</td>\n",
       "    </tr>\n",
       "    <tr>\n",
       "      <th>113</th>\n",
       "      <td>114</td>\n",
       "      <td>Male</td>\n",
       "      <td>19</td>\n",
       "      <td>64</td>\n",
       "      <td>46</td>\n",
       "    </tr>\n",
       "    <tr>\n",
       "      <th>114</th>\n",
       "      <td>115</td>\n",
       "      <td>Female</td>\n",
       "      <td>18</td>\n",
       "      <td>65</td>\n",
       "      <td>48</td>\n",
       "    </tr>\n",
       "    <tr>\n",
       "      <th>115</th>\n",
       "      <td>116</td>\n",
       "      <td>Female</td>\n",
       "      <td>19</td>\n",
       "      <td>65</td>\n",
       "      <td>50</td>\n",
       "    </tr>\n",
       "    <tr>\n",
       "      <th>138</th>\n",
       "      <td>139</td>\n",
       "      <td>Male</td>\n",
       "      <td>19</td>\n",
       "      <td>74</td>\n",
       "      <td>10</td>\n",
       "    </tr>\n",
       "    <tr>\n",
       "      <th>162</th>\n",
       "      <td>163</td>\n",
       "      <td>Male</td>\n",
       "      <td>19</td>\n",
       "      <td>81</td>\n",
       "      <td>5</td>\n",
       "    </tr>\n",
       "  </tbody>\n",
       "</table>\n",
       "</div>"
      ],
      "text/plain": [
       "     CustomerID   Genre  Age  Annual Income (k$)  Spending Score (1-100)\n",
       "0             1    Male   19                  15                      39\n",
       "33           34    Male   18                  33                      92\n",
       "61           62    Male   19                  46                      55\n",
       "65           66    Male   18                  48                      59\n",
       "68           69    Male   19                  48                      59\n",
       "91           92    Male   18                  59                      41\n",
       "111         112  Female   19                  63                      54\n",
       "113         114    Male   19                  64                      46\n",
       "114         115  Female   18                  65                      48\n",
       "115         116  Female   19                  65                      50\n",
       "138         139    Male   19                  74                      10\n",
       "162         163    Male   19                  81                       5"
      ]
     },
     "execution_count": 136,
     "metadata": {},
     "output_type": "execute_result"
    }
   ],
   "source": [
    "de=ma[ma['Age']<20]\n",
    "de"
   ]
  },
  {
   "cell_type": "code",
   "execution_count": 143,
   "id": "3ef6f8dd",
   "metadata": {},
   "outputs": [
    {
     "data": {
      "text/html": [
       "<div>\n",
       "<style scoped>\n",
       "    .dataframe tbody tr th:only-of-type {\n",
       "        vertical-align: middle;\n",
       "    }\n",
       "\n",
       "    .dataframe tbody tr th {\n",
       "        vertical-align: top;\n",
       "    }\n",
       "\n",
       "    .dataframe thead th {\n",
       "        text-align: right;\n",
       "    }\n",
       "</style>\n",
       "<table border=\"1\" class=\"dataframe\">\n",
       "  <thead>\n",
       "    <tr style=\"text-align: right;\">\n",
       "      <th></th>\n",
       "      <th>CustomerID</th>\n",
       "      <th>Genre</th>\n",
       "      <th>Age</th>\n",
       "      <th>Annual Income (k$)</th>\n",
       "      <th>Spending Score (1-100)</th>\n",
       "    </tr>\n",
       "  </thead>\n",
       "  <tbody>\n",
       "  </tbody>\n",
       "</table>\n",
       "</div>"
      ],
      "text/plain": [
       "Empty DataFrame\n",
       "Columns: [CustomerID, Genre, Age, Annual Income (k$), Spending Score (1-100)]\n",
       "Index: []"
      ]
     },
     "execution_count": 143,
     "metadata": {},
     "output_type": "execute_result"
    }
   ],
   "source": [
    "index_age = de[de['Age']<20].index\n",
    "de.drop(index_age, inplace=True)\n",
    "de"
   ]
  },
  {
   "cell_type": "markdown",
   "id": "56b1355a",
   "metadata": {},
   "source": [
    "# NUMPY\n"
   ]
  },
  {
   "cell_type": "code",
   "execution_count": 3,
   "id": "f31033f3",
   "metadata": {},
   "outputs": [],
   "source": [
    "import numpy as np"
   ]
  },
  {
   "cell_type": "code",
   "execution_count": 5,
   "id": "f9b3ddf9",
   "metadata": {},
   "outputs": [],
   "source": [
    "a=np.random.rand(5*5)"
   ]
  },
  {
   "cell_type": "code",
   "execution_count": 6,
   "id": "475d8361",
   "metadata": {},
   "outputs": [
    {
     "data": {
      "text/plain": [
       "array([0.18309328, 0.12620204, 0.11291308, 0.61915923, 0.45884821,\n",
       "       0.37326772, 0.70103504, 0.67031348, 0.34647065, 0.5012352 ,\n",
       "       0.83597477, 0.41002457, 0.4791431 , 0.97806883, 0.49849179,\n",
       "       0.44829706, 0.16034312, 0.93490738, 0.27724838, 0.43996792,\n",
       "       0.57921953, 0.83076197, 0.69613591, 0.85125478, 0.94483307])"
      ]
     },
     "execution_count": 6,
     "metadata": {},
     "output_type": "execute_result"
    }
   ],
   "source": [
    "a"
   ]
  },
  {
   "cell_type": "code",
   "execution_count": 7,
   "id": "5378ea24",
   "metadata": {},
   "outputs": [
    {
     "name": "stdout",
     "output_type": "stream",
     "text": [
      "0.9780688275142772\n"
     ]
    }
   ],
   "source": [
    "print(a.max())"
   ]
  },
  {
   "cell_type": "code",
   "execution_count": 8,
   "id": "de3433c4",
   "metadata": {},
   "outputs": [
    {
     "name": "stdout",
     "output_type": "stream",
     "text": [
      "0.11291308455587123\n"
     ]
    }
   ],
   "source": [
    "print(a.min())"
   ]
  },
  {
   "cell_type": "code",
   "execution_count": 11,
   "id": "1090b38e",
   "metadata": {},
   "outputs": [],
   "source": [
    "b=np.random.randint(0,9,size=(5,5))"
   ]
  },
  {
   "cell_type": "code",
   "execution_count": 12,
   "id": "e62226b0",
   "metadata": {},
   "outputs": [
    {
     "data": {
      "text/plain": [
       "array([[7, 3, 0, 3, 6],\n",
       "       [7, 8, 1, 5, 2],\n",
       "       [6, 3, 8, 0, 1],\n",
       "       [2, 8, 5, 1, 4],\n",
       "       [7, 4, 6, 0, 5]])"
      ]
     },
     "execution_count": 12,
     "metadata": {},
     "output_type": "execute_result"
    }
   ],
   "source": [
    "b"
   ]
  },
  {
   "cell_type": "code",
   "execution_count": 13,
   "id": "6e2d4ed6",
   "metadata": {},
   "outputs": [
    {
     "data": {
      "text/plain": [
       "dtype('int32')"
      ]
     },
     "execution_count": 13,
     "metadata": {},
     "output_type": "execute_result"
    }
   ],
   "source": [
    "b.dtype"
   ]
  },
  {
   "cell_type": "code",
   "execution_count": 14,
   "id": "8391146f",
   "metadata": {},
   "outputs": [],
   "source": [
    "c=np.random.rand(3,3)"
   ]
  },
  {
   "cell_type": "code",
   "execution_count": 15,
   "id": "461b4a7f",
   "metadata": {},
   "outputs": [
    {
     "data": {
      "text/plain": [
       "array([[0.6509722 , 0.02932069, 0.0978595 ],\n",
       "       [0.59388266, 0.14522382, 0.63710584],\n",
       "       [0.96257226, 0.05427761, 0.68600822]])"
      ]
     },
     "execution_count": 15,
     "metadata": {},
     "output_type": "execute_result"
    }
   ],
   "source": [
    "c"
   ]
  },
  {
   "cell_type": "code",
   "execution_count": 21,
   "id": "494d5aa5",
   "metadata": {},
   "outputs": [
    {
     "name": "stdout",
     "output_type": "stream",
     "text": [
      "0.9625722575244821\n",
      "0.029320694662026137\n"
     ]
    },
    {
     "data": {
      "text/plain": [
       "0.4285803099575047"
      ]
     },
     "execution_count": 21,
     "metadata": {},
     "output_type": "execute_result"
    }
   ],
   "source": [
    "# print(c.average())\n",
    "print(c.max())\n",
    "print(c.min())\n",
    "d=np.average(c)\n",
    "d"
   ]
  },
  {
   "cell_type": "code",
   "execution_count": 22,
   "id": "5e8e4dc1",
   "metadata": {},
   "outputs": [],
   "source": [
    "ap=np.array([[1,2,3],[4,5,6]])"
   ]
  },
  {
   "cell_type": "code",
   "execution_count": 23,
   "id": "2ff5609e",
   "metadata": {},
   "outputs": [
    {
     "data": {
      "text/plain": [
       "array([[1, 2, 3],\n",
       "       [4, 5, 6]])"
      ]
     },
     "execution_count": 23,
     "metadata": {},
     "output_type": "execute_result"
    }
   ],
   "source": [
    "ap"
   ]
  },
  {
   "cell_type": "code",
   "execution_count": 24,
   "id": "232e965b",
   "metadata": {},
   "outputs": [
    {
     "data": {
      "text/plain": [
       "dtype('int32')"
      ]
     },
     "execution_count": 24,
     "metadata": {},
     "output_type": "execute_result"
    }
   ],
   "source": [
    "ap.dtype"
   ]
  },
  {
   "cell_type": "code",
   "execution_count": 25,
   "id": "8d97673b",
   "metadata": {},
   "outputs": [
    {
     "data": {
      "text/plain": [
       "6"
      ]
     },
     "execution_count": 25,
     "metadata": {},
     "output_type": "execute_result"
    }
   ],
   "source": [
    "ap.max()"
   ]
  },
  {
   "cell_type": "code",
   "execution_count": 26,
   "id": "a8b0e2c2",
   "metadata": {},
   "outputs": [
    {
     "data": {
      "text/plain": [
       "1"
      ]
     },
     "execution_count": 26,
     "metadata": {},
     "output_type": "execute_result"
    }
   ],
   "source": [
    "ap.min()"
   ]
  },
  {
   "cell_type": "code",
   "execution_count": 27,
   "id": "59a259ee",
   "metadata": {},
   "outputs": [
    {
     "data": {
      "text/plain": [
       "6"
      ]
     },
     "execution_count": 27,
     "metadata": {},
     "output_type": "execute_result"
    }
   ],
   "source": [
    "ap.size"
   ]
  },
  {
   "cell_type": "code",
   "execution_count": 28,
   "id": "6c83cd2f",
   "metadata": {},
   "outputs": [
    {
     "data": {
      "text/plain": [
       "4"
      ]
     },
     "execution_count": 28,
     "metadata": {},
     "output_type": "execute_result"
    }
   ],
   "source": [
    "ap.itemsize"
   ]
  },
  {
   "cell_type": "code",
   "execution_count": 29,
   "id": "1124115e",
   "metadata": {},
   "outputs": [
    {
     "data": {
      "text/plain": [
       "(2, 3)"
      ]
     },
     "execution_count": 29,
     "metadata": {},
     "output_type": "execute_result"
    }
   ],
   "source": [
    "ap.shape"
   ]
  },
  {
   "cell_type": "code",
   "execution_count": 30,
   "id": "a7797502",
   "metadata": {},
   "outputs": [
    {
     "data": {
      "text/plain": [
       "21"
      ]
     },
     "execution_count": 30,
     "metadata": {},
     "output_type": "execute_result"
    }
   ],
   "source": [
    "ap.sum()"
   ]
  },
  {
   "cell_type": "code",
   "execution_count": 31,
   "id": "3eed9308",
   "metadata": {},
   "outputs": [
    {
     "data": {
      "text/plain": [
       "3.5"
      ]
     },
     "execution_count": 31,
     "metadata": {},
     "output_type": "execute_result"
    }
   ],
   "source": [
    "ap.mean()"
   ]
  },
  {
   "cell_type": "code",
   "execution_count": 34,
   "id": "5a8e7095",
   "metadata": {},
   "outputs": [
    {
     "data": {
      "text/plain": [
       "3.5"
      ]
     },
     "execution_count": 34,
     "metadata": {},
     "output_type": "execute_result"
    }
   ],
   "source": [
    "apm = np.median(ap)\n",
    "apm"
   ]
  },
  {
   "cell_type": "code",
   "execution_count": 35,
   "id": "37254a51",
   "metadata": {},
   "outputs": [
    {
     "data": {
      "text/plain": [
       "2"
      ]
     },
     "execution_count": 35,
     "metadata": {},
     "output_type": "execute_result"
    }
   ],
   "source": [
    "ap.ndim"
   ]
  },
  {
   "cell_type": "code",
   "execution_count": 40,
   "id": "969ca65d",
   "metadata": {},
   "outputs": [
    {
     "data": {
      "text/plain": [
       "array([[1, 2, 3, 4, 5, 6]])"
      ]
     },
     "execution_count": 40,
     "metadata": {},
     "output_type": "execute_result"
    }
   ],
   "source": [
    "apr=ap.reshape(1,6)\n",
    "apr"
   ]
  },
  {
   "cell_type": "code",
   "execution_count": 41,
   "id": "b19cb7a9",
   "metadata": {},
   "outputs": [],
   "source": [
    "apc=np.copy(apr)"
   ]
  },
  {
   "cell_type": "code",
   "execution_count": 42,
   "id": "f770ad9e",
   "metadata": {},
   "outputs": [
    {
     "data": {
      "text/plain": [
       "array([[1, 2, 3, 4, 5, 6]])"
      ]
     },
     "execution_count": 42,
     "metadata": {},
     "output_type": "execute_result"
    }
   ],
   "source": [
    "apc"
   ]
  },
  {
   "cell_type": "code",
   "execution_count": 46,
   "id": "e9c86231",
   "metadata": {},
   "outputs": [
    {
     "data": {
      "text/plain": [
       "array([1, 2, 3, 4, 5, 6, 7, 8, 9])"
      ]
     },
     "execution_count": 46,
     "metadata": {},
     "output_type": "execute_result"
    }
   ],
   "source": [
    "apd=np.append(apc,[7,8,9])\n",
    "apd"
   ]
  },
  {
   "cell_type": "code",
   "execution_count": 53,
   "id": "fa3e93fa",
   "metadata": {},
   "outputs": [
    {
     "data": {
      "text/plain": [
       "array([ 1,  2, 16,  3,  4,  5,  6])"
      ]
     },
     "execution_count": 53,
     "metadata": {},
     "output_type": "execute_result"
    }
   ],
   "source": [
    "api=np.insert(ap,2,16)\n",
    "api"
   ]
  },
  {
   "cell_type": "code",
   "execution_count": 54,
   "id": "5937bc71",
   "metadata": {},
   "outputs": [],
   "source": [
    "so=np.sort(api)"
   ]
  },
  {
   "cell_type": "code",
   "execution_count": 55,
   "id": "a7ba45c8",
   "metadata": {},
   "outputs": [
    {
     "data": {
      "text/plain": [
       "array([ 1,  2,  3,  4,  5,  6, 16])"
      ]
     },
     "execution_count": 55,
     "metadata": {},
     "output_type": "execute_result"
    }
   ],
   "source": [
    "so"
   ]
  },
  {
   "cell_type": "code",
   "execution_count": 58,
   "id": "fa353240",
   "metadata": {},
   "outputs": [
    {
     "data": {
      "text/plain": [
       "array([ 2,  4,  6,  8, 10, 12, 14, 16, 18, 20])"
      ]
     },
     "execution_count": 58,
     "metadata": {},
     "output_type": "execute_result"
    }
   ],
   "source": [
    "t2 = np.arange(2,21,2)\n",
    "t2"
   ]
  },
  {
   "cell_type": "code",
   "execution_count": 59,
   "id": "9d7111b0",
   "metadata": {},
   "outputs": [
    {
     "data": {
      "text/plain": [
       "array([ 13,  26,  39,  52,  65,  78,  91, 104, 117, 130])"
      ]
     },
     "execution_count": 59,
     "metadata": {},
     "output_type": "execute_result"
    }
   ],
   "source": [
    "t13=np.arange(13,131,13)\n",
    "t13"
   ]
  },
  {
   "cell_type": "code",
   "execution_count": 65,
   "id": "4cc04af1",
   "metadata": {},
   "outputs": [
    {
     "data": {
      "text/plain": [
       "array([[1., 1., 1., 1.],\n",
       "       [1., 1., 1., 1.],\n",
       "       [1., 1., 1., 1.]])"
      ]
     },
     "execution_count": 65,
     "metadata": {},
     "output_type": "execute_result"
    }
   ],
   "source": [
    "ze=np.zeros((2,2))\n",
    "ze\n",
    "\n",
    "on =np.ones((3,4))\n",
    "on"
   ]
  },
  {
   "cell_type": "code",
   "execution_count": 68,
   "id": "389c4f59",
   "metadata": {},
   "outputs": [
    {
     "data": {
      "text/plain": [
       "1.0"
      ]
     },
     "execution_count": 68,
     "metadata": {},
     "output_type": "execute_result"
    }
   ],
   "source": [
    "ze.max()\n",
    "on.max()"
   ]
  },
  {
   "cell_type": "code",
   "execution_count": 82,
   "id": "c47f7550",
   "metadata": {},
   "outputs": [
    {
     "data": {
      "text/plain": [
       "[array([0.53938594, 0.29063721]),\n",
       " array([0.57351001, 0.03651472]),\n",
       " array([0.54054515, 0.90264611])]"
      ]
     },
     "execution_count": 82,
     "metadata": {},
     "output_type": "execute_result"
    }
   ],
   "source": [
    "r= np.random.rand(6)\n",
    "r\n",
    "dd=np.split(r,3)\n",
    "dd"
   ]
  },
  {
   "cell_type": "code",
   "execution_count": 83,
   "id": "9de62dfb",
   "metadata": {},
   "outputs": [],
   "source": [
    "from scipy import stats as st"
   ]
  },
  {
   "cell_type": "code",
   "execution_count": 84,
   "id": "6c26433f",
   "metadata": {},
   "outputs": [
    {
     "name": "stdout",
     "output_type": "stream",
     "text": [
      "ModeResult(mode=array([1]), count=array([3]))\n"
     ]
    },
    {
     "name": "stderr",
     "output_type": "stream",
     "text": [
      "C:\\Users\\Lenovo\\AppData\\Local\\Temp\\ipykernel_12840\\653065961.py:2: FutureWarning: Unlike other reduction functions (e.g. `skew`, `kurtosis`), the default behavior of `mode` typically preserves the axis it acts along. In SciPy 1.11.0, this behavior will change: the default value of `keepdims` will become False, the `axis` over which the statistic is taken will be eliminated, and the value None will no longer be accepted. Set `keepdims` to True or False to avoid this warning.\n",
      "  print(st.mode(arr))\n"
     ]
    }
   ],
   "source": [
    "arr=np.array([1,2,3,1,2,341,3,1,3,4,5])\n",
    "print(st.mode(arr))"
   ]
  },
  {
   "cell_type": "code",
   "execution_count": 89,
   "id": "9a578506",
   "metadata": {},
   "outputs": [
    {
     "name": "stdout",
     "output_type": "stream",
     "text": [
      "[[6 5 3]\n",
      " [7 8 8]]\n",
      "[[6 5]\n",
      " [3 7]\n",
      " [8 8]]\n"
     ]
    }
   ],
   "source": [
    "##reshape\n",
    "\n",
    "re=np.random.randint(0,9,size=(2,3))\n",
    "print(re)\n",
    "q=re.reshape(3,2)\n",
    "print(q)"
   ]
  },
  {
   "cell_type": "markdown",
   "id": "49168533",
   "metadata": {},
   "source": [
    "# PANDAS"
   ]
  },
  {
   "cell_type": "code",
   "execution_count": 119,
   "id": "510b6cf5",
   "metadata": {},
   "outputs": [
    {
     "data": {
      "text/html": [
       "<div>\n",
       "<style scoped>\n",
       "    .dataframe tbody tr th:only-of-type {\n",
       "        vertical-align: middle;\n",
       "    }\n",
       "\n",
       "    .dataframe tbody tr th {\n",
       "        vertical-align: top;\n",
       "    }\n",
       "\n",
       "    .dataframe thead th {\n",
       "        text-align: right;\n",
       "    }\n",
       "</style>\n",
       "<table border=\"1\" class=\"dataframe\">\n",
       "  <thead>\n",
       "    <tr style=\"text-align: right;\">\n",
       "      <th></th>\n",
       "      <th>Names</th>\n",
       "      <th>Marks1</th>\n",
       "      <th>Marks2</th>\n",
       "    </tr>\n",
       "  </thead>\n",
       "  <tbody>\n",
       "    <tr>\n",
       "      <th>A</th>\n",
       "      <td>js</td>\n",
       "      <td>50</td>\n",
       "      <td>60</td>\n",
       "    </tr>\n",
       "    <tr>\n",
       "      <th>B</th>\n",
       "      <td>ks</td>\n",
       "      <td>40</td>\n",
       "      <td>70</td>\n",
       "    </tr>\n",
       "    <tr>\n",
       "      <th>C</th>\n",
       "      <td>ls</td>\n",
       "      <td>80</td>\n",
       "      <td>90</td>\n",
       "    </tr>\n",
       "  </tbody>\n",
       "</table>\n",
       "</div>"
      ],
      "text/plain": [
       "  Names  Marks1  Marks2\n",
       "A    js      50      60\n",
       "B    ks      40      70\n",
       "C    ls      80      90"
      ]
     },
     "execution_count": 119,
     "metadata": {},
     "output_type": "execute_result"
    }
   ],
   "source": [
    "import pandas as pd\n",
    "\n",
    "Name=['js','ks','ls']\n",
    "mark1=[50,40,80]\n",
    "mark2=[60,70,90]\n",
    "student=({'Names':Name,'Marks1':mark1,'Marks2':mark2})\n",
    "student\n",
    "df=pd.DataFrame(data=student,index=['A','B','C'])\n",
    "df\n"
   ]
  },
  {
   "cell_type": "code",
   "execution_count": 100,
   "id": "84f9fab3",
   "metadata": {},
   "outputs": [
    {
     "data": {
      "text/html": [
       "<div>\n",
       "<style scoped>\n",
       "    .dataframe tbody tr th:only-of-type {\n",
       "        vertical-align: middle;\n",
       "    }\n",
       "\n",
       "    .dataframe tbody tr th {\n",
       "        vertical-align: top;\n",
       "    }\n",
       "\n",
       "    .dataframe thead th {\n",
       "        text-align: right;\n",
       "    }\n",
       "</style>\n",
       "<table border=\"1\" class=\"dataframe\">\n",
       "  <thead>\n",
       "    <tr style=\"text-align: right;\">\n",
       "      <th></th>\n",
       "      <th>Names</th>\n",
       "      <th>Marks1</th>\n",
       "      <th>Marks2</th>\n",
       "      <th>Total</th>\n",
       "    </tr>\n",
       "  </thead>\n",
       "  <tbody>\n",
       "    <tr>\n",
       "      <th>0</th>\n",
       "      <td>js</td>\n",
       "      <td>50</td>\n",
       "      <td>60</td>\n",
       "      <td>110</td>\n",
       "    </tr>\n",
       "    <tr>\n",
       "      <th>1</th>\n",
       "      <td>ks</td>\n",
       "      <td>40</td>\n",
       "      <td>70</td>\n",
       "      <td>110</td>\n",
       "    </tr>\n",
       "    <tr>\n",
       "      <th>2</th>\n",
       "      <td>ls</td>\n",
       "      <td>80</td>\n",
       "      <td>90</td>\n",
       "      <td>170</td>\n",
       "    </tr>\n",
       "  </tbody>\n",
       "</table>\n",
       "</div>"
      ],
      "text/plain": [
       "  Names  Marks1  Marks2  Total\n",
       "0    js      50      60    110\n",
       "1    ks      40      70    110\n",
       "2    ls      80      90    170"
      ]
     },
     "execution_count": 100,
     "metadata": {},
     "output_type": "execute_result"
    }
   ],
   "source": [
    "df['Total']=df['Marks1']+df['Marks2']\n",
    "df"
   ]
  },
  {
   "cell_type": "code",
   "execution_count": 101,
   "id": "e3aa53ef",
   "metadata": {},
   "outputs": [],
   "source": [
    "re=df.rename(columns={'Marks1':'Java','Marks2':'Python'})"
   ]
  },
  {
   "cell_type": "code",
   "execution_count": 102,
   "id": "2b2bffdf",
   "metadata": {},
   "outputs": [
    {
     "data": {
      "text/html": [
       "<div>\n",
       "<style scoped>\n",
       "    .dataframe tbody tr th:only-of-type {\n",
       "        vertical-align: middle;\n",
       "    }\n",
       "\n",
       "    .dataframe tbody tr th {\n",
       "        vertical-align: top;\n",
       "    }\n",
       "\n",
       "    .dataframe thead th {\n",
       "        text-align: right;\n",
       "    }\n",
       "</style>\n",
       "<table border=\"1\" class=\"dataframe\">\n",
       "  <thead>\n",
       "    <tr style=\"text-align: right;\">\n",
       "      <th></th>\n",
       "      <th>Names</th>\n",
       "      <th>Java</th>\n",
       "      <th>Python</th>\n",
       "      <th>Total</th>\n",
       "    </tr>\n",
       "  </thead>\n",
       "  <tbody>\n",
       "    <tr>\n",
       "      <th>0</th>\n",
       "      <td>js</td>\n",
       "      <td>50</td>\n",
       "      <td>60</td>\n",
       "      <td>110</td>\n",
       "    </tr>\n",
       "    <tr>\n",
       "      <th>1</th>\n",
       "      <td>ks</td>\n",
       "      <td>40</td>\n",
       "      <td>70</td>\n",
       "      <td>110</td>\n",
       "    </tr>\n",
       "    <tr>\n",
       "      <th>2</th>\n",
       "      <td>ls</td>\n",
       "      <td>80</td>\n",
       "      <td>90</td>\n",
       "      <td>170</td>\n",
       "    </tr>\n",
       "  </tbody>\n",
       "</table>\n",
       "</div>"
      ],
      "text/plain": [
       "  Names  Java  Python  Total\n",
       "0    js    50      60    110\n",
       "1    ks    40      70    110\n",
       "2    ls    80      90    170"
      ]
     },
     "execution_count": 102,
     "metadata": {},
     "output_type": "execute_result"
    }
   ],
   "source": [
    "re"
   ]
  },
  {
   "cell_type": "code",
   "execution_count": 110,
   "id": "8d11a258",
   "metadata": {},
   "outputs": [
    {
     "data": {
      "text/plain": [
       "Series([], Name: Total, dtype: int64)"
      ]
     },
     "execution_count": 110,
     "metadata": {},
     "output_type": "execute_result"
    }
   ],
   "source": [
    "de=df['Total']\n",
    "index_to=de.index\n",
    "de.drop(index_to,inplace=True)\n",
    "de"
   ]
  },
  {
   "cell_type": "markdown",
   "id": "bb72dd4a",
   "metadata": {},
   "source": [
    "# SKLEARN"
   ]
  },
  {
   "cell_type": "code",
   "execution_count": 120,
   "id": "1e5e9415",
   "metadata": {},
   "outputs": [],
   "source": [
    "import numpy as np\n",
    "import pandas as pd"
   ]
  },
  {
   "cell_type": "code",
   "execution_count": 121,
   "id": "729002db",
   "metadata": {},
   "outputs": [],
   "source": [
    "import matplotlib.pyplot as plt\n",
    "import seaborn as sns"
   ]
  },
  {
   "cell_type": "code",
   "execution_count": 123,
   "id": "7c43d667",
   "metadata": {},
   "outputs": [
    {
     "data": {
      "text/html": [
       "<div>\n",
       "<style scoped>\n",
       "    .dataframe tbody tr th:only-of-type {\n",
       "        vertical-align: middle;\n",
       "    }\n",
       "\n",
       "    .dataframe tbody tr th {\n",
       "        vertical-align: top;\n",
       "    }\n",
       "\n",
       "    .dataframe thead th {\n",
       "        text-align: right;\n",
       "    }\n",
       "</style>\n",
       "<table border=\"1\" class=\"dataframe\">\n",
       "  <thead>\n",
       "    <tr style=\"text-align: right;\">\n",
       "      <th></th>\n",
       "      <th>CustomerID</th>\n",
       "      <th>Genre</th>\n",
       "      <th>Age</th>\n",
       "      <th>Annual Income (k$)</th>\n",
       "      <th>Spending Score (1-100)</th>\n",
       "    </tr>\n",
       "  </thead>\n",
       "  <tbody>\n",
       "    <tr>\n",
       "      <th>0</th>\n",
       "      <td>1</td>\n",
       "      <td>Male</td>\n",
       "      <td>19</td>\n",
       "      <td>15</td>\n",
       "      <td>39</td>\n",
       "    </tr>\n",
       "    <tr>\n",
       "      <th>1</th>\n",
       "      <td>2</td>\n",
       "      <td>Male</td>\n",
       "      <td>21</td>\n",
       "      <td>15</td>\n",
       "      <td>81</td>\n",
       "    </tr>\n",
       "    <tr>\n",
       "      <th>2</th>\n",
       "      <td>3</td>\n",
       "      <td>Female</td>\n",
       "      <td>20</td>\n",
       "      <td>16</td>\n",
       "      <td>6</td>\n",
       "    </tr>\n",
       "    <tr>\n",
       "      <th>3</th>\n",
       "      <td>4</td>\n",
       "      <td>Female</td>\n",
       "      <td>23</td>\n",
       "      <td>16</td>\n",
       "      <td>77</td>\n",
       "    </tr>\n",
       "    <tr>\n",
       "      <th>4</th>\n",
       "      <td>5</td>\n",
       "      <td>Female</td>\n",
       "      <td>31</td>\n",
       "      <td>17</td>\n",
       "      <td>40</td>\n",
       "    </tr>\n",
       "    <tr>\n",
       "      <th>...</th>\n",
       "      <td>...</td>\n",
       "      <td>...</td>\n",
       "      <td>...</td>\n",
       "      <td>...</td>\n",
       "      <td>...</td>\n",
       "    </tr>\n",
       "    <tr>\n",
       "      <th>195</th>\n",
       "      <td>196</td>\n",
       "      <td>Female</td>\n",
       "      <td>35</td>\n",
       "      <td>120</td>\n",
       "      <td>79</td>\n",
       "    </tr>\n",
       "    <tr>\n",
       "      <th>196</th>\n",
       "      <td>197</td>\n",
       "      <td>Female</td>\n",
       "      <td>45</td>\n",
       "      <td>126</td>\n",
       "      <td>28</td>\n",
       "    </tr>\n",
       "    <tr>\n",
       "      <th>197</th>\n",
       "      <td>198</td>\n",
       "      <td>Male</td>\n",
       "      <td>32</td>\n",
       "      <td>126</td>\n",
       "      <td>74</td>\n",
       "    </tr>\n",
       "    <tr>\n",
       "      <th>198</th>\n",
       "      <td>199</td>\n",
       "      <td>Male</td>\n",
       "      <td>32</td>\n",
       "      <td>137</td>\n",
       "      <td>18</td>\n",
       "    </tr>\n",
       "    <tr>\n",
       "      <th>199</th>\n",
       "      <td>200</td>\n",
       "      <td>Male</td>\n",
       "      <td>30</td>\n",
       "      <td>137</td>\n",
       "      <td>83</td>\n",
       "    </tr>\n",
       "  </tbody>\n",
       "</table>\n",
       "<p>200 rows × 5 columns</p>\n",
       "</div>"
      ],
      "text/plain": [
       "     CustomerID   Genre  Age  Annual Income (k$)  Spending Score (1-100)\n",
       "0             1    Male   19                  15                      39\n",
       "1             2    Male   21                  15                      81\n",
       "2             3  Female   20                  16                       6\n",
       "3             4  Female   23                  16                      77\n",
       "4             5  Female   31                  17                      40\n",
       "..          ...     ...  ...                 ...                     ...\n",
       "195         196  Female   35                 120                      79\n",
       "196         197  Female   45                 126                      28\n",
       "197         198    Male   32                 126                      74\n",
       "198         199    Male   32                 137                      18\n",
       "199         200    Male   30                 137                      83\n",
       "\n",
       "[200 rows x 5 columns]"
      ]
     },
     "execution_count": 123,
     "metadata": {},
     "output_type": "execute_result"
    }
   ],
   "source": [
    "### MALL_Customers\n",
    "\n",
    "mac=pd.read_csv(\"Mall_Customers.csv\")\n",
    "mac"
   ]
  },
  {
   "cell_type": "code",
   "execution_count": 124,
   "id": "2becca9e",
   "metadata": {},
   "outputs": [
    {
     "name": "stdout",
     "output_type": "stream",
     "text": [
      "<class 'pandas.core.frame.DataFrame'>\n",
      "RangeIndex: 200 entries, 0 to 199\n",
      "Data columns (total 5 columns):\n",
      " #   Column                  Non-Null Count  Dtype \n",
      "---  ------                  --------------  ----- \n",
      " 0   CustomerID              200 non-null    int64 \n",
      " 1   Genre                   200 non-null    object\n",
      " 2   Age                     200 non-null    int64 \n",
      " 3   Annual Income (k$)      200 non-null    int64 \n",
      " 4   Spending Score (1-100)  200 non-null    int64 \n",
      "dtypes: int64(4), object(1)\n",
      "memory usage: 7.9+ KB\n"
     ]
    }
   ],
   "source": [
    "mac.info()"
   ]
  },
  {
   "cell_type": "code",
   "execution_count": 125,
   "id": "e48422b7",
   "metadata": {},
   "outputs": [
    {
     "data": {
      "text/plain": [
       "CustomerID                0\n",
       "Genre                     0\n",
       "Age                       0\n",
       "Annual Income (k$)        0\n",
       "Spending Score (1-100)    0\n",
       "dtype: int64"
      ]
     },
     "execution_count": 125,
     "metadata": {},
     "output_type": "execute_result"
    }
   ],
   "source": [
    "mac.isnull().sum()"
   ]
  },
  {
   "cell_type": "code",
   "execution_count": 127,
   "id": "392fcf19",
   "metadata": {},
   "outputs": [
    {
     "data": {
      "text/plain": [
       "Female    112\n",
       "Male       88\n",
       "Name: Genre, dtype: int64"
      ]
     },
     "execution_count": 127,
     "metadata": {},
     "output_type": "execute_result"
    }
   ],
   "source": [
    "mac['Genre'].value_counts()"
   ]
  },
  {
   "cell_type": "code",
   "execution_count": 128,
   "id": "dc476a7c",
   "metadata": {},
   "outputs": [],
   "source": [
    "x=mac.iloc[:,[2,3,4]].values"
   ]
  },
  {
   "cell_type": "code",
   "execution_count": 129,
   "id": "5c014274",
   "metadata": {},
   "outputs": [
    {
     "data": {
      "text/plain": [
       "array([[ 19,  15,  39],\n",
       "       [ 21,  15,  81],\n",
       "       [ 20,  16,   6],\n",
       "       [ 23,  16,  77],\n",
       "       [ 31,  17,  40],\n",
       "       [ 22,  17,  76],\n",
       "       [ 35,  18,   6],\n",
       "       [ 23,  18,  94],\n",
       "       [ 64,  19,   3],\n",
       "       [ 30,  19,  72],\n",
       "       [ 67,  19,  14],\n",
       "       [ 35,  19,  99],\n",
       "       [ 58,  20,  15],\n",
       "       [ 24,  20,  77],\n",
       "       [ 37,  20,  13],\n",
       "       [ 22,  20,  79],\n",
       "       [ 35,  21,  35],\n",
       "       [ 20,  21,  66],\n",
       "       [ 52,  23,  29],\n",
       "       [ 35,  23,  98],\n",
       "       [ 35,  24,  35],\n",
       "       [ 25,  24,  73],\n",
       "       [ 46,  25,   5],\n",
       "       [ 31,  25,  73],\n",
       "       [ 54,  28,  14],\n",
       "       [ 29,  28,  82],\n",
       "       [ 45,  28,  32],\n",
       "       [ 35,  28,  61],\n",
       "       [ 40,  29,  31],\n",
       "       [ 23,  29,  87],\n",
       "       [ 60,  30,   4],\n",
       "       [ 21,  30,  73],\n",
       "       [ 53,  33,   4],\n",
       "       [ 18,  33,  92],\n",
       "       [ 49,  33,  14],\n",
       "       [ 21,  33,  81],\n",
       "       [ 42,  34,  17],\n",
       "       [ 30,  34,  73],\n",
       "       [ 36,  37,  26],\n",
       "       [ 20,  37,  75],\n",
       "       [ 65,  38,  35],\n",
       "       [ 24,  38,  92],\n",
       "       [ 48,  39,  36],\n",
       "       [ 31,  39,  61],\n",
       "       [ 49,  39,  28],\n",
       "       [ 24,  39,  65],\n",
       "       [ 50,  40,  55],\n",
       "       [ 27,  40,  47],\n",
       "       [ 29,  40,  42],\n",
       "       [ 31,  40,  42],\n",
       "       [ 49,  42,  52],\n",
       "       [ 33,  42,  60],\n",
       "       [ 31,  43,  54],\n",
       "       [ 59,  43,  60],\n",
       "       [ 50,  43,  45],\n",
       "       [ 47,  43,  41],\n",
       "       [ 51,  44,  50],\n",
       "       [ 69,  44,  46],\n",
       "       [ 27,  46,  51],\n",
       "       [ 53,  46,  46],\n",
       "       [ 70,  46,  56],\n",
       "       [ 19,  46,  55],\n",
       "       [ 67,  47,  52],\n",
       "       [ 54,  47,  59],\n",
       "       [ 63,  48,  51],\n",
       "       [ 18,  48,  59],\n",
       "       [ 43,  48,  50],\n",
       "       [ 68,  48,  48],\n",
       "       [ 19,  48,  59],\n",
       "       [ 32,  48,  47],\n",
       "       [ 70,  49,  55],\n",
       "       [ 47,  49,  42],\n",
       "       [ 60,  50,  49],\n",
       "       [ 60,  50,  56],\n",
       "       [ 59,  54,  47],\n",
       "       [ 26,  54,  54],\n",
       "       [ 45,  54,  53],\n",
       "       [ 40,  54,  48],\n",
       "       [ 23,  54,  52],\n",
       "       [ 49,  54,  42],\n",
       "       [ 57,  54,  51],\n",
       "       [ 38,  54,  55],\n",
       "       [ 67,  54,  41],\n",
       "       [ 46,  54,  44],\n",
       "       [ 21,  54,  57],\n",
       "       [ 48,  54,  46],\n",
       "       [ 55,  57,  58],\n",
       "       [ 22,  57,  55],\n",
       "       [ 34,  58,  60],\n",
       "       [ 50,  58,  46],\n",
       "       [ 68,  59,  55],\n",
       "       [ 18,  59,  41],\n",
       "       [ 48,  60,  49],\n",
       "       [ 40,  60,  40],\n",
       "       [ 32,  60,  42],\n",
       "       [ 24,  60,  52],\n",
       "       [ 47,  60,  47],\n",
       "       [ 27,  60,  50],\n",
       "       [ 48,  61,  42],\n",
       "       [ 20,  61,  49],\n",
       "       [ 23,  62,  41],\n",
       "       [ 49,  62,  48],\n",
       "       [ 67,  62,  59],\n",
       "       [ 26,  62,  55],\n",
       "       [ 49,  62,  56],\n",
       "       [ 21,  62,  42],\n",
       "       [ 66,  63,  50],\n",
       "       [ 54,  63,  46],\n",
       "       [ 68,  63,  43],\n",
       "       [ 66,  63,  48],\n",
       "       [ 65,  63,  52],\n",
       "       [ 19,  63,  54],\n",
       "       [ 38,  64,  42],\n",
       "       [ 19,  64,  46],\n",
       "       [ 18,  65,  48],\n",
       "       [ 19,  65,  50],\n",
       "       [ 63,  65,  43],\n",
       "       [ 49,  65,  59],\n",
       "       [ 51,  67,  43],\n",
       "       [ 50,  67,  57],\n",
       "       [ 27,  67,  56],\n",
       "       [ 38,  67,  40],\n",
       "       [ 40,  69,  58],\n",
       "       [ 39,  69,  91],\n",
       "       [ 23,  70,  29],\n",
       "       [ 31,  70,  77],\n",
       "       [ 43,  71,  35],\n",
       "       [ 40,  71,  95],\n",
       "       [ 59,  71,  11],\n",
       "       [ 38,  71,  75],\n",
       "       [ 47,  71,   9],\n",
       "       [ 39,  71,  75],\n",
       "       [ 25,  72,  34],\n",
       "       [ 31,  72,  71],\n",
       "       [ 20,  73,   5],\n",
       "       [ 29,  73,  88],\n",
       "       [ 44,  73,   7],\n",
       "       [ 32,  73,  73],\n",
       "       [ 19,  74,  10],\n",
       "       [ 35,  74,  72],\n",
       "       [ 57,  75,   5],\n",
       "       [ 32,  75,  93],\n",
       "       [ 28,  76,  40],\n",
       "       [ 32,  76,  87],\n",
       "       [ 25,  77,  12],\n",
       "       [ 28,  77,  97],\n",
       "       [ 48,  77,  36],\n",
       "       [ 32,  77,  74],\n",
       "       [ 34,  78,  22],\n",
       "       [ 34,  78,  90],\n",
       "       [ 43,  78,  17],\n",
       "       [ 39,  78,  88],\n",
       "       [ 44,  78,  20],\n",
       "       [ 38,  78,  76],\n",
       "       [ 47,  78,  16],\n",
       "       [ 27,  78,  89],\n",
       "       [ 37,  78,   1],\n",
       "       [ 30,  78,  78],\n",
       "       [ 34,  78,   1],\n",
       "       [ 30,  78,  73],\n",
       "       [ 56,  79,  35],\n",
       "       [ 29,  79,  83],\n",
       "       [ 19,  81,   5],\n",
       "       [ 31,  81,  93],\n",
       "       [ 50,  85,  26],\n",
       "       [ 36,  85,  75],\n",
       "       [ 42,  86,  20],\n",
       "       [ 33,  86,  95],\n",
       "       [ 36,  87,  27],\n",
       "       [ 32,  87,  63],\n",
       "       [ 40,  87,  13],\n",
       "       [ 28,  87,  75],\n",
       "       [ 36,  87,  10],\n",
       "       [ 36,  87,  92],\n",
       "       [ 52,  88,  13],\n",
       "       [ 30,  88,  86],\n",
       "       [ 58,  88,  15],\n",
       "       [ 27,  88,  69],\n",
       "       [ 59,  93,  14],\n",
       "       [ 35,  93,  90],\n",
       "       [ 37,  97,  32],\n",
       "       [ 32,  97,  86],\n",
       "       [ 46,  98,  15],\n",
       "       [ 29,  98,  88],\n",
       "       [ 41,  99,  39],\n",
       "       [ 30,  99,  97],\n",
       "       [ 54, 101,  24],\n",
       "       [ 28, 101,  68],\n",
       "       [ 41, 103,  17],\n",
       "       [ 36, 103,  85],\n",
       "       [ 34, 103,  23],\n",
       "       [ 32, 103,  69],\n",
       "       [ 33, 113,   8],\n",
       "       [ 38, 113,  91],\n",
       "       [ 47, 120,  16],\n",
       "       [ 35, 120,  79],\n",
       "       [ 45, 126,  28],\n",
       "       [ 32, 126,  74],\n",
       "       [ 32, 137,  18],\n",
       "       [ 30, 137,  83]], dtype=int64)"
      ]
     },
     "execution_count": 129,
     "metadata": {},
     "output_type": "execute_result"
    }
   ],
   "source": [
    "x"
   ]
  },
  {
   "cell_type": "code",
   "execution_count": 130,
   "id": "e88bdfa3",
   "metadata": {},
   "outputs": [],
   "source": [
    "y=mac.iloc[:,1].values"
   ]
  },
  {
   "cell_type": "code",
   "execution_count": 131,
   "id": "c27d1456",
   "metadata": {},
   "outputs": [
    {
     "data": {
      "text/plain": [
       "array(['Male', 'Male', 'Female', 'Female', 'Female', 'Female', 'Female',\n",
       "       'Female', 'Male', 'Female', 'Male', 'Female', 'Female', 'Female',\n",
       "       'Male', 'Male', 'Female', 'Male', 'Male', 'Female', 'Male', 'Male',\n",
       "       'Female', 'Male', 'Female', 'Male', 'Female', 'Male', 'Female',\n",
       "       'Female', 'Male', 'Female', 'Male', 'Male', 'Female', 'Female',\n",
       "       'Female', 'Female', 'Female', 'Female', 'Female', 'Male', 'Male',\n",
       "       'Female', 'Female', 'Female', 'Female', 'Female', 'Female',\n",
       "       'Female', 'Female', 'Male', 'Female', 'Male', 'Female', 'Male',\n",
       "       'Female', 'Male', 'Female', 'Male', 'Male', 'Male', 'Female',\n",
       "       'Female', 'Male', 'Male', 'Female', 'Female', 'Male', 'Female',\n",
       "       'Male', 'Female', 'Female', 'Female', 'Male', 'Male', 'Female',\n",
       "       'Male', 'Female', 'Female', 'Male', 'Male', 'Male', 'Female',\n",
       "       'Female', 'Male', 'Female', 'Female', 'Female', 'Female', 'Female',\n",
       "       'Male', 'Male', 'Female', 'Female', 'Male', 'Female', 'Female',\n",
       "       'Male', 'Male', 'Female', 'Female', 'Male', 'Male', 'Male',\n",
       "       'Female', 'Female', 'Male', 'Male', 'Male', 'Male', 'Female',\n",
       "       'Female', 'Male', 'Female', 'Female', 'Female', 'Female', 'Female',\n",
       "       'Female', 'Male', 'Female', 'Female', 'Male', 'Female', 'Female',\n",
       "       'Male', 'Male', 'Male', 'Male', 'Male', 'Male', 'Female', 'Female',\n",
       "       'Male', 'Female', 'Female', 'Male', 'Male', 'Female', 'Female',\n",
       "       'Male', 'Female', 'Female', 'Male', 'Male', 'Male', 'Female',\n",
       "       'Female', 'Male', 'Male', 'Male', 'Female', 'Female', 'Female',\n",
       "       'Female', 'Male', 'Female', 'Male', 'Female', 'Female', 'Female',\n",
       "       'Male', 'Female', 'Male', 'Female', 'Male', 'Female', 'Female',\n",
       "       'Male', 'Male', 'Male', 'Male', 'Male', 'Female', 'Female', 'Male',\n",
       "       'Male', 'Male', 'Male', 'Female', 'Female', 'Male', 'Female',\n",
       "       'Female', 'Male', 'Female', 'Male', 'Female', 'Female', 'Female',\n",
       "       'Female', 'Male', 'Female', 'Female', 'Female', 'Female', 'Male',\n",
       "       'Male', 'Male'], dtype=object)"
      ]
     },
     "execution_count": 131,
     "metadata": {},
     "output_type": "execute_result"
    }
   ],
   "source": [
    "y"
   ]
  },
  {
   "cell_type": "code",
   "execution_count": 132,
   "id": "529e0b44",
   "metadata": {},
   "outputs": [],
   "source": [
    "from sklearn.preprocessing import LabelEncoder"
   ]
  },
  {
   "cell_type": "code",
   "execution_count": 134,
   "id": "5fd8bdd9",
   "metadata": {},
   "outputs": [],
   "source": [
    "labelencoder_y=LabelEncoder()"
   ]
  },
  {
   "cell_type": "code",
   "execution_count": 138,
   "id": "9395ef10",
   "metadata": {},
   "outputs": [],
   "source": [
    "Y=labelencoder_y.fit_transform(y)"
   ]
  },
  {
   "cell_type": "code",
   "execution_count": 139,
   "id": "27bbd313",
   "metadata": {},
   "outputs": [
    {
     "data": {
      "text/plain": [
       "array([1, 1, 0, 0, 0, 0, 0, 0, 1, 0, 1, 0, 0, 0, 1, 1, 0, 1, 1, 0, 1, 1,\n",
       "       0, 1, 0, 1, 0, 1, 0, 0, 1, 0, 1, 1, 0, 0, 0, 0, 0, 0, 0, 1, 1, 0,\n",
       "       0, 0, 0, 0, 0, 0, 0, 1, 0, 1, 0, 1, 0, 1, 0, 1, 1, 1, 0, 0, 1, 1,\n",
       "       0, 0, 1, 0, 1, 0, 0, 0, 1, 1, 0, 1, 0, 0, 1, 1, 1, 0, 0, 1, 0, 0,\n",
       "       0, 0, 0, 1, 1, 0, 0, 1, 0, 0, 1, 1, 0, 0, 1, 1, 1, 0, 0, 1, 1, 1,\n",
       "       1, 0, 0, 1, 0, 0, 0, 0, 0, 0, 1, 0, 0, 1, 0, 0, 1, 1, 1, 1, 1, 1,\n",
       "       0, 0, 1, 0, 0, 1, 1, 0, 0, 1, 0, 0, 1, 1, 1, 0, 0, 1, 1, 1, 0, 0,\n",
       "       0, 0, 1, 0, 1, 0, 0, 0, 1, 0, 1, 0, 1, 0, 0, 1, 1, 1, 1, 1, 0, 0,\n",
       "       1, 1, 1, 1, 0, 0, 1, 0, 0, 1, 0, 1, 0, 0, 0, 0, 1, 0, 0, 0, 0, 1,\n",
       "       1, 1])"
      ]
     },
     "execution_count": 139,
     "metadata": {},
     "output_type": "execute_result"
    }
   ],
   "source": [
    "Y"
   ]
  },
  {
   "cell_type": "code",
   "execution_count": 140,
   "id": "5b6e0b37",
   "metadata": {},
   "outputs": [],
   "source": [
    "from sklearn.model_selection import train_test_split"
   ]
  },
  {
   "cell_type": "code",
   "execution_count": 143,
   "id": "06d1876d",
   "metadata": {},
   "outputs": [],
   "source": [
    "x_train,x_test,y_train,y_test=train_test_split(x,y,test_size=0.3)"
   ]
  },
  {
   "cell_type": "code",
   "execution_count": 146,
   "id": "0e009dad",
   "metadata": {},
   "outputs": [
    {
     "name": "stdout",
     "output_type": "stream",
     "text": [
      "420\n",
      "140\n",
      "180\n",
      "60\n"
     ]
    }
   ],
   "source": [
    "print(x_train.size)\n",
    "print(y_train.size)\n",
    "print(x_test.size)\n",
    "print(y_test.size)"
   ]
  },
  {
   "cell_type": "code",
   "execution_count": 147,
   "id": "b2dfbffd",
   "metadata": {},
   "outputs": [],
   "source": [
    "from sklearn.linear_model import LogisticRegression"
   ]
  },
  {
   "cell_type": "code",
   "execution_count": 148,
   "id": "c90fa9e4",
   "metadata": {},
   "outputs": [],
   "source": [
    "logReg=LogisticRegression()"
   ]
  },
  {
   "cell_type": "code",
   "execution_count": 149,
   "id": "8d54b013",
   "metadata": {},
   "outputs": [
    {
     "data": {
      "text/plain": [
       "LogisticRegression()"
      ]
     },
     "execution_count": 149,
     "metadata": {},
     "output_type": "execute_result"
    }
   ],
   "source": [
    "logReg.fit(x_train,y_train)"
   ]
  },
  {
   "cell_type": "code",
   "execution_count": 150,
   "id": "364cc6fe",
   "metadata": {},
   "outputs": [],
   "source": [
    "y_pred_lo=logReg.predict(x_test)"
   ]
  },
  {
   "cell_type": "code",
   "execution_count": 151,
   "id": "a8647084",
   "metadata": {},
   "outputs": [
    {
     "data": {
      "text/plain": [
       "array(['Female', 'Male', 'Female', 'Male', 'Female', 'Female', 'Female',\n",
       "       'Female', 'Female', 'Female', 'Female', 'Female', 'Female',\n",
       "       'Female', 'Female', 'Female', 'Female', 'Female', 'Female',\n",
       "       'Female', 'Female', 'Male', 'Male', 'Female', 'Female', 'Female',\n",
       "       'Female', 'Female', 'Female', 'Male', 'Male', 'Female', 'Male',\n",
       "       'Female', 'Female', 'Female', 'Female', 'Male', 'Female', 'Female',\n",
       "       'Male', 'Male', 'Female', 'Male', 'Female', 'Female', 'Female',\n",
       "       'Female', 'Female', 'Female', 'Male', 'Male', 'Female', 'Female',\n",
       "       'Female', 'Female', 'Female', 'Male', 'Female', 'Female'],\n",
       "      dtype=object)"
      ]
     },
     "execution_count": 151,
     "metadata": {},
     "output_type": "execute_result"
    }
   ],
   "source": [
    "y_pred_lo"
   ]
  },
  {
   "cell_type": "code",
   "execution_count": 152,
   "id": "b83dc435",
   "metadata": {},
   "outputs": [],
   "source": [
    "from sklearn.metrics import confusion_matrix"
   ]
  },
  {
   "cell_type": "code",
   "execution_count": 154,
   "id": "1fe3ab40",
   "metadata": {},
   "outputs": [
    {
     "data": {
      "text/plain": [
       "(array(['Male', 'Male', 'Male', 'Female', 'Female', 'Male', 'Female',\n",
       "        'Female', 'Female', 'Female', 'Female', 'Male', 'Male', 'Female',\n",
       "        'Male', 'Male', 'Female', 'Female', 'Female', 'Female', 'Male',\n",
       "        'Female', 'Female', 'Female', 'Female', 'Male', 'Male', 'Male',\n",
       "        'Female', 'Male', 'Female', 'Female', 'Male', 'Male', 'Male',\n",
       "        'Female', 'Female', 'Male', 'Female', 'Female', 'Female', 'Female',\n",
       "        'Male', 'Male', 'Male', 'Male', 'Female', 'Female', 'Male',\n",
       "        'Female', 'Female', 'Female', 'Male', 'Male', 'Male', 'Male',\n",
       "        'Female', 'Female', 'Male', 'Female'], dtype=object),\n",
       " array(['Female', 'Male', 'Female', 'Male', 'Female', 'Female', 'Female',\n",
       "        'Female', 'Female', 'Female', 'Female', 'Female', 'Female',\n",
       "        'Female', 'Female', 'Female', 'Female', 'Female', 'Female',\n",
       "        'Female', 'Female', 'Male', 'Male', 'Female', 'Female', 'Female',\n",
       "        'Female', 'Female', 'Female', 'Male', 'Male', 'Female', 'Male',\n",
       "        'Female', 'Female', 'Female', 'Female', 'Male', 'Female', 'Female',\n",
       "        'Male', 'Male', 'Female', 'Male', 'Female', 'Female', 'Female',\n",
       "        'Female', 'Female', 'Female', 'Male', 'Male', 'Female', 'Female',\n",
       "        'Female', 'Female', 'Female', 'Male', 'Female', 'Female'],\n",
       "       dtype=object))"
      ]
     },
     "execution_count": 154,
     "metadata": {},
     "output_type": "execute_result"
    }
   ],
   "source": [
    "confusion_matrix=(y_test,y_pred_lo)\n",
    "confusion_matrix"
   ]
  },
  {
   "cell_type": "code",
   "execution_count": 155,
   "id": "303feefb",
   "metadata": {},
   "outputs": [
    {
     "data": {
      "text/plain": [
       "0.48333333333333334"
      ]
     },
     "execution_count": 155,
     "metadata": {},
     "output_type": "execute_result"
    }
   ],
   "source": [
    "logReg.score(x_test,y_test)"
   ]
  },
  {
   "cell_type": "code",
   "execution_count": 156,
   "id": "b8eb5eb4",
   "metadata": {},
   "outputs": [],
   "source": [
    "from sklearn.naive_bayes import GaussianNB"
   ]
  },
  {
   "cell_type": "code",
   "execution_count": 159,
   "id": "0d73f942",
   "metadata": {},
   "outputs": [
    {
     "data": {
      "text/plain": [
       "GaussianNB()"
      ]
     },
     "execution_count": 159,
     "metadata": {},
     "output_type": "execute_result"
    }
   ],
   "source": [
    "cla_gu=GaussianNB()\n",
    "cla_gu.fit(x_train,y_train)"
   ]
  },
  {
   "cell_type": "code",
   "execution_count": 160,
   "id": "ddbba8a3",
   "metadata": {},
   "outputs": [],
   "source": [
    "y_pred_gu=cla_gu.predict(x_test)"
   ]
  },
  {
   "cell_type": "code",
   "execution_count": 163,
   "id": "7e5b25ea",
   "metadata": {},
   "outputs": [
    {
     "ename": "TypeError",
     "evalue": "'tuple' object is not callable",
     "output_type": "error",
     "traceback": [
      "\u001b[1;31m---------------------------------------------------------------------------\u001b[0m",
      "\u001b[1;31mTypeError\u001b[0m                                 Traceback (most recent call last)",
      "\u001b[1;32m~\\AppData\\Local\\Temp\\ipykernel_12840\\3251546462.py\u001b[0m in \u001b[0;36m<module>\u001b[1;34m\u001b[0m\n\u001b[1;32m----> 1\u001b[1;33m \u001b[0mconfusion_matrix\u001b[0m\u001b[1;33m(\u001b[0m\u001b[0my_test\u001b[0m\u001b[1;33m,\u001b[0m\u001b[0my_pred_gu\u001b[0m\u001b[1;33m)\u001b[0m\u001b[1;33m\u001b[0m\u001b[1;33m\u001b[0m\u001b[0m\n\u001b[0m",
      "\u001b[1;31mTypeError\u001b[0m: 'tuple' object is not callable"
     ]
    }
   ],
   "source": [
    "confusion_matrix(y_test,y_pred_gu)"
   ]
  },
  {
   "cell_type": "code",
   "execution_count": 162,
   "id": "d1cd2fde",
   "metadata": {},
   "outputs": [
    {
     "data": {
      "text/plain": [
       "0.5166666666666667"
      ]
     },
     "execution_count": 162,
     "metadata": {},
     "output_type": "execute_result"
    }
   ],
   "source": [
    "cla_gu.score(x_test,y_test)"
   ]
  },
  {
   "cell_type": "markdown",
   "id": "07cd5c11",
   "metadata": {},
   "source": [
    "# New DataSet Titanic\n"
   ]
  },
  {
   "cell_type": "code",
   "execution_count": 164,
   "id": "b463dc79",
   "metadata": {},
   "outputs": [],
   "source": [
    "import numpy as np"
   ]
  },
  {
   "cell_type": "code",
   "execution_count": 165,
   "id": "f1ab24a2",
   "metadata": {},
   "outputs": [],
   "source": [
    "import pandas as pd"
   ]
  },
  {
   "cell_type": "code",
   "execution_count": 166,
   "id": "ca788bfa",
   "metadata": {},
   "outputs": [],
   "source": [
    "import matplotlib.pyplot as plt"
   ]
  },
  {
   "cell_type": "code",
   "execution_count": 167,
   "id": "74532865",
   "metadata": {},
   "outputs": [],
   "source": [
    "import seaborn as sns"
   ]
  },
  {
   "cell_type": "code",
   "execution_count": 170,
   "id": "0d7df7b9",
   "metadata": {},
   "outputs": [
    {
     "data": {
      "text/html": [
       "<div>\n",
       "<style scoped>\n",
       "    .dataframe tbody tr th:only-of-type {\n",
       "        vertical-align: middle;\n",
       "    }\n",
       "\n",
       "    .dataframe tbody tr th {\n",
       "        vertical-align: top;\n",
       "    }\n",
       "\n",
       "    .dataframe thead th {\n",
       "        text-align: right;\n",
       "    }\n",
       "</style>\n",
       "<table border=\"1\" class=\"dataframe\">\n",
       "  <thead>\n",
       "    <tr style=\"text-align: right;\">\n",
       "      <th></th>\n",
       "      <th>PassengerId</th>\n",
       "      <th>Survived</th>\n",
       "      <th>Pclass</th>\n",
       "      <th>Name</th>\n",
       "      <th>Sex</th>\n",
       "      <th>Age</th>\n",
       "      <th>SibSp</th>\n",
       "      <th>Parch</th>\n",
       "      <th>Ticket</th>\n",
       "      <th>Fare</th>\n",
       "      <th>Cabin</th>\n",
       "      <th>Embarked</th>\n",
       "    </tr>\n",
       "  </thead>\n",
       "  <tbody>\n",
       "    <tr>\n",
       "      <th>0</th>\n",
       "      <td>892</td>\n",
       "      <td>0</td>\n",
       "      <td>3</td>\n",
       "      <td>Kelly, Mr. James</td>\n",
       "      <td>male</td>\n",
       "      <td>34.5</td>\n",
       "      <td>0</td>\n",
       "      <td>0</td>\n",
       "      <td>330911</td>\n",
       "      <td>7.8292</td>\n",
       "      <td>NaN</td>\n",
       "      <td>Q</td>\n",
       "    </tr>\n",
       "    <tr>\n",
       "      <th>1</th>\n",
       "      <td>893</td>\n",
       "      <td>1</td>\n",
       "      <td>3</td>\n",
       "      <td>Wilkes, Mrs. James (Ellen Needs)</td>\n",
       "      <td>female</td>\n",
       "      <td>47.0</td>\n",
       "      <td>1</td>\n",
       "      <td>0</td>\n",
       "      <td>363272</td>\n",
       "      <td>7.0000</td>\n",
       "      <td>NaN</td>\n",
       "      <td>S</td>\n",
       "    </tr>\n",
       "    <tr>\n",
       "      <th>2</th>\n",
       "      <td>894</td>\n",
       "      <td>0</td>\n",
       "      <td>2</td>\n",
       "      <td>Myles, Mr. Thomas Francis</td>\n",
       "      <td>male</td>\n",
       "      <td>62.0</td>\n",
       "      <td>0</td>\n",
       "      <td>0</td>\n",
       "      <td>240276</td>\n",
       "      <td>9.6875</td>\n",
       "      <td>NaN</td>\n",
       "      <td>Q</td>\n",
       "    </tr>\n",
       "    <tr>\n",
       "      <th>3</th>\n",
       "      <td>895</td>\n",
       "      <td>0</td>\n",
       "      <td>3</td>\n",
       "      <td>Wirz, Mr. Albert</td>\n",
       "      <td>male</td>\n",
       "      <td>27.0</td>\n",
       "      <td>0</td>\n",
       "      <td>0</td>\n",
       "      <td>315154</td>\n",
       "      <td>8.6625</td>\n",
       "      <td>NaN</td>\n",
       "      <td>S</td>\n",
       "    </tr>\n",
       "    <tr>\n",
       "      <th>4</th>\n",
       "      <td>896</td>\n",
       "      <td>1</td>\n",
       "      <td>3</td>\n",
       "      <td>Hirvonen, Mrs. Alexander (Helga E Lindqvist)</td>\n",
       "      <td>female</td>\n",
       "      <td>22.0</td>\n",
       "      <td>1</td>\n",
       "      <td>1</td>\n",
       "      <td>3101298</td>\n",
       "      <td>12.2875</td>\n",
       "      <td>NaN</td>\n",
       "      <td>S</td>\n",
       "    </tr>\n",
       "    <tr>\n",
       "      <th>...</th>\n",
       "      <td>...</td>\n",
       "      <td>...</td>\n",
       "      <td>...</td>\n",
       "      <td>...</td>\n",
       "      <td>...</td>\n",
       "      <td>...</td>\n",
       "      <td>...</td>\n",
       "      <td>...</td>\n",
       "      <td>...</td>\n",
       "      <td>...</td>\n",
       "      <td>...</td>\n",
       "      <td>...</td>\n",
       "    </tr>\n",
       "    <tr>\n",
       "      <th>413</th>\n",
       "      <td>1305</td>\n",
       "      <td>0</td>\n",
       "      <td>3</td>\n",
       "      <td>Spector, Mr. Woolf</td>\n",
       "      <td>male</td>\n",
       "      <td>NaN</td>\n",
       "      <td>0</td>\n",
       "      <td>0</td>\n",
       "      <td>A.5. 3236</td>\n",
       "      <td>8.0500</td>\n",
       "      <td>NaN</td>\n",
       "      <td>S</td>\n",
       "    </tr>\n",
       "    <tr>\n",
       "      <th>414</th>\n",
       "      <td>1306</td>\n",
       "      <td>1</td>\n",
       "      <td>1</td>\n",
       "      <td>Oliva y Ocana, Dona. Fermina</td>\n",
       "      <td>female</td>\n",
       "      <td>39.0</td>\n",
       "      <td>0</td>\n",
       "      <td>0</td>\n",
       "      <td>PC 17758</td>\n",
       "      <td>108.9000</td>\n",
       "      <td>C105</td>\n",
       "      <td>C</td>\n",
       "    </tr>\n",
       "    <tr>\n",
       "      <th>415</th>\n",
       "      <td>1307</td>\n",
       "      <td>0</td>\n",
       "      <td>3</td>\n",
       "      <td>Saether, Mr. Simon Sivertsen</td>\n",
       "      <td>male</td>\n",
       "      <td>38.5</td>\n",
       "      <td>0</td>\n",
       "      <td>0</td>\n",
       "      <td>SOTON/O.Q. 3101262</td>\n",
       "      <td>7.2500</td>\n",
       "      <td>NaN</td>\n",
       "      <td>S</td>\n",
       "    </tr>\n",
       "    <tr>\n",
       "      <th>416</th>\n",
       "      <td>1308</td>\n",
       "      <td>0</td>\n",
       "      <td>3</td>\n",
       "      <td>Ware, Mr. Frederick</td>\n",
       "      <td>male</td>\n",
       "      <td>NaN</td>\n",
       "      <td>0</td>\n",
       "      <td>0</td>\n",
       "      <td>359309</td>\n",
       "      <td>8.0500</td>\n",
       "      <td>NaN</td>\n",
       "      <td>S</td>\n",
       "    </tr>\n",
       "    <tr>\n",
       "      <th>417</th>\n",
       "      <td>1309</td>\n",
       "      <td>0</td>\n",
       "      <td>3</td>\n",
       "      <td>Peter, Master. Michael J</td>\n",
       "      <td>male</td>\n",
       "      <td>NaN</td>\n",
       "      <td>1</td>\n",
       "      <td>1</td>\n",
       "      <td>2668</td>\n",
       "      <td>22.3583</td>\n",
       "      <td>NaN</td>\n",
       "      <td>C</td>\n",
       "    </tr>\n",
       "  </tbody>\n",
       "</table>\n",
       "<p>418 rows × 12 columns</p>\n",
       "</div>"
      ],
      "text/plain": [
       "     PassengerId  Survived  Pclass  \\\n",
       "0            892         0       3   \n",
       "1            893         1       3   \n",
       "2            894         0       2   \n",
       "3            895         0       3   \n",
       "4            896         1       3   \n",
       "..           ...       ...     ...   \n",
       "413         1305         0       3   \n",
       "414         1306         1       1   \n",
       "415         1307         0       3   \n",
       "416         1308         0       3   \n",
       "417         1309         0       3   \n",
       "\n",
       "                                             Name     Sex   Age  SibSp  Parch  \\\n",
       "0                                Kelly, Mr. James    male  34.5      0      0   \n",
       "1                Wilkes, Mrs. James (Ellen Needs)  female  47.0      1      0   \n",
       "2                       Myles, Mr. Thomas Francis    male  62.0      0      0   \n",
       "3                                Wirz, Mr. Albert    male  27.0      0      0   \n",
       "4    Hirvonen, Mrs. Alexander (Helga E Lindqvist)  female  22.0      1      1   \n",
       "..                                            ...     ...   ...    ...    ...   \n",
       "413                            Spector, Mr. Woolf    male   NaN      0      0   \n",
       "414                  Oliva y Ocana, Dona. Fermina  female  39.0      0      0   \n",
       "415                  Saether, Mr. Simon Sivertsen    male  38.5      0      0   \n",
       "416                           Ware, Mr. Frederick    male   NaN      0      0   \n",
       "417                      Peter, Master. Michael J    male   NaN      1      1   \n",
       "\n",
       "                 Ticket      Fare Cabin Embarked  \n",
       "0                330911    7.8292   NaN        Q  \n",
       "1                363272    7.0000   NaN        S  \n",
       "2                240276    9.6875   NaN        Q  \n",
       "3                315154    8.6625   NaN        S  \n",
       "4               3101298   12.2875   NaN        S  \n",
       "..                  ...       ...   ...      ...  \n",
       "413           A.5. 3236    8.0500   NaN        S  \n",
       "414            PC 17758  108.9000  C105        C  \n",
       "415  SOTON/O.Q. 3101262    7.2500   NaN        S  \n",
       "416              359309    8.0500   NaN        S  \n",
       "417                2668   22.3583   NaN        C  \n",
       "\n",
       "[418 rows x 12 columns]"
      ]
     },
     "execution_count": 170,
     "metadata": {},
     "output_type": "execute_result"
    }
   ],
   "source": [
    "ti=pd.read_csv('tested.csv')\n",
    "ti"
   ]
  },
  {
   "cell_type": "code",
   "execution_count": 171,
   "id": "639100ae",
   "metadata": {},
   "outputs": [
    {
     "data": {
      "text/html": [
       "<div>\n",
       "<style scoped>\n",
       "    .dataframe tbody tr th:only-of-type {\n",
       "        vertical-align: middle;\n",
       "    }\n",
       "\n",
       "    .dataframe tbody tr th {\n",
       "        vertical-align: top;\n",
       "    }\n",
       "\n",
       "    .dataframe thead th {\n",
       "        text-align: right;\n",
       "    }\n",
       "</style>\n",
       "<table border=\"1\" class=\"dataframe\">\n",
       "  <thead>\n",
       "    <tr style=\"text-align: right;\">\n",
       "      <th></th>\n",
       "      <th>PassengerId</th>\n",
       "      <th>Survived</th>\n",
       "      <th>Pclass</th>\n",
       "      <th>Name</th>\n",
       "      <th>Sex</th>\n",
       "      <th>Age</th>\n",
       "      <th>SibSp</th>\n",
       "      <th>Parch</th>\n",
       "      <th>Ticket</th>\n",
       "      <th>Fare</th>\n",
       "      <th>Cabin</th>\n",
       "      <th>Embarked</th>\n",
       "    </tr>\n",
       "  </thead>\n",
       "  <tbody>\n",
       "    <tr>\n",
       "      <th>0</th>\n",
       "      <td>892</td>\n",
       "      <td>0</td>\n",
       "      <td>3</td>\n",
       "      <td>Kelly, Mr. James</td>\n",
       "      <td>male</td>\n",
       "      <td>34.5</td>\n",
       "      <td>0</td>\n",
       "      <td>0</td>\n",
       "      <td>330911</td>\n",
       "      <td>7.8292</td>\n",
       "      <td>NaN</td>\n",
       "      <td>Q</td>\n",
       "    </tr>\n",
       "    <tr>\n",
       "      <th>1</th>\n",
       "      <td>893</td>\n",
       "      <td>1</td>\n",
       "      <td>3</td>\n",
       "      <td>Wilkes, Mrs. James (Ellen Needs)</td>\n",
       "      <td>female</td>\n",
       "      <td>47.0</td>\n",
       "      <td>1</td>\n",
       "      <td>0</td>\n",
       "      <td>363272</td>\n",
       "      <td>7.0000</td>\n",
       "      <td>NaN</td>\n",
       "      <td>S</td>\n",
       "    </tr>\n",
       "    <tr>\n",
       "      <th>2</th>\n",
       "      <td>894</td>\n",
       "      <td>0</td>\n",
       "      <td>2</td>\n",
       "      <td>Myles, Mr. Thomas Francis</td>\n",
       "      <td>male</td>\n",
       "      <td>62.0</td>\n",
       "      <td>0</td>\n",
       "      <td>0</td>\n",
       "      <td>240276</td>\n",
       "      <td>9.6875</td>\n",
       "      <td>NaN</td>\n",
       "      <td>Q</td>\n",
       "    </tr>\n",
       "    <tr>\n",
       "      <th>3</th>\n",
       "      <td>895</td>\n",
       "      <td>0</td>\n",
       "      <td>3</td>\n",
       "      <td>Wirz, Mr. Albert</td>\n",
       "      <td>male</td>\n",
       "      <td>27.0</td>\n",
       "      <td>0</td>\n",
       "      <td>0</td>\n",
       "      <td>315154</td>\n",
       "      <td>8.6625</td>\n",
       "      <td>NaN</td>\n",
       "      <td>S</td>\n",
       "    </tr>\n",
       "    <tr>\n",
       "      <th>4</th>\n",
       "      <td>896</td>\n",
       "      <td>1</td>\n",
       "      <td>3</td>\n",
       "      <td>Hirvonen, Mrs. Alexander (Helga E Lindqvist)</td>\n",
       "      <td>female</td>\n",
       "      <td>22.0</td>\n",
       "      <td>1</td>\n",
       "      <td>1</td>\n",
       "      <td>3101298</td>\n",
       "      <td>12.2875</td>\n",
       "      <td>NaN</td>\n",
       "      <td>S</td>\n",
       "    </tr>\n",
       "    <tr>\n",
       "      <th>5</th>\n",
       "      <td>897</td>\n",
       "      <td>0</td>\n",
       "      <td>3</td>\n",
       "      <td>Svensson, Mr. Johan Cervin</td>\n",
       "      <td>male</td>\n",
       "      <td>14.0</td>\n",
       "      <td>0</td>\n",
       "      <td>0</td>\n",
       "      <td>7538</td>\n",
       "      <td>9.2250</td>\n",
       "      <td>NaN</td>\n",
       "      <td>S</td>\n",
       "    </tr>\n",
       "    <tr>\n",
       "      <th>6</th>\n",
       "      <td>898</td>\n",
       "      <td>1</td>\n",
       "      <td>3</td>\n",
       "      <td>Connolly, Miss. Kate</td>\n",
       "      <td>female</td>\n",
       "      <td>30.0</td>\n",
       "      <td>0</td>\n",
       "      <td>0</td>\n",
       "      <td>330972</td>\n",
       "      <td>7.6292</td>\n",
       "      <td>NaN</td>\n",
       "      <td>Q</td>\n",
       "    </tr>\n",
       "    <tr>\n",
       "      <th>7</th>\n",
       "      <td>899</td>\n",
       "      <td>0</td>\n",
       "      <td>2</td>\n",
       "      <td>Caldwell, Mr. Albert Francis</td>\n",
       "      <td>male</td>\n",
       "      <td>26.0</td>\n",
       "      <td>1</td>\n",
       "      <td>1</td>\n",
       "      <td>248738</td>\n",
       "      <td>29.0000</td>\n",
       "      <td>NaN</td>\n",
       "      <td>S</td>\n",
       "    </tr>\n",
       "    <tr>\n",
       "      <th>8</th>\n",
       "      <td>900</td>\n",
       "      <td>1</td>\n",
       "      <td>3</td>\n",
       "      <td>Abrahim, Mrs. Joseph (Sophie Halaut Easu)</td>\n",
       "      <td>female</td>\n",
       "      <td>18.0</td>\n",
       "      <td>0</td>\n",
       "      <td>0</td>\n",
       "      <td>2657</td>\n",
       "      <td>7.2292</td>\n",
       "      <td>NaN</td>\n",
       "      <td>C</td>\n",
       "    </tr>\n",
       "    <tr>\n",
       "      <th>9</th>\n",
       "      <td>901</td>\n",
       "      <td>0</td>\n",
       "      <td>3</td>\n",
       "      <td>Davies, Mr. John Samuel</td>\n",
       "      <td>male</td>\n",
       "      <td>21.0</td>\n",
       "      <td>2</td>\n",
       "      <td>0</td>\n",
       "      <td>A/4 48871</td>\n",
       "      <td>24.1500</td>\n",
       "      <td>NaN</td>\n",
       "      <td>S</td>\n",
       "    </tr>\n",
       "  </tbody>\n",
       "</table>\n",
       "</div>"
      ],
      "text/plain": [
       "   PassengerId  Survived  Pclass  \\\n",
       "0          892         0       3   \n",
       "1          893         1       3   \n",
       "2          894         0       2   \n",
       "3          895         0       3   \n",
       "4          896         1       3   \n",
       "5          897         0       3   \n",
       "6          898         1       3   \n",
       "7          899         0       2   \n",
       "8          900         1       3   \n",
       "9          901         0       3   \n",
       "\n",
       "                                           Name     Sex   Age  SibSp  Parch  \\\n",
       "0                              Kelly, Mr. James    male  34.5      0      0   \n",
       "1              Wilkes, Mrs. James (Ellen Needs)  female  47.0      1      0   \n",
       "2                     Myles, Mr. Thomas Francis    male  62.0      0      0   \n",
       "3                              Wirz, Mr. Albert    male  27.0      0      0   \n",
       "4  Hirvonen, Mrs. Alexander (Helga E Lindqvist)  female  22.0      1      1   \n",
       "5                    Svensson, Mr. Johan Cervin    male  14.0      0      0   \n",
       "6                          Connolly, Miss. Kate  female  30.0      0      0   \n",
       "7                  Caldwell, Mr. Albert Francis    male  26.0      1      1   \n",
       "8     Abrahim, Mrs. Joseph (Sophie Halaut Easu)  female  18.0      0      0   \n",
       "9                       Davies, Mr. John Samuel    male  21.0      2      0   \n",
       "\n",
       "      Ticket     Fare Cabin Embarked  \n",
       "0     330911   7.8292   NaN        Q  \n",
       "1     363272   7.0000   NaN        S  \n",
       "2     240276   9.6875   NaN        Q  \n",
       "3     315154   8.6625   NaN        S  \n",
       "4    3101298  12.2875   NaN        S  \n",
       "5       7538   9.2250   NaN        S  \n",
       "6     330972   7.6292   NaN        Q  \n",
       "7     248738  29.0000   NaN        S  \n",
       "8       2657   7.2292   NaN        C  \n",
       "9  A/4 48871  24.1500   NaN        S  "
      ]
     },
     "execution_count": 171,
     "metadata": {},
     "output_type": "execute_result"
    }
   ],
   "source": [
    "ti.head(10)"
   ]
  },
  {
   "cell_type": "code",
   "execution_count": 172,
   "id": "fcfdc2b6",
   "metadata": {},
   "outputs": [
    {
     "data": {
      "text/html": [
       "<div>\n",
       "<style scoped>\n",
       "    .dataframe tbody tr th:only-of-type {\n",
       "        vertical-align: middle;\n",
       "    }\n",
       "\n",
       "    .dataframe tbody tr th {\n",
       "        vertical-align: top;\n",
       "    }\n",
       "\n",
       "    .dataframe thead th {\n",
       "        text-align: right;\n",
       "    }\n",
       "</style>\n",
       "<table border=\"1\" class=\"dataframe\">\n",
       "  <thead>\n",
       "    <tr style=\"text-align: right;\">\n",
       "      <th></th>\n",
       "      <th>PassengerId</th>\n",
       "      <th>Survived</th>\n",
       "      <th>Pclass</th>\n",
       "      <th>Name</th>\n",
       "      <th>Sex</th>\n",
       "      <th>Age</th>\n",
       "      <th>SibSp</th>\n",
       "      <th>Parch</th>\n",
       "      <th>Ticket</th>\n",
       "      <th>Fare</th>\n",
       "      <th>Cabin</th>\n",
       "      <th>Embarked</th>\n",
       "    </tr>\n",
       "  </thead>\n",
       "  <tbody>\n",
       "    <tr>\n",
       "      <th>413</th>\n",
       "      <td>1305</td>\n",
       "      <td>0</td>\n",
       "      <td>3</td>\n",
       "      <td>Spector, Mr. Woolf</td>\n",
       "      <td>male</td>\n",
       "      <td>NaN</td>\n",
       "      <td>0</td>\n",
       "      <td>0</td>\n",
       "      <td>A.5. 3236</td>\n",
       "      <td>8.0500</td>\n",
       "      <td>NaN</td>\n",
       "      <td>S</td>\n",
       "    </tr>\n",
       "    <tr>\n",
       "      <th>414</th>\n",
       "      <td>1306</td>\n",
       "      <td>1</td>\n",
       "      <td>1</td>\n",
       "      <td>Oliva y Ocana, Dona. Fermina</td>\n",
       "      <td>female</td>\n",
       "      <td>39.0</td>\n",
       "      <td>0</td>\n",
       "      <td>0</td>\n",
       "      <td>PC 17758</td>\n",
       "      <td>108.9000</td>\n",
       "      <td>C105</td>\n",
       "      <td>C</td>\n",
       "    </tr>\n",
       "    <tr>\n",
       "      <th>415</th>\n",
       "      <td>1307</td>\n",
       "      <td>0</td>\n",
       "      <td>3</td>\n",
       "      <td>Saether, Mr. Simon Sivertsen</td>\n",
       "      <td>male</td>\n",
       "      <td>38.5</td>\n",
       "      <td>0</td>\n",
       "      <td>0</td>\n",
       "      <td>SOTON/O.Q. 3101262</td>\n",
       "      <td>7.2500</td>\n",
       "      <td>NaN</td>\n",
       "      <td>S</td>\n",
       "    </tr>\n",
       "    <tr>\n",
       "      <th>416</th>\n",
       "      <td>1308</td>\n",
       "      <td>0</td>\n",
       "      <td>3</td>\n",
       "      <td>Ware, Mr. Frederick</td>\n",
       "      <td>male</td>\n",
       "      <td>NaN</td>\n",
       "      <td>0</td>\n",
       "      <td>0</td>\n",
       "      <td>359309</td>\n",
       "      <td>8.0500</td>\n",
       "      <td>NaN</td>\n",
       "      <td>S</td>\n",
       "    </tr>\n",
       "    <tr>\n",
       "      <th>417</th>\n",
       "      <td>1309</td>\n",
       "      <td>0</td>\n",
       "      <td>3</td>\n",
       "      <td>Peter, Master. Michael J</td>\n",
       "      <td>male</td>\n",
       "      <td>NaN</td>\n",
       "      <td>1</td>\n",
       "      <td>1</td>\n",
       "      <td>2668</td>\n",
       "      <td>22.3583</td>\n",
       "      <td>NaN</td>\n",
       "      <td>C</td>\n",
       "    </tr>\n",
       "  </tbody>\n",
       "</table>\n",
       "</div>"
      ],
      "text/plain": [
       "     PassengerId  Survived  Pclass                          Name     Sex  \\\n",
       "413         1305         0       3            Spector, Mr. Woolf    male   \n",
       "414         1306         1       1  Oliva y Ocana, Dona. Fermina  female   \n",
       "415         1307         0       3  Saether, Mr. Simon Sivertsen    male   \n",
       "416         1308         0       3           Ware, Mr. Frederick    male   \n",
       "417         1309         0       3      Peter, Master. Michael J    male   \n",
       "\n",
       "      Age  SibSp  Parch              Ticket      Fare Cabin Embarked  \n",
       "413   NaN      0      0           A.5. 3236    8.0500   NaN        S  \n",
       "414  39.0      0      0            PC 17758  108.9000  C105        C  \n",
       "415  38.5      0      0  SOTON/O.Q. 3101262    7.2500   NaN        S  \n",
       "416   NaN      0      0              359309    8.0500   NaN        S  \n",
       "417   NaN      1      1                2668   22.3583   NaN        C  "
      ]
     },
     "execution_count": 172,
     "metadata": {},
     "output_type": "execute_result"
    }
   ],
   "source": [
    "ti.tail(5)"
   ]
  },
  {
   "cell_type": "code",
   "execution_count": 173,
   "id": "bdd844b3",
   "metadata": {},
   "outputs": [
    {
     "name": "stdout",
     "output_type": "stream",
     "text": [
      "<class 'pandas.core.frame.DataFrame'>\n",
      "RangeIndex: 418 entries, 0 to 417\n",
      "Data columns (total 12 columns):\n",
      " #   Column       Non-Null Count  Dtype  \n",
      "---  ------       --------------  -----  \n",
      " 0   PassengerId  418 non-null    int64  \n",
      " 1   Survived     418 non-null    int64  \n",
      " 2   Pclass       418 non-null    int64  \n",
      " 3   Name         418 non-null    object \n",
      " 4   Sex          418 non-null    object \n",
      " 5   Age          332 non-null    float64\n",
      " 6   SibSp        418 non-null    int64  \n",
      " 7   Parch        418 non-null    int64  \n",
      " 8   Ticket       418 non-null    object \n",
      " 9   Fare         417 non-null    float64\n",
      " 10  Cabin        91 non-null     object \n",
      " 11  Embarked     418 non-null    object \n",
      "dtypes: float64(2), int64(5), object(5)\n",
      "memory usage: 39.3+ KB\n"
     ]
    }
   ],
   "source": [
    "ti.info()"
   ]
  },
  {
   "cell_type": "code",
   "execution_count": 174,
   "id": "c1397601",
   "metadata": {},
   "outputs": [
    {
     "data": {
      "text/html": [
       "<div>\n",
       "<style scoped>\n",
       "    .dataframe tbody tr th:only-of-type {\n",
       "        vertical-align: middle;\n",
       "    }\n",
       "\n",
       "    .dataframe tbody tr th {\n",
       "        vertical-align: top;\n",
       "    }\n",
       "\n",
       "    .dataframe thead th {\n",
       "        text-align: right;\n",
       "    }\n",
       "</style>\n",
       "<table border=\"1\" class=\"dataframe\">\n",
       "  <thead>\n",
       "    <tr style=\"text-align: right;\">\n",
       "      <th></th>\n",
       "      <th>PassengerId</th>\n",
       "      <th>Survived</th>\n",
       "      <th>Pclass</th>\n",
       "      <th>Age</th>\n",
       "      <th>SibSp</th>\n",
       "      <th>Parch</th>\n",
       "      <th>Fare</th>\n",
       "    </tr>\n",
       "  </thead>\n",
       "  <tbody>\n",
       "    <tr>\n",
       "      <th>count</th>\n",
       "      <td>418.000000</td>\n",
       "      <td>418.000000</td>\n",
       "      <td>418.000000</td>\n",
       "      <td>332.000000</td>\n",
       "      <td>418.000000</td>\n",
       "      <td>418.000000</td>\n",
       "      <td>417.000000</td>\n",
       "    </tr>\n",
       "    <tr>\n",
       "      <th>mean</th>\n",
       "      <td>1100.500000</td>\n",
       "      <td>0.363636</td>\n",
       "      <td>2.265550</td>\n",
       "      <td>30.272590</td>\n",
       "      <td>0.447368</td>\n",
       "      <td>0.392344</td>\n",
       "      <td>35.627188</td>\n",
       "    </tr>\n",
       "    <tr>\n",
       "      <th>std</th>\n",
       "      <td>120.810458</td>\n",
       "      <td>0.481622</td>\n",
       "      <td>0.841838</td>\n",
       "      <td>14.181209</td>\n",
       "      <td>0.896760</td>\n",
       "      <td>0.981429</td>\n",
       "      <td>55.907576</td>\n",
       "    </tr>\n",
       "    <tr>\n",
       "      <th>min</th>\n",
       "      <td>892.000000</td>\n",
       "      <td>0.000000</td>\n",
       "      <td>1.000000</td>\n",
       "      <td>0.170000</td>\n",
       "      <td>0.000000</td>\n",
       "      <td>0.000000</td>\n",
       "      <td>0.000000</td>\n",
       "    </tr>\n",
       "    <tr>\n",
       "      <th>25%</th>\n",
       "      <td>996.250000</td>\n",
       "      <td>0.000000</td>\n",
       "      <td>1.000000</td>\n",
       "      <td>21.000000</td>\n",
       "      <td>0.000000</td>\n",
       "      <td>0.000000</td>\n",
       "      <td>7.895800</td>\n",
       "    </tr>\n",
       "    <tr>\n",
       "      <th>50%</th>\n",
       "      <td>1100.500000</td>\n",
       "      <td>0.000000</td>\n",
       "      <td>3.000000</td>\n",
       "      <td>27.000000</td>\n",
       "      <td>0.000000</td>\n",
       "      <td>0.000000</td>\n",
       "      <td>14.454200</td>\n",
       "    </tr>\n",
       "    <tr>\n",
       "      <th>75%</th>\n",
       "      <td>1204.750000</td>\n",
       "      <td>1.000000</td>\n",
       "      <td>3.000000</td>\n",
       "      <td>39.000000</td>\n",
       "      <td>1.000000</td>\n",
       "      <td>0.000000</td>\n",
       "      <td>31.500000</td>\n",
       "    </tr>\n",
       "    <tr>\n",
       "      <th>max</th>\n",
       "      <td>1309.000000</td>\n",
       "      <td>1.000000</td>\n",
       "      <td>3.000000</td>\n",
       "      <td>76.000000</td>\n",
       "      <td>8.000000</td>\n",
       "      <td>9.000000</td>\n",
       "      <td>512.329200</td>\n",
       "    </tr>\n",
       "  </tbody>\n",
       "</table>\n",
       "</div>"
      ],
      "text/plain": [
       "       PassengerId    Survived      Pclass         Age       SibSp  \\\n",
       "count   418.000000  418.000000  418.000000  332.000000  418.000000   \n",
       "mean   1100.500000    0.363636    2.265550   30.272590    0.447368   \n",
       "std     120.810458    0.481622    0.841838   14.181209    0.896760   \n",
       "min     892.000000    0.000000    1.000000    0.170000    0.000000   \n",
       "25%     996.250000    0.000000    1.000000   21.000000    0.000000   \n",
       "50%    1100.500000    0.000000    3.000000   27.000000    0.000000   \n",
       "75%    1204.750000    1.000000    3.000000   39.000000    1.000000   \n",
       "max    1309.000000    1.000000    3.000000   76.000000    8.000000   \n",
       "\n",
       "            Parch        Fare  \n",
       "count  418.000000  417.000000  \n",
       "mean     0.392344   35.627188  \n",
       "std      0.981429   55.907576  \n",
       "min      0.000000    0.000000  \n",
       "25%      0.000000    7.895800  \n",
       "50%      0.000000   14.454200  \n",
       "75%      0.000000   31.500000  \n",
       "max      9.000000  512.329200  "
      ]
     },
     "execution_count": 174,
     "metadata": {},
     "output_type": "execute_result"
    }
   ],
   "source": [
    "ti.describe()"
   ]
  },
  {
   "cell_type": "code",
   "execution_count": 175,
   "id": "07aff0c1",
   "metadata": {},
   "outputs": [
    {
     "data": {
      "text/plain": [
       "Index(['PassengerId', 'Survived', 'Pclass', 'Name', 'Sex', 'Age', 'SibSp',\n",
       "       'Parch', 'Ticket', 'Fare', 'Cabin', 'Embarked'],\n",
       "      dtype='object')"
      ]
     },
     "execution_count": 175,
     "metadata": {},
     "output_type": "execute_result"
    }
   ],
   "source": [
    "ti.columns"
   ]
  },
  {
   "cell_type": "code",
   "execution_count": 177,
   "id": "c6004c83",
   "metadata": {},
   "outputs": [
    {
     "data": {
      "text/plain": [
       "PassengerId    418\n",
       "Survived         2\n",
       "Pclass           3\n",
       "Name           418\n",
       "Sex              2\n",
       "Age             79\n",
       "SibSp            7\n",
       "Parch            8\n",
       "Ticket         363\n",
       "Fare           169\n",
       "Cabin           76\n",
       "Embarked         3\n",
       "dtype: int64"
      ]
     },
     "execution_count": 177,
     "metadata": {},
     "output_type": "execute_result"
    }
   ],
   "source": [
    "ti.nunique()"
   ]
  },
  {
   "cell_type": "code",
   "execution_count": 178,
   "id": "e75f9f76",
   "metadata": {},
   "outputs": [
    {
     "name": "stdout",
     "output_type": "stream",
     "text": [
      "418\n"
     ]
    }
   ],
   "source": [
    "ro=len(ti.axes[0])\n",
    "print(ro)"
   ]
  },
  {
   "cell_type": "code",
   "execution_count": 180,
   "id": "78fec71a",
   "metadata": {},
   "outputs": [
    {
     "data": {
      "text/plain": [
       "12"
      ]
     },
     "execution_count": 180,
     "metadata": {},
     "output_type": "execute_result"
    }
   ],
   "source": [
    "co=len(ti.axes[1])\n",
    "co"
   ]
  },
  {
   "cell_type": "code",
   "execution_count": 181,
   "id": "959f11c9",
   "metadata": {},
   "outputs": [],
   "source": [
    "corr=ti.corr()"
   ]
  },
  {
   "cell_type": "code",
   "execution_count": 182,
   "id": "aca01fe2",
   "metadata": {},
   "outputs": [
    {
     "data": {
      "text/html": [
       "<div>\n",
       "<style scoped>\n",
       "    .dataframe tbody tr th:only-of-type {\n",
       "        vertical-align: middle;\n",
       "    }\n",
       "\n",
       "    .dataframe tbody tr th {\n",
       "        vertical-align: top;\n",
       "    }\n",
       "\n",
       "    .dataframe thead th {\n",
       "        text-align: right;\n",
       "    }\n",
       "</style>\n",
       "<table border=\"1\" class=\"dataframe\">\n",
       "  <thead>\n",
       "    <tr style=\"text-align: right;\">\n",
       "      <th></th>\n",
       "      <th>PassengerId</th>\n",
       "      <th>Survived</th>\n",
       "      <th>Pclass</th>\n",
       "      <th>Age</th>\n",
       "      <th>SibSp</th>\n",
       "      <th>Parch</th>\n",
       "      <th>Fare</th>\n",
       "    </tr>\n",
       "  </thead>\n",
       "  <tbody>\n",
       "    <tr>\n",
       "      <th>PassengerId</th>\n",
       "      <td>1.000000</td>\n",
       "      <td>-0.023245</td>\n",
       "      <td>-0.026751</td>\n",
       "      <td>-0.034102</td>\n",
       "      <td>0.003818</td>\n",
       "      <td>0.043080</td>\n",
       "      <td>0.008211</td>\n",
       "    </tr>\n",
       "    <tr>\n",
       "      <th>Survived</th>\n",
       "      <td>-0.023245</td>\n",
       "      <td>1.000000</td>\n",
       "      <td>-0.108615</td>\n",
       "      <td>-0.000013</td>\n",
       "      <td>0.099943</td>\n",
       "      <td>0.159120</td>\n",
       "      <td>0.191514</td>\n",
       "    </tr>\n",
       "    <tr>\n",
       "      <th>Pclass</th>\n",
       "      <td>-0.026751</td>\n",
       "      <td>-0.108615</td>\n",
       "      <td>1.000000</td>\n",
       "      <td>-0.492143</td>\n",
       "      <td>0.001087</td>\n",
       "      <td>0.018721</td>\n",
       "      <td>-0.577147</td>\n",
       "    </tr>\n",
       "    <tr>\n",
       "      <th>Age</th>\n",
       "      <td>-0.034102</td>\n",
       "      <td>-0.000013</td>\n",
       "      <td>-0.492143</td>\n",
       "      <td>1.000000</td>\n",
       "      <td>-0.091587</td>\n",
       "      <td>-0.061249</td>\n",
       "      <td>0.337932</td>\n",
       "    </tr>\n",
       "    <tr>\n",
       "      <th>SibSp</th>\n",
       "      <td>0.003818</td>\n",
       "      <td>0.099943</td>\n",
       "      <td>0.001087</td>\n",
       "      <td>-0.091587</td>\n",
       "      <td>1.000000</td>\n",
       "      <td>0.306895</td>\n",
       "      <td>0.171539</td>\n",
       "    </tr>\n",
       "    <tr>\n",
       "      <th>Parch</th>\n",
       "      <td>0.043080</td>\n",
       "      <td>0.159120</td>\n",
       "      <td>0.018721</td>\n",
       "      <td>-0.061249</td>\n",
       "      <td>0.306895</td>\n",
       "      <td>1.000000</td>\n",
       "      <td>0.230046</td>\n",
       "    </tr>\n",
       "    <tr>\n",
       "      <th>Fare</th>\n",
       "      <td>0.008211</td>\n",
       "      <td>0.191514</td>\n",
       "      <td>-0.577147</td>\n",
       "      <td>0.337932</td>\n",
       "      <td>0.171539</td>\n",
       "      <td>0.230046</td>\n",
       "      <td>1.000000</td>\n",
       "    </tr>\n",
       "  </tbody>\n",
       "</table>\n",
       "</div>"
      ],
      "text/plain": [
       "             PassengerId  Survived    Pclass       Age     SibSp     Parch  \\\n",
       "PassengerId     1.000000 -0.023245 -0.026751 -0.034102  0.003818  0.043080   \n",
       "Survived       -0.023245  1.000000 -0.108615 -0.000013  0.099943  0.159120   \n",
       "Pclass         -0.026751 -0.108615  1.000000 -0.492143  0.001087  0.018721   \n",
       "Age            -0.034102 -0.000013 -0.492143  1.000000 -0.091587 -0.061249   \n",
       "SibSp           0.003818  0.099943  0.001087 -0.091587  1.000000  0.306895   \n",
       "Parch           0.043080  0.159120  0.018721 -0.061249  0.306895  1.000000   \n",
       "Fare            0.008211  0.191514 -0.577147  0.337932  0.171539  0.230046   \n",
       "\n",
       "                 Fare  \n",
       "PassengerId  0.008211  \n",
       "Survived     0.191514  \n",
       "Pclass      -0.577147  \n",
       "Age          0.337932  \n",
       "SibSp        0.171539  \n",
       "Parch        0.230046  \n",
       "Fare         1.000000  "
      ]
     },
     "execution_count": 182,
     "metadata": {},
     "output_type": "execute_result"
    }
   ],
   "source": [
    "corr"
   ]
  },
  {
   "cell_type": "code",
   "execution_count": 183,
   "id": "9829e12d",
   "metadata": {},
   "outputs": [
    {
     "data": {
      "text/plain": [
       "PassengerId      0\n",
       "Survived         0\n",
       "Pclass           0\n",
       "Name             0\n",
       "Sex              0\n",
       "Age             86\n",
       "SibSp            0\n",
       "Parch            0\n",
       "Ticket           0\n",
       "Fare             1\n",
       "Cabin          327\n",
       "Embarked         0\n",
       "dtype: int64"
      ]
     },
     "execution_count": 183,
     "metadata": {},
     "output_type": "execute_result"
    }
   ],
   "source": [
    "ti.isnull().sum()"
   ]
  },
  {
   "cell_type": "code",
   "execution_count": 186,
   "id": "b33120ec",
   "metadata": {},
   "outputs": [],
   "source": [
    "tit=ti['Age']\n",
    "titme = tit.mean()\n",
    "tit.fillna(titme,inplace=True)"
   ]
  },
  {
   "cell_type": "code",
   "execution_count": 187,
   "id": "835b663f",
   "metadata": {},
   "outputs": [
    {
     "data": {
      "text/plain": [
       "PassengerId      0\n",
       "Survived         0\n",
       "Pclass           0\n",
       "Name             0\n",
       "Sex              0\n",
       "Age              0\n",
       "SibSp            0\n",
       "Parch            0\n",
       "Ticket           0\n",
       "Fare             1\n",
       "Cabin          327\n",
       "Embarked         0\n",
       "dtype: int64"
      ]
     },
     "execution_count": 187,
     "metadata": {},
     "output_type": "execute_result"
    }
   ],
   "source": [
    "ti.isnull().sum()"
   ]
  },
  {
   "cell_type": "code",
   "execution_count": 188,
   "id": "ade776c1",
   "metadata": {},
   "outputs": [],
   "source": [
    "tid=ti.dropna()"
   ]
  },
  {
   "cell_type": "code",
   "execution_count": 189,
   "id": "ae3e498e",
   "metadata": {},
   "outputs": [
    {
     "data": {
      "text/html": [
       "<div>\n",
       "<style scoped>\n",
       "    .dataframe tbody tr th:only-of-type {\n",
       "        vertical-align: middle;\n",
       "    }\n",
       "\n",
       "    .dataframe tbody tr th {\n",
       "        vertical-align: top;\n",
       "    }\n",
       "\n",
       "    .dataframe thead th {\n",
       "        text-align: right;\n",
       "    }\n",
       "</style>\n",
       "<table border=\"1\" class=\"dataframe\">\n",
       "  <thead>\n",
       "    <tr style=\"text-align: right;\">\n",
       "      <th></th>\n",
       "      <th>PassengerId</th>\n",
       "      <th>Survived</th>\n",
       "      <th>Pclass</th>\n",
       "      <th>Name</th>\n",
       "      <th>Sex</th>\n",
       "      <th>Age</th>\n",
       "      <th>SibSp</th>\n",
       "      <th>Parch</th>\n",
       "      <th>Ticket</th>\n",
       "      <th>Fare</th>\n",
       "      <th>Cabin</th>\n",
       "      <th>Embarked</th>\n",
       "    </tr>\n",
       "  </thead>\n",
       "  <tbody>\n",
       "    <tr>\n",
       "      <th>12</th>\n",
       "      <td>904</td>\n",
       "      <td>1</td>\n",
       "      <td>1</td>\n",
       "      <td>Snyder, Mrs. John Pillsbury (Nelle Stevenson)</td>\n",
       "      <td>female</td>\n",
       "      <td>23.0</td>\n",
       "      <td>1</td>\n",
       "      <td>0</td>\n",
       "      <td>21228</td>\n",
       "      <td>82.2667</td>\n",
       "      <td>B45</td>\n",
       "      <td>S</td>\n",
       "    </tr>\n",
       "    <tr>\n",
       "      <th>14</th>\n",
       "      <td>906</td>\n",
       "      <td>1</td>\n",
       "      <td>1</td>\n",
       "      <td>Chaffee, Mrs. Herbert Fuller (Carrie Constance...</td>\n",
       "      <td>female</td>\n",
       "      <td>47.0</td>\n",
       "      <td>1</td>\n",
       "      <td>0</td>\n",
       "      <td>W.E.P. 5734</td>\n",
       "      <td>61.1750</td>\n",
       "      <td>E31</td>\n",
       "      <td>S</td>\n",
       "    </tr>\n",
       "    <tr>\n",
       "      <th>24</th>\n",
       "      <td>916</td>\n",
       "      <td>1</td>\n",
       "      <td>1</td>\n",
       "      <td>Ryerson, Mrs. Arthur Larned (Emily Maria Borie)</td>\n",
       "      <td>female</td>\n",
       "      <td>48.0</td>\n",
       "      <td>1</td>\n",
       "      <td>3</td>\n",
       "      <td>PC 17608</td>\n",
       "      <td>262.3750</td>\n",
       "      <td>B57 B59 B63 B66</td>\n",
       "      <td>C</td>\n",
       "    </tr>\n",
       "    <tr>\n",
       "      <th>26</th>\n",
       "      <td>918</td>\n",
       "      <td>1</td>\n",
       "      <td>1</td>\n",
       "      <td>Ostby, Miss. Helene Ragnhild</td>\n",
       "      <td>female</td>\n",
       "      <td>22.0</td>\n",
       "      <td>0</td>\n",
       "      <td>1</td>\n",
       "      <td>113509</td>\n",
       "      <td>61.9792</td>\n",
       "      <td>B36</td>\n",
       "      <td>C</td>\n",
       "    </tr>\n",
       "    <tr>\n",
       "      <th>28</th>\n",
       "      <td>920</td>\n",
       "      <td>0</td>\n",
       "      <td>1</td>\n",
       "      <td>Brady, Mr. John Bertram</td>\n",
       "      <td>male</td>\n",
       "      <td>41.0</td>\n",
       "      <td>0</td>\n",
       "      <td>0</td>\n",
       "      <td>113054</td>\n",
       "      <td>30.5000</td>\n",
       "      <td>A21</td>\n",
       "      <td>S</td>\n",
       "    </tr>\n",
       "    <tr>\n",
       "      <th>...</th>\n",
       "      <td>...</td>\n",
       "      <td>...</td>\n",
       "      <td>...</td>\n",
       "      <td>...</td>\n",
       "      <td>...</td>\n",
       "      <td>...</td>\n",
       "      <td>...</td>\n",
       "      <td>...</td>\n",
       "      <td>...</td>\n",
       "      <td>...</td>\n",
       "      <td>...</td>\n",
       "      <td>...</td>\n",
       "    </tr>\n",
       "    <tr>\n",
       "      <th>404</th>\n",
       "      <td>1296</td>\n",
       "      <td>0</td>\n",
       "      <td>1</td>\n",
       "      <td>Frauenthal, Mr. Isaac Gerald</td>\n",
       "      <td>male</td>\n",
       "      <td>43.0</td>\n",
       "      <td>1</td>\n",
       "      <td>0</td>\n",
       "      <td>17765</td>\n",
       "      <td>27.7208</td>\n",
       "      <td>D40</td>\n",
       "      <td>C</td>\n",
       "    </tr>\n",
       "    <tr>\n",
       "      <th>405</th>\n",
       "      <td>1297</td>\n",
       "      <td>0</td>\n",
       "      <td>2</td>\n",
       "      <td>Nourney, Mr. Alfred (Baron von Drachstedt\")\"</td>\n",
       "      <td>male</td>\n",
       "      <td>20.0</td>\n",
       "      <td>0</td>\n",
       "      <td>0</td>\n",
       "      <td>SC/PARIS 2166</td>\n",
       "      <td>13.8625</td>\n",
       "      <td>D38</td>\n",
       "      <td>C</td>\n",
       "    </tr>\n",
       "    <tr>\n",
       "      <th>407</th>\n",
       "      <td>1299</td>\n",
       "      <td>0</td>\n",
       "      <td>1</td>\n",
       "      <td>Widener, Mr. George Dunton</td>\n",
       "      <td>male</td>\n",
       "      <td>50.0</td>\n",
       "      <td>1</td>\n",
       "      <td>1</td>\n",
       "      <td>113503</td>\n",
       "      <td>211.5000</td>\n",
       "      <td>C80</td>\n",
       "      <td>C</td>\n",
       "    </tr>\n",
       "    <tr>\n",
       "      <th>411</th>\n",
       "      <td>1303</td>\n",
       "      <td>1</td>\n",
       "      <td>1</td>\n",
       "      <td>Minahan, Mrs. William Edward (Lillian E Thorpe)</td>\n",
       "      <td>female</td>\n",
       "      <td>37.0</td>\n",
       "      <td>1</td>\n",
       "      <td>0</td>\n",
       "      <td>19928</td>\n",
       "      <td>90.0000</td>\n",
       "      <td>C78</td>\n",
       "      <td>Q</td>\n",
       "    </tr>\n",
       "    <tr>\n",
       "      <th>414</th>\n",
       "      <td>1306</td>\n",
       "      <td>1</td>\n",
       "      <td>1</td>\n",
       "      <td>Oliva y Ocana, Dona. Fermina</td>\n",
       "      <td>female</td>\n",
       "      <td>39.0</td>\n",
       "      <td>0</td>\n",
       "      <td>0</td>\n",
       "      <td>PC 17758</td>\n",
       "      <td>108.9000</td>\n",
       "      <td>C105</td>\n",
       "      <td>C</td>\n",
       "    </tr>\n",
       "  </tbody>\n",
       "</table>\n",
       "<p>91 rows × 12 columns</p>\n",
       "</div>"
      ],
      "text/plain": [
       "     PassengerId  Survived  Pclass  \\\n",
       "12           904         1       1   \n",
       "14           906         1       1   \n",
       "24           916         1       1   \n",
       "26           918         1       1   \n",
       "28           920         0       1   \n",
       "..           ...       ...     ...   \n",
       "404         1296         0       1   \n",
       "405         1297         0       2   \n",
       "407         1299         0       1   \n",
       "411         1303         1       1   \n",
       "414         1306         1       1   \n",
       "\n",
       "                                                  Name     Sex   Age  SibSp  \\\n",
       "12       Snyder, Mrs. John Pillsbury (Nelle Stevenson)  female  23.0      1   \n",
       "14   Chaffee, Mrs. Herbert Fuller (Carrie Constance...  female  47.0      1   \n",
       "24     Ryerson, Mrs. Arthur Larned (Emily Maria Borie)  female  48.0      1   \n",
       "26                        Ostby, Miss. Helene Ragnhild  female  22.0      0   \n",
       "28                             Brady, Mr. John Bertram    male  41.0      0   \n",
       "..                                                 ...     ...   ...    ...   \n",
       "404                       Frauenthal, Mr. Isaac Gerald    male  43.0      1   \n",
       "405       Nourney, Mr. Alfred (Baron von Drachstedt\")\"    male  20.0      0   \n",
       "407                         Widener, Mr. George Dunton    male  50.0      1   \n",
       "411    Minahan, Mrs. William Edward (Lillian E Thorpe)  female  37.0      1   \n",
       "414                       Oliva y Ocana, Dona. Fermina  female  39.0      0   \n",
       "\n",
       "     Parch         Ticket      Fare            Cabin Embarked  \n",
       "12       0          21228   82.2667              B45        S  \n",
       "14       0    W.E.P. 5734   61.1750              E31        S  \n",
       "24       3       PC 17608  262.3750  B57 B59 B63 B66        C  \n",
       "26       1         113509   61.9792              B36        C  \n",
       "28       0         113054   30.5000              A21        S  \n",
       "..     ...            ...       ...              ...      ...  \n",
       "404      0          17765   27.7208              D40        C  \n",
       "405      0  SC/PARIS 2166   13.8625              D38        C  \n",
       "407      1         113503  211.5000              C80        C  \n",
       "411      0          19928   90.0000              C78        Q  \n",
       "414      0       PC 17758  108.9000             C105        C  \n",
       "\n",
       "[91 rows x 12 columns]"
      ]
     },
     "execution_count": 189,
     "metadata": {},
     "output_type": "execute_result"
    }
   ],
   "source": [
    "tid"
   ]
  },
  {
   "cell_type": "code",
   "execution_count": 191,
   "id": "71e4c0a7",
   "metadata": {},
   "outputs": [
    {
     "data": {
      "text/plain": [
       "PassengerId    0\n",
       "Survived       0\n",
       "Pclass         0\n",
       "Name           0\n",
       "Sex            0\n",
       "Age            0\n",
       "SibSp          0\n",
       "Parch          0\n",
       "Ticket         0\n",
       "Fare           0\n",
       "Cabin          0\n",
       "Embarked       0\n",
       "dtype: int64"
      ]
     },
     "execution_count": 191,
     "metadata": {},
     "output_type": "execute_result"
    }
   ],
   "source": [
    "tid.isnull().sum()"
   ]
  },
  {
   "cell_type": "code",
   "execution_count": 192,
   "id": "0a48fe0c",
   "metadata": {},
   "outputs": [
    {
     "data": {
      "text/plain": [
       "False    91\n",
       "dtype: int64"
      ]
     },
     "execution_count": 192,
     "metadata": {},
     "output_type": "execute_result"
    }
   ],
   "source": [
    "tid.duplicated().value_counts()"
   ]
  },
  {
   "cell_type": "code",
   "execution_count": 193,
   "id": "2baf38da",
   "metadata": {},
   "outputs": [
    {
     "name": "stdout",
     "output_type": "stream",
     "text": [
      "<class 'pandas.core.frame.DataFrame'>\n",
      "Int64Index: 91 entries, 12 to 414\n",
      "Data columns (total 12 columns):\n",
      " #   Column       Non-Null Count  Dtype  \n",
      "---  ------       --------------  -----  \n",
      " 0   PassengerId  91 non-null     int64  \n",
      " 1   Survived     91 non-null     int64  \n",
      " 2   Pclass       91 non-null     int64  \n",
      " 3   Name         91 non-null     object \n",
      " 4   Sex          91 non-null     object \n",
      " 5   Age          91 non-null     float64\n",
      " 6   SibSp        91 non-null     int64  \n",
      " 7   Parch        91 non-null     int64  \n",
      " 8   Ticket       91 non-null     object \n",
      " 9   Fare         91 non-null     float64\n",
      " 10  Cabin        91 non-null     object \n",
      " 11  Embarked     91 non-null     object \n",
      "dtypes: float64(2), int64(5), object(5)\n",
      "memory usage: 9.2+ KB\n"
     ]
    }
   ],
   "source": [
    "tid.info()"
   ]
  },
  {
   "cell_type": "code",
   "execution_count": 199,
   "id": "c92a8fa8",
   "metadata": {},
   "outputs": [
    {
     "data": {
      "text/plain": [
       "B57 B59 B63 B66    3\n",
       "B45                2\n",
       "C89                2\n",
       "C55 C57            2\n",
       "A34                2\n",
       "                  ..\n",
       "E52                1\n",
       "D30                1\n",
       "E31                1\n",
       "C62 C64            1\n",
       "C105               1\n",
       "Name: Cabin, Length: 76, dtype: int64"
      ]
     },
     "execution_count": 199,
     "metadata": {},
     "output_type": "execute_result"
    }
   ],
   "source": [
    "data=tid['Cabin'].value_counts()\n",
    "data"
   ]
  },
  {
   "cell_type": "code",
   "execution_count": 208,
   "id": "daaa00aa",
   "metadata": {},
   "outputs": [],
   "source": [
    "data=tid.drop(columns=['Cabin','SibSp','Ticket','Parch','PassengerId','Name'])"
   ]
  },
  {
   "cell_type": "code",
   "execution_count": 209,
   "id": "9703d6f2",
   "metadata": {},
   "outputs": [
    {
     "name": "stdout",
     "output_type": "stream",
     "text": [
      "<class 'pandas.core.frame.DataFrame'>\n",
      "Int64Index: 91 entries, 12 to 414\n",
      "Data columns (total 6 columns):\n",
      " #   Column    Non-Null Count  Dtype  \n",
      "---  ------    --------------  -----  \n",
      " 0   Survived  91 non-null     int64  \n",
      " 1   Pclass    91 non-null     int64  \n",
      " 2   Sex       91 non-null     object \n",
      " 3   Age       91 non-null     float64\n",
      " 4   Fare      91 non-null     float64\n",
      " 5   Embarked  91 non-null     object \n",
      "dtypes: float64(2), int64(2), object(2)\n",
      "memory usage: 5.0+ KB\n"
     ]
    }
   ],
   "source": [
    "data.info()"
   ]
  },
  {
   "cell_type": "code",
   "execution_count": 210,
   "id": "ef9b5f08",
   "metadata": {},
   "outputs": [],
   "source": [
    "data['Fare']=data['Fare'].astype('int64')"
   ]
  },
  {
   "cell_type": "code",
   "execution_count": 211,
   "id": "d01475da",
   "metadata": {},
   "outputs": [],
   "source": [
    "data['Age']=data['Age'].astype('int64')"
   ]
  },
  {
   "cell_type": "code",
   "execution_count": 212,
   "id": "482e227a",
   "metadata": {},
   "outputs": [
    {
     "name": "stdout",
     "output_type": "stream",
     "text": [
      "<class 'pandas.core.frame.DataFrame'>\n",
      "Int64Index: 91 entries, 12 to 414\n",
      "Data columns (total 6 columns):\n",
      " #   Column    Non-Null Count  Dtype \n",
      "---  ------    --------------  ----- \n",
      " 0   Survived  91 non-null     int64 \n",
      " 1   Pclass    91 non-null     int64 \n",
      " 2   Sex       91 non-null     object\n",
      " 3   Age       91 non-null     int64 \n",
      " 4   Fare      91 non-null     int64 \n",
      " 5   Embarked  91 non-null     object\n",
      "dtypes: int64(4), object(2)\n",
      "memory usage: 5.0+ KB\n"
     ]
    }
   ],
   "source": [
    "data.info()"
   ]
  },
  {
   "cell_type": "code",
   "execution_count": 214,
   "id": "a2149692",
   "metadata": {},
   "outputs": [
    {
     "data": {
      "text/plain": [
       "C    49\n",
       "S    41\n",
       "Q     1\n",
       "Name: Embarked, dtype: int64"
      ]
     },
     "execution_count": 214,
     "metadata": {},
     "output_type": "execute_result"
    }
   ],
   "source": [
    "data['Embarked'].value_counts()"
   ]
  },
  {
   "cell_type": "code",
   "execution_count": 215,
   "id": "b55e110d",
   "metadata": {},
   "outputs": [],
   "source": [
    "data['Embarked']=data['Embarked'].map({'C':0,'S':1,'Q':2})"
   ]
  },
  {
   "cell_type": "code",
   "execution_count": 216,
   "id": "ccc425c0",
   "metadata": {},
   "outputs": [
    {
     "name": "stdout",
     "output_type": "stream",
     "text": [
      "<class 'pandas.core.frame.DataFrame'>\n",
      "Int64Index: 91 entries, 12 to 414\n",
      "Data columns (total 6 columns):\n",
      " #   Column    Non-Null Count  Dtype \n",
      "---  ------    --------------  ----- \n",
      " 0   Survived  91 non-null     int64 \n",
      " 1   Pclass    91 non-null     int64 \n",
      " 2   Sex       91 non-null     object\n",
      " 3   Age       91 non-null     int64 \n",
      " 4   Fare      91 non-null     int64 \n",
      " 5   Embarked  91 non-null     int64 \n",
      "dtypes: int64(5), object(1)\n",
      "memory usage: 5.0+ KB\n"
     ]
    }
   ],
   "source": [
    "data.info()"
   ]
  },
  {
   "cell_type": "code",
   "execution_count": 217,
   "id": "364c97c0",
   "metadata": {},
   "outputs": [],
   "source": [
    "x=data.iloc[:,[0,1,3,4,5]].values"
   ]
  },
  {
   "cell_type": "code",
   "execution_count": 218,
   "id": "30de309d",
   "metadata": {},
   "outputs": [
    {
     "data": {
      "text/plain": [
       "array([[  1,   1,  23,  82,   1],\n",
       "       [  1,   1,  47,  61,   1],\n",
       "       [  1,   1,  48, 262,   0],\n",
       "       [  1,   1,  22,  61,   0],\n",
       "       [  0,   1,  41,  30,   1],\n",
       "       [  0,   1,  30,  57,   0],\n",
       "       [  0,   1,  30,  26,   1],\n",
       "       [  1,   1,  45,  52,   1],\n",
       "       [  0,   1,  45,  29,   0],\n",
       "       [  1,   1,  60,  76,   0],\n",
       "       [  0,   1,  24,  60,   1],\n",
       "       [  1,   1,  28, 263,   1],\n",
       "       [  0,   3,  25,   7,   1],\n",
       "       [  1,   1,  36, 262,   0],\n",
       "       [  0,   1,  13, 262,   0],\n",
       "       [  0,   1,  31,  28,   0],\n",
       "       [  1,   1,  60, 263,   1],\n",
       "       [  0,   1,  28,  27,   0],\n",
       "       [  1,   1,  35, 211,   0],\n",
       "       [  0,   1,  32, 211,   0],\n",
       "       [  1,   1,  55,  25,   1],\n",
       "       [  0,   1,  67, 221,   1],\n",
       "       [  1,   1,  27,  52,   1],\n",
       "       [  1,   1,  76,  78,   1],\n",
       "       [  1,   1,  43,  55,   0],\n",
       "       [  0,   2,  18,  13,   1],\n",
       "       [  1,   1,  36,  31,   0],\n",
       "       [  1,   1,  63, 221,   1],\n",
       "       [  1,   3,   1,  16,   1],\n",
       "       [  0,   1,  36,  75,   0],\n",
       "       [  1,   1,  35,  57,   0],\n",
       "       [  0,   1,  53,  28,   0],\n",
       "       [  0,   1,  61, 262,   0],\n",
       "       [  0,   1,  30,  51,   1],\n",
       "       [  1,   1,  23,  83,   0],\n",
       "       [  1,   1,  29, 221,   1],\n",
       "       [  0,   1,  42,  26,   1],\n",
       "       [  0,   1,  48,  50,   0],\n",
       "       [  0,   1,  54,  55,   0],\n",
       "       [  1,   2,  36,  39,   1],\n",
       "       [  1,   1,  64,  83,   0],\n",
       "       [  0,   1,  37,  83,   0],\n",
       "       [  1,   1,  18,  53,   1],\n",
       "       [  1,   1,  27, 247,   0],\n",
       "       [  0,   1,   6, 134,   0],\n",
       "       [  0,   1,  47, 227,   0],\n",
       "       [  1,   1,  33,  27,   0],\n",
       "       [  0,   1,  42,  42,   1],\n",
       "       [  1,   1,  50, 211,   0],\n",
       "       [  1,   2,  22,  10,   1],\n",
       "       [  0,   1,  39,  71,   0],\n",
       "       [  0,   1,  64,  75,   0],\n",
       "       [  1,   1,  48, 106,   0],\n",
       "       [  0,   1,  45, 134,   0],\n",
       "       [  0,   1,  41,  51,   1],\n",
       "       [  0,   1,  27, 136,   0],\n",
       "       [  0,   1,  46,  75,   0],\n",
       "       [  1,   1,  26, 136,   0],\n",
       "       [  0,   1,  24,  82,   1],\n",
       "       [  0,   3,  30,   7,   0],\n",
       "       [  0,   1,  53,  81,   1],\n",
       "       [  0,   2,  30,  15,   0],\n",
       "       [  1,   1,  64,  26,   1],\n",
       "       [  0,   1,  30, 151,   1],\n",
       "       [  0,   1,  55,  93,   1],\n",
       "       [  1,   1,  55, 135,   0],\n",
       "       [  0,   1,  57, 146,   0],\n",
       "       [  0,   3,  25,   7,   0],\n",
       "       [  0,   2,  26,  13,   1],\n",
       "       [  1,   2,  12,  39,   1],\n",
       "       [  0,   1,  39,  29,   0],\n",
       "       [  0,   1,  30,  26,   1],\n",
       "       [  1,   1,  58, 512,   0],\n",
       "       [  1,   1,  45,  63,   0],\n",
       "       [  0,   1,  50,  26,   1],\n",
       "       [  1,   1,  59,  51,   1],\n",
       "       [  1,   1,  25,  55,   0],\n",
       "       [  1,   1,  31, 134,   0],\n",
       "       [  0,   1,  49,   0,   1],\n",
       "       [  1,   1,  54,  81,   1],\n",
       "       [  0,   1,  55,  50,   1],\n",
       "       [  0,   1,  23,  93,   1],\n",
       "       [  1,   1,  51,  39,   1],\n",
       "       [  1,   1,  18,  60,   1],\n",
       "       [  1,   1,  48,  79,   0],\n",
       "       [  1,   1,  30, 164,   1],\n",
       "       [  0,   1,  43,  27,   0],\n",
       "       [  0,   2,  20,  13,   0],\n",
       "       [  0,   1,  50, 211,   0],\n",
       "       [  1,   1,  37,  90,   2],\n",
       "       [  1,   1,  39, 108,   0]], dtype=int64)"
      ]
     },
     "execution_count": 218,
     "metadata": {},
     "output_type": "execute_result"
    }
   ],
   "source": [
    "x"
   ]
  },
  {
   "cell_type": "code",
   "execution_count": 219,
   "id": "9539d2ac",
   "metadata": {},
   "outputs": [],
   "source": [
    "y=data.iloc[:,2].values"
   ]
  },
  {
   "cell_type": "code",
   "execution_count": 220,
   "id": "cf9fbad7",
   "metadata": {},
   "outputs": [
    {
     "data": {
      "text/plain": [
       "array(['female', 'female', 'female', 'female', 'male', 'male', 'male',\n",
       "       'female', 'male', 'female', 'male', 'female', 'male', 'female',\n",
       "       'male', 'male', 'female', 'male', 'female', 'male', 'female',\n",
       "       'male', 'female', 'female', 'female', 'male', 'female', 'female',\n",
       "       'female', 'male', 'female', 'male', 'male', 'male', 'female',\n",
       "       'female', 'male', 'male', 'male', 'female', 'female', 'male',\n",
       "       'female', 'female', 'male', 'male', 'female', 'male', 'female',\n",
       "       'female', 'male', 'male', 'female', 'male', 'male', 'male', 'male',\n",
       "       'female', 'male', 'male', 'male', 'male', 'female', 'male', 'male',\n",
       "       'female', 'male', 'male', 'male', 'female', 'male', 'male',\n",
       "       'female', 'female', 'male', 'female', 'female', 'female', 'male',\n",
       "       'female', 'male', 'male', 'female', 'female', 'female', 'female',\n",
       "       'male', 'male', 'male', 'female', 'female'], dtype=object)"
      ]
     },
     "execution_count": 220,
     "metadata": {},
     "output_type": "execute_result"
    }
   ],
   "source": [
    "y"
   ]
  },
  {
   "cell_type": "code",
   "execution_count": 221,
   "id": "68648195",
   "metadata": {},
   "outputs": [],
   "source": [
    "from sklearn.preprocessing import LabelEncoder"
   ]
  },
  {
   "cell_type": "code",
   "execution_count": 222,
   "id": "507c638a",
   "metadata": {},
   "outputs": [],
   "source": [
    "labelencoder_y=LabelEncoder()"
   ]
  },
  {
   "cell_type": "code",
   "execution_count": 223,
   "id": "f0c7d286",
   "metadata": {},
   "outputs": [],
   "source": [
    "Y=labelencoder_y.fit_transform(y)"
   ]
  },
  {
   "cell_type": "code",
   "execution_count": 224,
   "id": "fd177771",
   "metadata": {},
   "outputs": [
    {
     "data": {
      "text/plain": [
       "array([0, 0, 0, 0, 1, 1, 1, 0, 1, 0, 1, 0, 1, 0, 1, 1, 0, 1, 0, 1, 0, 1,\n",
       "       0, 0, 0, 1, 0, 0, 0, 1, 0, 1, 1, 1, 0, 0, 1, 1, 1, 0, 0, 1, 0, 0,\n",
       "       1, 1, 0, 1, 0, 0, 1, 1, 0, 1, 1, 1, 1, 0, 1, 1, 1, 1, 0, 1, 1, 0,\n",
       "       1, 1, 1, 0, 1, 1, 0, 0, 1, 0, 0, 0, 1, 0, 1, 1, 0, 0, 0, 0, 1, 1,\n",
       "       1, 0, 0])"
      ]
     },
     "execution_count": 224,
     "metadata": {},
     "output_type": "execute_result"
    }
   ],
   "source": [
    "Y"
   ]
  },
  {
   "cell_type": "code",
   "execution_count": 225,
   "id": "c1a95afa",
   "metadata": {},
   "outputs": [
    {
     "data": {
      "text/plain": [
       "array([0, 0, 0, 0, 0, 0, 0, 0, 0, 0, 0, 0, 0, 0, 0, 0, 0, 0, 0, 0, 0, 0,\n",
       "       0, 0, 0, 0, 0, 0, 0, 0, 0, 0, 0, 0, 0, 0, 0, 0, 0, 0, 0, 0, 0, 0,\n",
       "       1, 1, 1, 1, 1, 1, 1, 1, 1, 1, 1, 1, 1, 1, 1, 1, 1, 1, 1, 1, 1, 1,\n",
       "       1, 1, 1, 1, 1, 1, 1, 1, 1, 1, 1, 1, 1, 1, 1, 1, 1, 1, 1, 1, 1, 1,\n",
       "       1, 1, 1])"
      ]
     },
     "execution_count": 225,
     "metadata": {},
     "output_type": "execute_result"
    }
   ],
   "source": [
    "np.sort(Y)"
   ]
  },
  {
   "cell_type": "code",
   "execution_count": 226,
   "id": "fe9f2d4c",
   "metadata": {},
   "outputs": [],
   "source": [
    "from sklearn.model_selection import train_test_split"
   ]
  },
  {
   "cell_type": "code",
   "execution_count": 227,
   "id": "aba233f7",
   "metadata": {},
   "outputs": [],
   "source": [
    "x_train,x_test,y_train,y_test=train_test_split(x,y,test_size=0.3)"
   ]
  },
  {
   "cell_type": "code",
   "execution_count": 229,
   "id": "95fe5f81",
   "metadata": {},
   "outputs": [
    {
     "name": "stdout",
     "output_type": "stream",
     "text": [
      "315\n"
     ]
    }
   ],
   "source": [
    "print(x_train.size)"
   ]
  },
  {
   "cell_type": "code",
   "execution_count": 230,
   "id": "481fb4a2",
   "metadata": {},
   "outputs": [],
   "source": [
    "from sklearn.linear_model import LogisticRegression"
   ]
  },
  {
   "cell_type": "code",
   "execution_count": 231,
   "id": "a53e4093",
   "metadata": {},
   "outputs": [],
   "source": [
    "logModel= LogisticRegression()"
   ]
  },
  {
   "cell_type": "code",
   "execution_count": 232,
   "id": "85d90dca",
   "metadata": {},
   "outputs": [
    {
     "data": {
      "text/plain": [
       "LogisticRegression()"
      ]
     },
     "execution_count": 232,
     "metadata": {},
     "output_type": "execute_result"
    }
   ],
   "source": [
    "logModel.fit(x_train,y_train)"
   ]
  },
  {
   "cell_type": "code",
   "execution_count": 233,
   "id": "ab3cf839",
   "metadata": {},
   "outputs": [],
   "source": [
    "y_pred_log=logModel.predict(x_test)"
   ]
  },
  {
   "cell_type": "code",
   "execution_count": 234,
   "id": "7b16c9a9",
   "metadata": {},
   "outputs": [
    {
     "data": {
      "text/plain": [
       "array(['female', 'male', 'female', 'female', 'female', 'female', 'male',\n",
       "       'female', 'male', 'male', 'male', 'female', 'female', 'male',\n",
       "       'female', 'female', 'female', 'female', 'male', 'female', 'male',\n",
       "       'female', 'male', 'female', 'female', 'female', 'male', 'male'],\n",
       "      dtype=object)"
      ]
     },
     "execution_count": 234,
     "metadata": {},
     "output_type": "execute_result"
    }
   ],
   "source": [
    "y_pred_log"
   ]
  },
  {
   "cell_type": "code",
   "execution_count": 235,
   "id": "ea9694a8",
   "metadata": {},
   "outputs": [],
   "source": [
    "from sklearn.metrics import confusion_matrix"
   ]
  },
  {
   "cell_type": "code",
   "execution_count": 237,
   "id": "f07c9a12",
   "metadata": {},
   "outputs": [
    {
     "data": {
      "text/plain": [
       "array([[17,  0],\n",
       "       [ 0, 11]], dtype=int64)"
      ]
     },
     "execution_count": 237,
     "metadata": {},
     "output_type": "execute_result"
    }
   ],
   "source": [
    "confusion_matrix(y_test,y_pred_log)"
   ]
  },
  {
   "cell_type": "code",
   "execution_count": 238,
   "id": "6308b3eb",
   "metadata": {},
   "outputs": [],
   "source": [
    "from sklearn.metrics import accuracy_score"
   ]
  },
  {
   "cell_type": "code",
   "execution_count": 240,
   "id": "6d7bcb85",
   "metadata": {},
   "outputs": [
    {
     "data": {
      "text/plain": [
       "1.0"
      ]
     },
     "execution_count": 240,
     "metadata": {},
     "output_type": "execute_result"
    }
   ],
   "source": [
    "accuracy_score(y_test,y_pred_log)"
   ]
  },
  {
   "cell_type": "code",
   "execution_count": 241,
   "id": "6a1cfbc0",
   "metadata": {},
   "outputs": [
    {
     "data": {
      "text/plain": [
       "1.0"
      ]
     },
     "execution_count": 241,
     "metadata": {},
     "output_type": "execute_result"
    }
   ],
   "source": [
    "logModel.score(x_test,y_test)"
   ]
  },
  {
   "cell_type": "code",
   "execution_count": 242,
   "id": "fe46a765",
   "metadata": {},
   "outputs": [],
   "source": [
    "from sklearn.neighbors import KNeighborsClassifier"
   ]
  },
  {
   "cell_type": "code",
   "execution_count": 243,
   "id": "4cfb868f",
   "metadata": {},
   "outputs": [],
   "source": [
    "klog=KNeighborsClassifier(n_neighbors=5,metric='minkowski',p=2)"
   ]
  },
  {
   "cell_type": "code",
   "execution_count": 244,
   "id": "2c42fae5",
   "metadata": {},
   "outputs": [
    {
     "data": {
      "text/plain": [
       "KNeighborsClassifier()"
      ]
     },
     "execution_count": 244,
     "metadata": {},
     "output_type": "execute_result"
    }
   ],
   "source": [
    "klog.fit(x_train,y_train)"
   ]
  },
  {
   "cell_type": "code",
   "execution_count": 245,
   "id": "65b38b26",
   "metadata": {},
   "outputs": [
    {
     "name": "stderr",
     "output_type": "stream",
     "text": [
      "C:\\ProgramData\\Anaconda3\\lib\\site-packages\\sklearn\\neighbors\\_classification.py:228: FutureWarning: Unlike other reduction functions (e.g. `skew`, `kurtosis`), the default behavior of `mode` typically preserves the axis it acts along. In SciPy 1.11.0, this behavior will change: the default value of `keepdims` will become False, the `axis` over which the statistic is taken will be eliminated, and the value None will no longer be accepted. Set `keepdims` to True or False to avoid this warning.\n",
      "  mode, _ = stats.mode(_y[neigh_ind, k], axis=1)\n"
     ]
    }
   ],
   "source": [
    "y_pred_kn=klog.predict(x_test)"
   ]
  },
  {
   "cell_type": "code",
   "execution_count": 246,
   "id": "0f9a0faa",
   "metadata": {},
   "outputs": [],
   "source": [
    "confusion_matrix=(y_test,y_pred_kn)"
   ]
  },
  {
   "cell_type": "code",
   "execution_count": 247,
   "id": "fb2d1082",
   "metadata": {},
   "outputs": [
    {
     "data": {
      "text/plain": [
       "(array(['female', 'male', 'female', 'female', 'female', 'female', 'male',\n",
       "        'female', 'male', 'male', 'male', 'female', 'female', 'male',\n",
       "        'female', 'female', 'female', 'female', 'male', 'female', 'male',\n",
       "        'female', 'male', 'female', 'female', 'female', 'male', 'male'],\n",
       "       dtype=object),\n",
       " array(['male', 'male', 'female', 'male', 'male', 'male', 'male', 'male',\n",
       "        'female', 'male', 'male', 'male', 'male', 'male', 'female', 'male',\n",
       "        'male', 'male', 'female', 'female', 'male', 'male', 'male', 'male',\n",
       "        'male', 'male', 'male', 'male'], dtype=object))"
      ]
     },
     "execution_count": 247,
     "metadata": {},
     "output_type": "execute_result"
    }
   ],
   "source": [
    "confusion_matrix"
   ]
  },
  {
   "cell_type": "code",
   "execution_count": 248,
   "id": "14a83ef1",
   "metadata": {},
   "outputs": [
    {
     "name": "stderr",
     "output_type": "stream",
     "text": [
      "C:\\ProgramData\\Anaconda3\\lib\\site-packages\\sklearn\\neighbors\\_classification.py:228: FutureWarning: Unlike other reduction functions (e.g. `skew`, `kurtosis`), the default behavior of `mode` typically preserves the axis it acts along. In SciPy 1.11.0, this behavior will change: the default value of `keepdims` will become False, the `axis` over which the statistic is taken will be eliminated, and the value None will no longer be accepted. Set `keepdims` to True or False to avoid this warning.\n",
      "  mode, _ = stats.mode(_y[neigh_ind, k], axis=1)\n"
     ]
    },
    {
     "data": {
      "text/plain": [
       "0.42857142857142855"
      ]
     },
     "execution_count": 248,
     "metadata": {},
     "output_type": "execute_result"
    }
   ],
   "source": [
    "klog.score(x_test,y_test)"
   ]
  },
  {
   "cell_type": "code",
   "execution_count": null,
   "id": "083c6611",
   "metadata": {},
   "outputs": [],
   "source": []
  }
 ],
 "metadata": {
  "kernelspec": {
   "display_name": "Python 3 (ipykernel)",
   "language": "python",
   "name": "python3"
  },
  "language_info": {
   "codemirror_mode": {
    "name": "ipython",
    "version": 3
   },
   "file_extension": ".py",
   "mimetype": "text/x-python",
   "name": "python",
   "nbconvert_exporter": "python",
   "pygments_lexer": "ipython3",
   "version": "3.9.13"
  }
 },
 "nbformat": 4,
 "nbformat_minor": 5
}
